{
 "cells": [
  {
   "cell_type": "markdown",
   "metadata": {},
   "source": [
    "# Packages #"
   ]
  },
  {
   "cell_type": "code",
   "execution_count": 3,
   "metadata": {},
   "outputs": [],
   "source": [
    "library()"
   ]
  },
  {
   "cell_type": "code",
   "execution_count": 12,
   "metadata": {},
   "outputs": [],
   "source": [
    "library(help = \"datasets\")"
   ]
  },
  {
   "cell_type": "code",
   "execution_count": 10,
   "metadata": {},
   "outputs": [],
   "source": [
    "data(mtcars)"
   ]
  },
  {
   "cell_type": "code",
   "execution_count": 11,
   "metadata": {},
   "outputs": [
    {
     "data": {
      "text/html": [
       "<table>\n",
       "<thead><tr><th></th><th scope=col>mpg</th><th scope=col>cyl</th><th scope=col>disp</th><th scope=col>hp</th><th scope=col>drat</th><th scope=col>wt</th><th scope=col>qsec</th><th scope=col>vs</th><th scope=col>am</th><th scope=col>gear</th><th scope=col>carb</th></tr></thead>\n",
       "<tbody>\n",
       "\t<tr><th scope=row>Mazda RX4</th><td>21.0 </td><td>6    </td><td>160  </td><td>110  </td><td>3.90 </td><td>2.620</td><td>16.46</td><td>0    </td><td>1    </td><td>4    </td><td>4    </td></tr>\n",
       "\t<tr><th scope=row>Mazda RX4 Wag</th><td>21.0 </td><td>6    </td><td>160  </td><td>110  </td><td>3.90 </td><td>2.875</td><td>17.02</td><td>0    </td><td>1    </td><td>4    </td><td>4    </td></tr>\n",
       "\t<tr><th scope=row>Datsun 710</th><td>22.8 </td><td>4    </td><td>108  </td><td> 93  </td><td>3.85 </td><td>2.320</td><td>18.61</td><td>1    </td><td>1    </td><td>4    </td><td>1    </td></tr>\n",
       "\t<tr><th scope=row>Hornet 4 Drive</th><td>21.4 </td><td>6    </td><td>258  </td><td>110  </td><td>3.08 </td><td>3.215</td><td>19.44</td><td>1    </td><td>0    </td><td>3    </td><td>1    </td></tr>\n",
       "\t<tr><th scope=row>Hornet Sportabout</th><td>18.7 </td><td>8    </td><td>360  </td><td>175  </td><td>3.15 </td><td>3.440</td><td>17.02</td><td>0    </td><td>0    </td><td>3    </td><td>2    </td></tr>\n",
       "\t<tr><th scope=row>Valiant</th><td>18.1 </td><td>6    </td><td>225  </td><td>105  </td><td>2.76 </td><td>3.460</td><td>20.22</td><td>1    </td><td>0    </td><td>3    </td><td>1    </td></tr>\n",
       "</tbody>\n",
       "</table>\n"
      ],
      "text/latex": [
       "\\begin{tabular}{r|lllllllllll}\n",
       "  & mpg & cyl & disp & hp & drat & wt & qsec & vs & am & gear & carb\\\\\n",
       "\\hline\n",
       "\tMazda RX4 & 21.0  & 6     & 160   & 110   & 3.90  & 2.620 & 16.46 & 0     & 1     & 4     & 4    \\\\\n",
       "\tMazda RX4 Wag & 21.0  & 6     & 160   & 110   & 3.90  & 2.875 & 17.02 & 0     & 1     & 4     & 4    \\\\\n",
       "\tDatsun 710 & 22.8  & 4     & 108   &  93   & 3.85  & 2.320 & 18.61 & 1     & 1     & 4     & 1    \\\\\n",
       "\tHornet 4 Drive & 21.4  & 6     & 258   & 110   & 3.08  & 3.215 & 19.44 & 1     & 0     & 3     & 1    \\\\\n",
       "\tHornet Sportabout & 18.7  & 8     & 360   & 175   & 3.15  & 3.440 & 17.02 & 0     & 0     & 3     & 2    \\\\\n",
       "\tValiant & 18.1  & 6     & 225   & 105   & 2.76  & 3.460 & 20.22 & 1     & 0     & 3     & 1    \\\\\n",
       "\\end{tabular}\n"
      ],
      "text/markdown": [
       "\n",
       "| <!--/--> | mpg | cyl | disp | hp | drat | wt | qsec | vs | am | gear | carb |\n",
       "|---|---|---|---|---|---|---|---|---|---|---|---|\n",
       "| Mazda RX4 | 21.0  | 6     | 160   | 110   | 3.90  | 2.620 | 16.46 | 0     | 1     | 4     | 4     |\n",
       "| Mazda RX4 Wag | 21.0  | 6     | 160   | 110   | 3.90  | 2.875 | 17.02 | 0     | 1     | 4     | 4     |\n",
       "| Datsun 710 | 22.8  | 4     | 108   |  93   | 3.85  | 2.320 | 18.61 | 1     | 1     | 4     | 1     |\n",
       "| Hornet 4 Drive | 21.4  | 6     | 258   | 110   | 3.08  | 3.215 | 19.44 | 1     | 0     | 3     | 1     |\n",
       "| Hornet Sportabout | 18.7  | 8     | 360   | 175   | 3.15  | 3.440 | 17.02 | 0     | 0     | 3     | 2     |\n",
       "| Valiant | 18.1  | 6     | 225   | 105   | 2.76  | 3.460 | 20.22 | 1     | 0     | 3     | 1     |\n",
       "\n"
      ],
      "text/plain": [
       "                  mpg  cyl disp hp  drat wt    qsec  vs am gear carb\n",
       "Mazda RX4         21.0 6   160  110 3.90 2.620 16.46 0  1  4    4   \n",
       "Mazda RX4 Wag     21.0 6   160  110 3.90 2.875 17.02 0  1  4    4   \n",
       "Datsun 710        22.8 4   108   93 3.85 2.320 18.61 1  1  4    1   \n",
       "Hornet 4 Drive    21.4 6   258  110 3.08 3.215 19.44 1  0  3    1   \n",
       "Hornet Sportabout 18.7 8   360  175 3.15 3.440 17.02 0  0  3    2   \n",
       "Valiant           18.1 6   225  105 2.76 3.460 20.22 1  0  3    1   "
      ]
     },
     "metadata": {},
     "output_type": "display_data"
    }
   ],
   "source": [
    "head(mtcars)"
   ]
  },
  {
   "cell_type": "code",
   "execution_count": 9,
   "metadata": {},
   "outputs": [
    {
     "name": "stderr",
     "output_type": "stream",
     "text": [
      "Loading required package: tidyverse\n",
      "── Attaching packages ─────────────────────────────────────── tidyverse 1.2.1 ──\n",
      "✔ tibble  2.1.1       ✔ purrr   0.3.2  \n",
      "✔ tidyr   0.8.3       ✔ dplyr   0.8.0.1\n",
      "✔ readr   1.3.1       ✔ stringr 1.4.0  \n",
      "✔ tibble  2.1.1       ✔ forcats 0.4.0  \n",
      "── Conflicts ────────────────────────────────────────── tidyverse_conflicts() ──\n",
      "✖ dplyr::filter() masks stats::filter()\n",
      "✖ dplyr::lag()    masks stats::lag()\n"
     ]
    }
   ],
   "source": [
    "require(tidyverse)"
   ]
  },
  {
   "cell_type": "code",
   "execution_count": 14,
   "metadata": {},
   "outputs": [],
   "source": [
    "subset_data = subset(mtcars, mpg< 20)"
   ]
  },
  {
   "cell_type": "code",
   "execution_count": 15,
   "metadata": {},
   "outputs": [
    {
     "data": {
      "text/html": [
       "<table>\n",
       "<thead><tr><th></th><th scope=col>mpg</th><th scope=col>cyl</th><th scope=col>disp</th><th scope=col>hp</th><th scope=col>drat</th><th scope=col>wt</th><th scope=col>qsec</th><th scope=col>vs</th><th scope=col>am</th><th scope=col>gear</th><th scope=col>carb</th></tr></thead>\n",
       "<tbody>\n",
       "\t<tr><th scope=row>Hornet Sportabout</th><td>18.7 </td><td>8    </td><td>360.0</td><td>175  </td><td>3.15 </td><td>3.440</td><td>17.02</td><td>0    </td><td>0    </td><td>3    </td><td>2    </td></tr>\n",
       "\t<tr><th scope=row>Valiant</th><td>18.1 </td><td>6    </td><td>225.0</td><td>105  </td><td>2.76 </td><td>3.460</td><td>20.22</td><td>1    </td><td>0    </td><td>3    </td><td>1    </td></tr>\n",
       "\t<tr><th scope=row>Duster 360</th><td>14.3 </td><td>8    </td><td>360.0</td><td>245  </td><td>3.21 </td><td>3.570</td><td>15.84</td><td>0    </td><td>0    </td><td>3    </td><td>4    </td></tr>\n",
       "\t<tr><th scope=row>Merc 280</th><td>19.2 </td><td>6    </td><td>167.6</td><td>123  </td><td>3.92 </td><td>3.440</td><td>18.30</td><td>1    </td><td>0    </td><td>4    </td><td>4    </td></tr>\n",
       "\t<tr><th scope=row>Merc 280C</th><td>17.8 </td><td>6    </td><td>167.6</td><td>123  </td><td>3.92 </td><td>3.440</td><td>18.90</td><td>1    </td><td>0    </td><td>4    </td><td>4    </td></tr>\n",
       "\t<tr><th scope=row>Merc 450SE</th><td>16.4 </td><td>8    </td><td>275.8</td><td>180  </td><td>3.07 </td><td>4.070</td><td>17.40</td><td>0    </td><td>0    </td><td>3    </td><td>3    </td></tr>\n",
       "\t<tr><th scope=row>Merc 450SL</th><td>17.3 </td><td>8    </td><td>275.8</td><td>180  </td><td>3.07 </td><td>3.730</td><td>17.60</td><td>0    </td><td>0    </td><td>3    </td><td>3    </td></tr>\n",
       "\t<tr><th scope=row>Merc 450SLC</th><td>15.2 </td><td>8    </td><td>275.8</td><td>180  </td><td>3.07 </td><td>3.780</td><td>18.00</td><td>0    </td><td>0    </td><td>3    </td><td>3    </td></tr>\n",
       "\t<tr><th scope=row>Cadillac Fleetwood</th><td>10.4 </td><td>8    </td><td>472.0</td><td>205  </td><td>2.93 </td><td>5.250</td><td>17.98</td><td>0    </td><td>0    </td><td>3    </td><td>4    </td></tr>\n",
       "\t<tr><th scope=row>Lincoln Continental</th><td>10.4 </td><td>8    </td><td>460.0</td><td>215  </td><td>3.00 </td><td>5.424</td><td>17.82</td><td>0    </td><td>0    </td><td>3    </td><td>4    </td></tr>\n",
       "\t<tr><th scope=row>Chrysler Imperial</th><td>14.7 </td><td>8    </td><td>440.0</td><td>230  </td><td>3.23 </td><td>5.345</td><td>17.42</td><td>0    </td><td>0    </td><td>3    </td><td>4    </td></tr>\n",
       "\t<tr><th scope=row>Dodge Challenger</th><td>15.5 </td><td>8    </td><td>318.0</td><td>150  </td><td>2.76 </td><td>3.520</td><td>16.87</td><td>0    </td><td>0    </td><td>3    </td><td>2    </td></tr>\n",
       "\t<tr><th scope=row>AMC Javelin</th><td>15.2 </td><td>8    </td><td>304.0</td><td>150  </td><td>3.15 </td><td>3.435</td><td>17.30</td><td>0    </td><td>0    </td><td>3    </td><td>2    </td></tr>\n",
       "\t<tr><th scope=row>Camaro Z28</th><td>13.3 </td><td>8    </td><td>350.0</td><td>245  </td><td>3.73 </td><td>3.840</td><td>15.41</td><td>0    </td><td>0    </td><td>3    </td><td>4    </td></tr>\n",
       "\t<tr><th scope=row>Pontiac Firebird</th><td>19.2 </td><td>8    </td><td>400.0</td><td>175  </td><td>3.08 </td><td>3.845</td><td>17.05</td><td>0    </td><td>0    </td><td>3    </td><td>2    </td></tr>\n",
       "\t<tr><th scope=row>Ford Pantera L</th><td>15.8 </td><td>8    </td><td>351.0</td><td>264  </td><td>4.22 </td><td>3.170</td><td>14.50</td><td>0    </td><td>1    </td><td>5    </td><td>4    </td></tr>\n",
       "\t<tr><th scope=row>Ferrari Dino</th><td>19.7 </td><td>6    </td><td>145.0</td><td>175  </td><td>3.62 </td><td>2.770</td><td>15.50</td><td>0    </td><td>1    </td><td>5    </td><td>6    </td></tr>\n",
       "\t<tr><th scope=row>Maserati Bora</th><td>15.0 </td><td>8    </td><td>301.0</td><td>335  </td><td>3.54 </td><td>3.570</td><td>14.60</td><td>0    </td><td>1    </td><td>5    </td><td>8    </td></tr>\n",
       "</tbody>\n",
       "</table>\n"
      ],
      "text/latex": [
       "\\begin{tabular}{r|lllllllllll}\n",
       "  & mpg & cyl & disp & hp & drat & wt & qsec & vs & am & gear & carb\\\\\n",
       "\\hline\n",
       "\tHornet Sportabout & 18.7  & 8     & 360.0 & 175   & 3.15  & 3.440 & 17.02 & 0     & 0     & 3     & 2    \\\\\n",
       "\tValiant & 18.1  & 6     & 225.0 & 105   & 2.76  & 3.460 & 20.22 & 1     & 0     & 3     & 1    \\\\\n",
       "\tDuster 360 & 14.3  & 8     & 360.0 & 245   & 3.21  & 3.570 & 15.84 & 0     & 0     & 3     & 4    \\\\\n",
       "\tMerc 280 & 19.2  & 6     & 167.6 & 123   & 3.92  & 3.440 & 18.30 & 1     & 0     & 4     & 4    \\\\\n",
       "\tMerc 280C & 17.8  & 6     & 167.6 & 123   & 3.92  & 3.440 & 18.90 & 1     & 0     & 4     & 4    \\\\\n",
       "\tMerc 450SE & 16.4  & 8     & 275.8 & 180   & 3.07  & 4.070 & 17.40 & 0     & 0     & 3     & 3    \\\\\n",
       "\tMerc 450SL & 17.3  & 8     & 275.8 & 180   & 3.07  & 3.730 & 17.60 & 0     & 0     & 3     & 3    \\\\\n",
       "\tMerc 450SLC & 15.2  & 8     & 275.8 & 180   & 3.07  & 3.780 & 18.00 & 0     & 0     & 3     & 3    \\\\\n",
       "\tCadillac Fleetwood & 10.4  & 8     & 472.0 & 205   & 2.93  & 5.250 & 17.98 & 0     & 0     & 3     & 4    \\\\\n",
       "\tLincoln Continental & 10.4  & 8     & 460.0 & 215   & 3.00  & 5.424 & 17.82 & 0     & 0     & 3     & 4    \\\\\n",
       "\tChrysler Imperial & 14.7  & 8     & 440.0 & 230   & 3.23  & 5.345 & 17.42 & 0     & 0     & 3     & 4    \\\\\n",
       "\tDodge Challenger & 15.5  & 8     & 318.0 & 150   & 2.76  & 3.520 & 16.87 & 0     & 0     & 3     & 2    \\\\\n",
       "\tAMC Javelin & 15.2  & 8     & 304.0 & 150   & 3.15  & 3.435 & 17.30 & 0     & 0     & 3     & 2    \\\\\n",
       "\tCamaro Z28 & 13.3  & 8     & 350.0 & 245   & 3.73  & 3.840 & 15.41 & 0     & 0     & 3     & 4    \\\\\n",
       "\tPontiac Firebird & 19.2  & 8     & 400.0 & 175   & 3.08  & 3.845 & 17.05 & 0     & 0     & 3     & 2    \\\\\n",
       "\tFord Pantera L & 15.8  & 8     & 351.0 & 264   & 4.22  & 3.170 & 14.50 & 0     & 1     & 5     & 4    \\\\\n",
       "\tFerrari Dino & 19.7  & 6     & 145.0 & 175   & 3.62  & 2.770 & 15.50 & 0     & 1     & 5     & 6    \\\\\n",
       "\tMaserati Bora & 15.0  & 8     & 301.0 & 335   & 3.54  & 3.570 & 14.60 & 0     & 1     & 5     & 8    \\\\\n",
       "\\end{tabular}\n"
      ],
      "text/markdown": [
       "\n",
       "| <!--/--> | mpg | cyl | disp | hp | drat | wt | qsec | vs | am | gear | carb |\n",
       "|---|---|---|---|---|---|---|---|---|---|---|---|\n",
       "| Hornet Sportabout | 18.7  | 8     | 360.0 | 175   | 3.15  | 3.440 | 17.02 | 0     | 0     | 3     | 2     |\n",
       "| Valiant | 18.1  | 6     | 225.0 | 105   | 2.76  | 3.460 | 20.22 | 1     | 0     | 3     | 1     |\n",
       "| Duster 360 | 14.3  | 8     | 360.0 | 245   | 3.21  | 3.570 | 15.84 | 0     | 0     | 3     | 4     |\n",
       "| Merc 280 | 19.2  | 6     | 167.6 | 123   | 3.92  | 3.440 | 18.30 | 1     | 0     | 4     | 4     |\n",
       "| Merc 280C | 17.8  | 6     | 167.6 | 123   | 3.92  | 3.440 | 18.90 | 1     | 0     | 4     | 4     |\n",
       "| Merc 450SE | 16.4  | 8     | 275.8 | 180   | 3.07  | 4.070 | 17.40 | 0     | 0     | 3     | 3     |\n",
       "| Merc 450SL | 17.3  | 8     | 275.8 | 180   | 3.07  | 3.730 | 17.60 | 0     | 0     | 3     | 3     |\n",
       "| Merc 450SLC | 15.2  | 8     | 275.8 | 180   | 3.07  | 3.780 | 18.00 | 0     | 0     | 3     | 3     |\n",
       "| Cadillac Fleetwood | 10.4  | 8     | 472.0 | 205   | 2.93  | 5.250 | 17.98 | 0     | 0     | 3     | 4     |\n",
       "| Lincoln Continental | 10.4  | 8     | 460.0 | 215   | 3.00  | 5.424 | 17.82 | 0     | 0     | 3     | 4     |\n",
       "| Chrysler Imperial | 14.7  | 8     | 440.0 | 230   | 3.23  | 5.345 | 17.42 | 0     | 0     | 3     | 4     |\n",
       "| Dodge Challenger | 15.5  | 8     | 318.0 | 150   | 2.76  | 3.520 | 16.87 | 0     | 0     | 3     | 2     |\n",
       "| AMC Javelin | 15.2  | 8     | 304.0 | 150   | 3.15  | 3.435 | 17.30 | 0     | 0     | 3     | 2     |\n",
       "| Camaro Z28 | 13.3  | 8     | 350.0 | 245   | 3.73  | 3.840 | 15.41 | 0     | 0     | 3     | 4     |\n",
       "| Pontiac Firebird | 19.2  | 8     | 400.0 | 175   | 3.08  | 3.845 | 17.05 | 0     | 0     | 3     | 2     |\n",
       "| Ford Pantera L | 15.8  | 8     | 351.0 | 264   | 4.22  | 3.170 | 14.50 | 0     | 1     | 5     | 4     |\n",
       "| Ferrari Dino | 19.7  | 6     | 145.0 | 175   | 3.62  | 2.770 | 15.50 | 0     | 1     | 5     | 6     |\n",
       "| Maserati Bora | 15.0  | 8     | 301.0 | 335   | 3.54  | 3.570 | 14.60 | 0     | 1     | 5     | 8     |\n",
       "\n"
      ],
      "text/plain": [
       "                    mpg  cyl disp  hp  drat wt    qsec  vs am gear carb\n",
       "Hornet Sportabout   18.7 8   360.0 175 3.15 3.440 17.02 0  0  3    2   \n",
       "Valiant             18.1 6   225.0 105 2.76 3.460 20.22 1  0  3    1   \n",
       "Duster 360          14.3 8   360.0 245 3.21 3.570 15.84 0  0  3    4   \n",
       "Merc 280            19.2 6   167.6 123 3.92 3.440 18.30 1  0  4    4   \n",
       "Merc 280C           17.8 6   167.6 123 3.92 3.440 18.90 1  0  4    4   \n",
       "Merc 450SE          16.4 8   275.8 180 3.07 4.070 17.40 0  0  3    3   \n",
       "Merc 450SL          17.3 8   275.8 180 3.07 3.730 17.60 0  0  3    3   \n",
       "Merc 450SLC         15.2 8   275.8 180 3.07 3.780 18.00 0  0  3    3   \n",
       "Cadillac Fleetwood  10.4 8   472.0 205 2.93 5.250 17.98 0  0  3    4   \n",
       "Lincoln Continental 10.4 8   460.0 215 3.00 5.424 17.82 0  0  3    4   \n",
       "Chrysler Imperial   14.7 8   440.0 230 3.23 5.345 17.42 0  0  3    4   \n",
       "Dodge Challenger    15.5 8   318.0 150 2.76 3.520 16.87 0  0  3    2   \n",
       "AMC Javelin         15.2 8   304.0 150 3.15 3.435 17.30 0  0  3    2   \n",
       "Camaro Z28          13.3 8   350.0 245 3.73 3.840 15.41 0  0  3    4   \n",
       "Pontiac Firebird    19.2 8   400.0 175 3.08 3.845 17.05 0  0  3    2   \n",
       "Ford Pantera L      15.8 8   351.0 264 4.22 3.170 14.50 0  1  5    4   \n",
       "Ferrari Dino        19.7 6   145.0 175 3.62 2.770 15.50 0  1  5    6   \n",
       "Maserati Bora       15.0 8   301.0 335 3.54 3.570 14.60 0  1  5    8   "
      ]
     },
     "metadata": {},
     "output_type": "display_data"
    }
   ],
   "source": [
    "subset_data"
   ]
  },
  {
   "cell_type": "code",
   "execution_count": 16,
   "metadata": {},
   "outputs": [],
   "source": [
    "data(iris)"
   ]
  },
  {
   "cell_type": "code",
   "execution_count": 17,
   "metadata": {},
   "outputs": [
    {
     "data": {
      "text/html": [
       "<table>\n",
       "<thead><tr><th scope=col>Sepal.Length</th><th scope=col>Sepal.Width</th><th scope=col>Petal.Length</th><th scope=col>Petal.Width</th><th scope=col>Species</th></tr></thead>\n",
       "<tbody>\n",
       "\t<tr><td>5.1   </td><td>3.5   </td><td>1.4   </td><td>0.2   </td><td>setosa</td></tr>\n",
       "\t<tr><td>4.9   </td><td>3.0   </td><td>1.4   </td><td>0.2   </td><td>setosa</td></tr>\n",
       "\t<tr><td>4.7   </td><td>3.2   </td><td>1.3   </td><td>0.2   </td><td>setosa</td></tr>\n",
       "\t<tr><td>4.6   </td><td>3.1   </td><td>1.5   </td><td>0.2   </td><td>setosa</td></tr>\n",
       "\t<tr><td>5.0   </td><td>3.6   </td><td>1.4   </td><td>0.2   </td><td>setosa</td></tr>\n",
       "\t<tr><td>5.4   </td><td>3.9   </td><td>1.7   </td><td>0.4   </td><td>setosa</td></tr>\n",
       "</tbody>\n",
       "</table>\n"
      ],
      "text/latex": [
       "\\begin{tabular}{r|lllll}\n",
       " Sepal.Length & Sepal.Width & Petal.Length & Petal.Width & Species\\\\\n",
       "\\hline\n",
       "\t 5.1    & 3.5    & 1.4    & 0.2    & setosa\\\\\n",
       "\t 4.9    & 3.0    & 1.4    & 0.2    & setosa\\\\\n",
       "\t 4.7    & 3.2    & 1.3    & 0.2    & setosa\\\\\n",
       "\t 4.6    & 3.1    & 1.5    & 0.2    & setosa\\\\\n",
       "\t 5.0    & 3.6    & 1.4    & 0.2    & setosa\\\\\n",
       "\t 5.4    & 3.9    & 1.7    & 0.4    & setosa\\\\\n",
       "\\end{tabular}\n"
      ],
      "text/markdown": [
       "\n",
       "| Sepal.Length | Sepal.Width | Petal.Length | Petal.Width | Species |\n",
       "|---|---|---|---|---|\n",
       "| 5.1    | 3.5    | 1.4    | 0.2    | setosa |\n",
       "| 4.9    | 3.0    | 1.4    | 0.2    | setosa |\n",
       "| 4.7    | 3.2    | 1.3    | 0.2    | setosa |\n",
       "| 4.6    | 3.1    | 1.5    | 0.2    | setosa |\n",
       "| 5.0    | 3.6    | 1.4    | 0.2    | setosa |\n",
       "| 5.4    | 3.9    | 1.7    | 0.4    | setosa |\n",
       "\n"
      ],
      "text/plain": [
       "  Sepal.Length Sepal.Width Petal.Length Petal.Width Species\n",
       "1 5.1          3.5         1.4          0.2         setosa \n",
       "2 4.9          3.0         1.4          0.2         setosa \n",
       "3 4.7          3.2         1.3          0.2         setosa \n",
       "4 4.6          3.1         1.5          0.2         setosa \n",
       "5 5.0          3.6         1.4          0.2         setosa \n",
       "6 5.4          3.9         1.7          0.4         setosa "
      ]
     },
     "metadata": {},
     "output_type": "display_data"
    }
   ],
   "source": [
    "head(iris)"
   ]
  },
  {
   "cell_type": "code",
   "execution_count": 20,
   "metadata": {},
   "outputs": [
    {
     "data": {
      "text/html": [
       "<table>\n",
       "<thead><tr><th scope=col>Sepal.Length</th><th scope=col>Petal.Length</th><th scope=col>Species</th></tr></thead>\n",
       "<tbody>\n",
       "\t<tr><td>5.1   </td><td>1.4   </td><td>setosa</td></tr>\n",
       "\t<tr><td>4.9   </td><td>1.4   </td><td>setosa</td></tr>\n",
       "\t<tr><td>4.7   </td><td>1.3   </td><td>setosa</td></tr>\n",
       "\t<tr><td>4.6   </td><td>1.5   </td><td>setosa</td></tr>\n",
       "\t<tr><td>5.0   </td><td>1.4   </td><td>setosa</td></tr>\n",
       "\t<tr><td>5.4   </td><td>1.7   </td><td>setosa</td></tr>\n",
       "</tbody>\n",
       "</table>\n"
      ],
      "text/latex": [
       "\\begin{tabular}{r|lll}\n",
       " Sepal.Length & Petal.Length & Species\\\\\n",
       "\\hline\n",
       "\t 5.1    & 1.4    & setosa\\\\\n",
       "\t 4.9    & 1.4    & setosa\\\\\n",
       "\t 4.7    & 1.3    & setosa\\\\\n",
       "\t 4.6    & 1.5    & setosa\\\\\n",
       "\t 5.0    & 1.4    & setosa\\\\\n",
       "\t 5.4    & 1.7    & setosa\\\\\n",
       "\\end{tabular}\n"
      ],
      "text/markdown": [
       "\n",
       "| Sepal.Length | Petal.Length | Species |\n",
       "|---|---|---|\n",
       "| 5.1    | 1.4    | setosa |\n",
       "| 4.9    | 1.4    | setosa |\n",
       "| 4.7    | 1.3    | setosa |\n",
       "| 4.6    | 1.5    | setosa |\n",
       "| 5.0    | 1.4    | setosa |\n",
       "| 5.4    | 1.7    | setosa |\n",
       "\n"
      ],
      "text/plain": [
       "  Sepal.Length Petal.Length Species\n",
       "1 5.1          1.4          setosa \n",
       "2 4.9          1.4          setosa \n",
       "3 4.7          1.3          setosa \n",
       "4 4.6          1.5          setosa \n",
       "5 5.0          1.4          setosa \n",
       "6 5.4          1.7          setosa "
      ]
     },
     "metadata": {},
     "output_type": "display_data"
    }
   ],
   "source": [
    "lengths_species = select(iris, -contains(\"Width\"))\n",
    "head(lengths_species)"
   ]
  },
  {
   "cell_type": "code",
   "execution_count": 26,
   "metadata": {},
   "outputs": [],
   "source": [
    "library(help = \"dplyr\")"
   ]
  },
  {
   "cell_type": "code",
   "execution_count": 46,
   "metadata": {},
   "outputs": [
    {
     "name": "stderr",
     "output_type": "stream",
     "text": [
      "Updating HTML index of packages in '.Library'\n",
      "Making 'packages.html' ... done\n"
     ]
    }
   ],
   "source": [
    "install.packages(\"scatterplot3d\")"
   ]
  },
  {
   "cell_type": "code",
   "execution_count": 47,
   "metadata": {},
   "outputs": [
    {
     "name": "stderr",
     "output_type": "stream",
     "text": [
      "Loading required package: scatterplot3d\n"
     ]
    }
   ],
   "source": [
    "require(scatterplot3d)"
   ]
  },
  {
   "cell_type": "code",
   "execution_count": 49,
   "metadata": {},
   "outputs": [
    {
     "data": {
      "image/png": "[encoded data removed]",
      "text/plain": [
       "plot without title"
      ]
     },
     "metadata": {},
     "output_type": "display_data"
    }
   ],
   "source": [
    "colors <- c(\"#FF0000\", \"#00FF00\", \"#0000FF\")\n",
    "colors <- colors[as.numeric(iris$Species)]\n",
    "scatterplot3d(iris[,1:3], color = colors)"
   ]
  },
  {
   "cell_type": "markdown",
   "metadata": {},
   "source": [
    "# Data Import and Export #"
   ]
  },
  {
   "cell_type": "code",
   "execution_count": 29,
   "metadata": {},
   "outputs": [],
   "source": [
    "?read.csv"
   ]
  },
  {
   "cell_type": "code",
   "execution_count": 74,
   "metadata": {},
   "outputs": [],
   "source": [
    "df = read.csv('DecisionTreeDataset.csv')"
   ]
  },
  {
   "cell_type": "code",
   "execution_count": 75,
   "metadata": {},
   "outputs": [
    {
     "data": {
      "text/html": [
       "<table>\n",
       "<thead><tr><th scope=col>Name</th><th scope=col>BodyTemperature</th><th scope=col>SkinCover</th><th scope=col>GivesBirth</th><th scope=col>AquaticCreature</th><th scope=col>AerialCreature</th><th scope=col>HasLegs</th><th scope=col>Hibernates</th><th scope=col>ClassLabel</th></tr></thead>\n",
       "<tbody>\n",
       "\t<tr><td>human        </td><td>warm-blooded </td><td>hair         </td><td>yes          </td><td>no           </td><td>no           </td><td>yes          </td><td>no           </td><td>mammal       </td></tr>\n",
       "\t<tr><td>python       </td><td>cold-blooded </td><td>scales       </td><td>no           </td><td>no           </td><td>no           </td><td>no           </td><td>yes          </td><td>reptile      </td></tr>\n",
       "\t<tr><td>salmon       </td><td>cold-blooded </td><td>scales       </td><td>no           </td><td>yes          </td><td>no           </td><td>no           </td><td>no           </td><td>fish         </td></tr>\n",
       "\t<tr><td>whale        </td><td>warm-blooded </td><td>hair         </td><td>yes          </td><td>yes          </td><td>no           </td><td>no           </td><td>no           </td><td>mammal       </td></tr>\n",
       "\t<tr><td>frog         </td><td>cold-blooded </td><td>none         </td><td>no           </td><td>semi         </td><td>no           </td><td>yes          </td><td>yes          </td><td>amphibian    </td></tr>\n",
       "\t<tr><td>komododragon </td><td>cold-blooded </td><td>scales       </td><td>no           </td><td>no           </td><td>no           </td><td>yes          </td><td>no           </td><td>reptile      </td></tr>\n",
       "\t<tr><td>bat          </td><td>Warm-blooded </td><td>hair         </td><td>yes          </td><td>no           </td><td>yes          </td><td>yes          </td><td>yes          </td><td>mammal       </td></tr>\n",
       "\t<tr><td>pigeon       </td><td>warm-blooded </td><td>feathers     </td><td>no           </td><td>no           </td><td>yes          </td><td>yes          </td><td>no           </td><td>bird         </td></tr>\n",
       "\t<tr><td>cat          </td><td>warm-blooded </td><td>fur          </td><td>yes          </td><td>no           </td><td>no           </td><td>yes          </td><td>no           </td><td>mammal       </td></tr>\n",
       "\t<tr><td>shark        </td><td>cold-blooded </td><td>scales       </td><td>yes          </td><td>yes          </td><td>no           </td><td>no           </td><td>no           </td><td>fish         </td></tr>\n",
       "\t<tr><td>turtle       </td><td>cold-blooded </td><td>scales       </td><td>no           </td><td>semi         </td><td>no           </td><td>yes          </td><td>no           </td><td>reptile      </td></tr>\n",
       "\t<tr><td>penguin      </td><td>warm-blooded </td><td>feathers     </td><td>no           </td><td>semi         </td><td>no           </td><td>yes          </td><td>no           </td><td>bird         </td></tr>\n",
       "\t<tr><td>porcupine    </td><td>warm-blooded </td><td>quills       </td><td>yes          </td><td>no           </td><td>no           </td><td>yes          </td><td>yes          </td><td>mammal       </td></tr>\n",
       "\t<tr><td>eel          </td><td>cold-blooded </td><td>scales       </td><td>no           </td><td>yes          </td><td>no           </td><td>no           </td><td>no           </td><td>fish         </td></tr>\n",
       "\t<tr><td>salamander   </td><td>cold-blooded </td><td>none         </td><td>no           </td><td>semi         </td><td>no           </td><td>yes          </td><td>yes          </td><td>amphibian    </td></tr>\n",
       "</tbody>\n",
       "</table>\n"
      ],
      "text/latex": [
       "\\begin{tabular}{r|lllllllll}\n",
       " Name & BodyTemperature & SkinCover & GivesBirth & AquaticCreature & AerialCreature & HasLegs & Hibernates & ClassLabel\\\\\n",
       "\\hline\n",
       "\t human         & warm-blooded  & hair          & yes           & no            & no            & yes           & no            & mammal       \\\\\n",
       "\t python        & cold-blooded  & scales        & no            & no            & no            & no            & yes           & reptile      \\\\\n",
       "\t salmon        & cold-blooded  & scales        & no            & yes           & no            & no            & no            & fish         \\\\\n",
       "\t whale         & warm-blooded  & hair          & yes           & yes           & no            & no            & no            & mammal       \\\\\n",
       "\t frog          & cold-blooded  & none          & no            & semi          & no            & yes           & yes           & amphibian    \\\\\n",
       "\t komododragon  & cold-blooded  & scales        & no            & no            & no            & yes           & no            & reptile      \\\\\n",
       "\t bat           & Warm-blooded  & hair          & yes           & no            & yes           & yes           & yes           & mammal       \\\\\n",
       "\t pigeon        & warm-blooded  & feathers      & no            & no            & yes           & yes           & no            & bird         \\\\\n",
       "\t cat           & warm-blooded  & fur           & yes           & no            & no            & yes           & no            & mammal       \\\\\n",
       "\t shark         & cold-blooded  & scales        & yes           & yes           & no            & no            & no            & fish         \\\\\n",
       "\t turtle        & cold-blooded  & scales        & no            & semi          & no            & yes           & no            & reptile      \\\\\n",
       "\t penguin       & warm-blooded  & feathers      & no            & semi          & no            & yes           & no            & bird         \\\\\n",
       "\t porcupine     & warm-blooded  & quills        & yes           & no            & no            & yes           & yes           & mammal       \\\\\n",
       "\t eel           & cold-blooded  & scales        & no            & yes           & no            & no            & no            & fish         \\\\\n",
       "\t salamander    & cold-blooded  & none          & no            & semi          & no            & yes           & yes           & amphibian    \\\\\n",
       "\\end{tabular}\n"
      ],
      "text/markdown": [
       "\n",
       "| Name | BodyTemperature | SkinCover | GivesBirth | AquaticCreature | AerialCreature | HasLegs | Hibernates | ClassLabel |\n",
       "|---|---|---|---|---|---|---|---|---|\n",
       "| human         | warm-blooded  | hair          | yes           | no            | no            | yes           | no            | mammal        |\n",
       "| python        | cold-blooded  | scales        | no            | no            | no            | no            | yes           | reptile       |\n",
       "| salmon        | cold-blooded  | scales        | no            | yes           | no            | no            | no            | fish          |\n",
       "| whale         | warm-blooded  | hair          | yes           | yes           | no            | no            | no            | mammal        |\n",
       "| frog          | cold-blooded  | none          | no            | semi          | no            | yes           | yes           | amphibian     |\n",
       "| komododragon  | cold-blooded  | scales        | no            | no            | no            | yes           | no            | reptile       |\n",
       "| bat           | Warm-blooded  | hair          | yes           | no            | yes           | yes           | yes           | mammal        |\n",
       "| pigeon        | warm-blooded  | feathers      | no            | no            | yes           | yes           | no            | bird          |\n",
       "| cat           | warm-blooded  | fur           | yes           | no            | no            | yes           | no            | mammal        |\n",
       "| shark         | cold-blooded  | scales        | yes           | yes           | no            | no            | no            | fish          |\n",
       "| turtle        | cold-blooded  | scales        | no            | semi          | no            | yes           | no            | reptile       |\n",
       "| penguin       | warm-blooded  | feathers      | no            | semi          | no            | yes           | no            | bird          |\n",
       "| porcupine     | warm-blooded  | quills        | yes           | no            | no            | yes           | yes           | mammal        |\n",
       "| eel           | cold-blooded  | scales        | no            | yes           | no            | no            | no            | fish          |\n",
       "| salamander    | cold-blooded  | none          | no            | semi          | no            | yes           | yes           | amphibian     |\n",
       "\n"
      ],
      "text/plain": [
       "   Name         BodyTemperature SkinCover GivesBirth AquaticCreature\n",
       "1  human        warm-blooded    hair      yes        no             \n",
       "2  python       cold-blooded    scales    no         no             \n",
       "3  salmon       cold-blooded    scales    no         yes            \n",
       "4  whale        warm-blooded    hair      yes        yes            \n",
       "5  frog         cold-blooded    none      no         semi           \n",
       "6  komododragon cold-blooded    scales    no         no             \n",
       "7  bat          Warm-blooded    hair      yes        no             \n",
       "8  pigeon       warm-blooded    feathers  no         no             \n",
       "9  cat          warm-blooded    fur       yes        no             \n",
       "10 shark        cold-blooded    scales    yes        yes            \n",
       "11 turtle       cold-blooded    scales    no         semi           \n",
       "12 penguin      warm-blooded    feathers  no         semi           \n",
       "13 porcupine    warm-blooded    quills    yes        no             \n",
       "14 eel          cold-blooded    scales    no         yes            \n",
       "15 salamander   cold-blooded    none      no         semi           \n",
       "   AerialCreature HasLegs Hibernates ClassLabel\n",
       "1  no             yes     no         mammal    \n",
       "2  no             no      yes        reptile   \n",
       "3  no             no      no         fish      \n",
       "4  no             no      no         mammal    \n",
       "5  no             yes     yes        amphibian \n",
       "6  no             yes     no         reptile   \n",
       "7  yes            yes     yes        mammal    \n",
       "8  yes            yes     no         bird      \n",
       "9  no             yes     no         mammal    \n",
       "10 no             no      no         fish      \n",
       "11 no             yes     no         reptile   \n",
       "12 no             yes     no         bird      \n",
       "13 no             yes     yes        mammal    \n",
       "14 no             no      no         fish      \n",
       "15 no             yes     yes        amphibian "
      ]
     },
     "metadata": {},
     "output_type": "display_data"
    }
   ],
   "source": [
    "df"
   ]
  },
  {
   "cell_type": "code",
   "execution_count": 34,
   "metadata": {},
   "outputs": [
    {
     "data": {
      "text/html": [
       "<ol class=list-inline>\n",
       "\t<li>'Name'</li>\n",
       "\t<li>'BodyTemperature'</li>\n",
       "\t<li>'SkinCover'</li>\n",
       "\t<li>'GivesBirth'</li>\n",
       "\t<li>'AquaticCreature'</li>\n",
       "\t<li>'AerialCreature'</li>\n",
       "\t<li>'HasLegs'</li>\n",
       "\t<li>'Hibernates'</li>\n",
       "\t<li>'ClassLabel'</li>\n",
       "</ol>\n"
      ],
      "text/latex": [
       "\\begin{enumerate*}\n",
       "\\item 'Name'\n",
       "\\item 'BodyTemperature'\n",
       "\\item 'SkinCover'\n",
       "\\item 'GivesBirth'\n",
       "\\item 'AquaticCreature'\n",
       "\\item 'AerialCreature'\n",
       "\\item 'HasLegs'\n",
       "\\item 'Hibernates'\n",
       "\\item 'ClassLabel'\n",
       "\\end{enumerate*}\n"
      ],
      "text/markdown": [
       "1. 'Name'\n",
       "2. 'BodyTemperature'\n",
       "3. 'SkinCover'\n",
       "4. 'GivesBirth'\n",
       "5. 'AquaticCreature'\n",
       "6. 'AerialCreature'\n",
       "7. 'HasLegs'\n",
       "8. 'Hibernates'\n",
       "9. 'ClassLabel'\n",
       "\n",
       "\n"
      ],
      "text/plain": [
       "[1] \"Name\"            \"BodyTemperature\" \"SkinCover\"       \"GivesBirth\"     \n",
       "[5] \"AquaticCreature\" \"AerialCreature\"  \"HasLegs\"         \"Hibernates\"     \n",
       "[9] \"ClassLabel\"     "
      ]
     },
     "metadata": {},
     "output_type": "display_data"
    }
   ],
   "source": [
    "colnames(df)"
   ]
  },
  {
   "cell_type": "code",
   "execution_count": 42,
   "metadata": {},
   "outputs": [
    {
     "data": {
      "text/html": [
       "<table>\n",
       "<thead><tr><th></th><th scope=col>Name</th><th scope=col>ClassLabel</th></tr></thead>\n",
       "<tbody>\n",
       "\t<tr><th scope=row>8</th><td>pigeon </td><td>bird   </td></tr>\n",
       "\t<tr><th scope=row>12</th><td>penguin</td><td>bird   </td></tr>\n",
       "</tbody>\n",
       "</table>\n"
      ],
      "text/latex": [
       "\\begin{tabular}{r|ll}\n",
       "  & Name & ClassLabel\\\\\n",
       "\\hline\n",
       "\t8 & pigeon  & bird   \\\\\n",
       "\t12 & penguin & bird   \\\\\n",
       "\\end{tabular}\n"
      ],
      "text/markdown": [
       "\n",
       "| <!--/--> | Name | ClassLabel |\n",
       "|---|---|---|\n",
       "| 8 | pigeon  | bird    |\n",
       "| 12 | penguin | bird    |\n",
       "\n"
      ],
      "text/plain": [
       "   Name    ClassLabel\n",
       "8  pigeon  bird      \n",
       "12 penguin bird      "
      ]
     },
     "metadata": {},
     "output_type": "display_data"
    }
   ],
   "source": [
    "select (subset(df, BodyTemperature == \"warm-blooded\" & GivesBirth == \"no\"), c(\"Name\", \"ClassLabel\"))"
   ]
  },
  {
   "cell_type": "code",
   "execution_count": 28,
   "metadata": {},
   "outputs": [],
   "source": [
    "?readxl"
   ]
  },
  {
   "cell_type": "code",
   "execution_count": 43,
   "metadata": {},
   "outputs": [],
   "source": [
    "library(readxl)"
   ]
  },
  {
   "cell_type": "code",
   "execution_count": 44,
   "metadata": {},
   "outputs": [],
   "source": [
    "xlsx_data = read_xlsx('DecisionTreeDataset.xlsx')"
   ]
  },
  {
   "cell_type": "code",
   "execution_count": 45,
   "metadata": {},
   "outputs": [
    {
     "data": {
      "text/html": [
       "<table>\n",
       "<thead><tr><th scope=col>Name</th><th scope=col>Body Temperature</th><th scope=col>Skin Cover</th><th scope=col>Gives Birth</th><th scope=col>Aquatic Creature</th><th scope=col>Aerial Creature</th><th scope=col>Has Legs</th><th scope=col>Hibernates</th><th scope=col>Class Label</th></tr></thead>\n",
       "<tbody>\n",
       "\t<tr><td>human        </td><td>warm-blooded </td><td>hair         </td><td>yes          </td><td>no           </td><td>no           </td><td>yes          </td><td>no           </td><td>mammal       </td></tr>\n",
       "\t<tr><td>python       </td><td>cold-blooded </td><td>scales       </td><td>no           </td><td>no           </td><td>no           </td><td>no           </td><td>yes          </td><td>reptile      </td></tr>\n",
       "\t<tr><td>salmon       </td><td>cold-blooded </td><td>scales       </td><td>no           </td><td>yes          </td><td>no           </td><td>no           </td><td>no           </td><td>fish         </td></tr>\n",
       "\t<tr><td>whale        </td><td>warm-blooded </td><td>hair         </td><td>yes          </td><td>yes          </td><td>no           </td><td>no           </td><td>no           </td><td>mammal       </td></tr>\n",
       "\t<tr><td>frog         </td><td>cold-blooded </td><td>none         </td><td>no           </td><td>semi         </td><td>no           </td><td>yes          </td><td>yes          </td><td>amphibian    </td></tr>\n",
       "\t<tr><td>komodo dragon</td><td>cold-blooded </td><td>scales       </td><td>no           </td><td>no           </td><td>no           </td><td>yes          </td><td>no           </td><td>reptile      </td></tr>\n",
       "\t<tr><td>bat          </td><td>warm-blooded </td><td>hair         </td><td>yes          </td><td>no           </td><td>yes          </td><td>yes          </td><td>yes          </td><td>mammal       </td></tr>\n",
       "\t<tr><td>pigeon       </td><td>warm-blooded </td><td>feathers     </td><td>no           </td><td>no           </td><td>yes          </td><td>yes          </td><td>no           </td><td>bird         </td></tr>\n",
       "\t<tr><td>cat          </td><td>warm-blooded </td><td>fur          </td><td>yes          </td><td>no           </td><td>no           </td><td>yes          </td><td>no           </td><td>mammal       </td></tr>\n",
       "\t<tr><td>shark        </td><td>cold-blooded </td><td>scales       </td><td>yes          </td><td>yes          </td><td>no           </td><td>no           </td><td>no           </td><td>fish         </td></tr>\n",
       "\t<tr><td>turtle       </td><td>cold-blooded </td><td>scales       </td><td>no           </td><td>semi         </td><td>no           </td><td>yes          </td><td>no           </td><td>reptile      </td></tr>\n",
       "\t<tr><td>penguin      </td><td>warm-blooded </td><td>feathers     </td><td>no           </td><td>semi         </td><td>no           </td><td>yes          </td><td>no           </td><td>bird         </td></tr>\n",
       "\t<tr><td>porcupine    </td><td>warm-blooded </td><td>quills       </td><td>yes          </td><td>no           </td><td>no           </td><td>yes          </td><td>yes          </td><td>mammal       </td></tr>\n",
       "\t<tr><td>eel          </td><td>cold-blooded </td><td>scales       </td><td>no           </td><td>yes          </td><td>no           </td><td>no           </td><td>no           </td><td>fish         </td></tr>\n",
       "\t<tr><td>salamander   </td><td>cold-blooded </td><td>none         </td><td>no           </td><td>semi         </td><td>no           </td><td>yes          </td><td>yes          </td><td>amphibian    </td></tr>\n",
       "</tbody>\n",
       "</table>\n"
      ],
      "text/latex": [
       "\\begin{tabular}{r|lllllllll}\n",
       " Name & Body Temperature & Skin Cover & Gives Birth & Aquatic Creature & Aerial Creature & Has Legs & Hibernates & Class Label\\\\\n",
       "\\hline\n",
       "\t human         & warm-blooded  & hair          & yes           & no            & no            & yes           & no            & mammal       \\\\\n",
       "\t python        & cold-blooded  & scales        & no            & no            & no            & no            & yes           & reptile      \\\\\n",
       "\t salmon        & cold-blooded  & scales        & no            & yes           & no            & no            & no            & fish         \\\\\n",
       "\t whale         & warm-blooded  & hair          & yes           & yes           & no            & no            & no            & mammal       \\\\\n",
       "\t frog          & cold-blooded  & none          & no            & semi          & no            & yes           & yes           & amphibian    \\\\\n",
       "\t komodo dragon & cold-blooded  & scales        & no            & no            & no            & yes           & no            & reptile      \\\\\n",
       "\t bat           & warm-blooded  & hair          & yes           & no            & yes           & yes           & yes           & mammal       \\\\\n",
       "\t pigeon        & warm-blooded  & feathers      & no            & no            & yes           & yes           & no            & bird         \\\\\n",
       "\t cat           & warm-blooded  & fur           & yes           & no            & no            & yes           & no            & mammal       \\\\\n",
       "\t shark         & cold-blooded  & scales        & yes           & yes           & no            & no            & no            & fish         \\\\\n",
       "\t turtle        & cold-blooded  & scales        & no            & semi          & no            & yes           & no            & reptile      \\\\\n",
       "\t penguin       & warm-blooded  & feathers      & no            & semi          & no            & yes           & no            & bird         \\\\\n",
       "\t porcupine     & warm-blooded  & quills        & yes           & no            & no            & yes           & yes           & mammal       \\\\\n",
       "\t eel           & cold-blooded  & scales        & no            & yes           & no            & no            & no            & fish         \\\\\n",
       "\t salamander    & cold-blooded  & none          & no            & semi          & no            & yes           & yes           & amphibian    \\\\\n",
       "\\end{tabular}\n"
      ],
      "text/markdown": [
       "\n",
       "| Name | Body Temperature | Skin Cover | Gives Birth | Aquatic Creature | Aerial Creature | Has Legs | Hibernates | Class Label |\n",
       "|---|---|---|---|---|---|---|---|---|\n",
       "| human         | warm-blooded  | hair          | yes           | no            | no            | yes           | no            | mammal        |\n",
       "| python        | cold-blooded  | scales        | no            | no            | no            | no            | yes           | reptile       |\n",
       "| salmon        | cold-blooded  | scales        | no            | yes           | no            | no            | no            | fish          |\n",
       "| whale         | warm-blooded  | hair          | yes           | yes           | no            | no            | no            | mammal        |\n",
       "| frog          | cold-blooded  | none          | no            | semi          | no            | yes           | yes           | amphibian     |\n",
       "| komodo dragon | cold-blooded  | scales        | no            | no            | no            | yes           | no            | reptile       |\n",
       "| bat           | warm-blooded  | hair          | yes           | no            | yes           | yes           | yes           | mammal        |\n",
       "| pigeon        | warm-blooded  | feathers      | no            | no            | yes           | yes           | no            | bird          |\n",
       "| cat           | warm-blooded  | fur           | yes           | no            | no            | yes           | no            | mammal        |\n",
       "| shark         | cold-blooded  | scales        | yes           | yes           | no            | no            | no            | fish          |\n",
       "| turtle        | cold-blooded  | scales        | no            | semi          | no            | yes           | no            | reptile       |\n",
       "| penguin       | warm-blooded  | feathers      | no            | semi          | no            | yes           | no            | bird          |\n",
       "| porcupine     | warm-blooded  | quills        | yes           | no            | no            | yes           | yes           | mammal        |\n",
       "| eel           | cold-blooded  | scales        | no            | yes           | no            | no            | no            | fish          |\n",
       "| salamander    | cold-blooded  | none          | no            | semi          | no            | yes           | yes           | amphibian     |\n",
       "\n"
      ],
      "text/plain": [
       "   Name          Body Temperature Skin Cover Gives Birth Aquatic Creature\n",
       "1  human         warm-blooded     hair       yes         no              \n",
       "2  python        cold-blooded     scales     no          no              \n",
       "3  salmon        cold-blooded     scales     no          yes             \n",
       "4  whale         warm-blooded     hair       yes         yes             \n",
       "5  frog          cold-blooded     none       no          semi            \n",
       "6  komodo dragon cold-blooded     scales     no          no              \n",
       "7  bat           warm-blooded     hair       yes         no              \n",
       "8  pigeon        warm-blooded     feathers   no          no              \n",
       "9  cat           warm-blooded     fur        yes         no              \n",
       "10 shark         cold-blooded     scales     yes         yes             \n",
       "11 turtle        cold-blooded     scales     no          semi            \n",
       "12 penguin       warm-blooded     feathers   no          semi            \n",
       "13 porcupine     warm-blooded     quills     yes         no              \n",
       "14 eel           cold-blooded     scales     no          yes             \n",
       "15 salamander    cold-blooded     none       no          semi            \n",
       "   Aerial Creature Has Legs Hibernates Class Label\n",
       "1  no              yes      no         mammal     \n",
       "2  no              no       yes        reptile    \n",
       "3  no              no       no         fish       \n",
       "4  no              no       no         mammal     \n",
       "5  no              yes      yes        amphibian  \n",
       "6  no              yes      no         reptile    \n",
       "7  yes             yes      yes        mammal     \n",
       "8  yes             yes      no         bird       \n",
       "9  no              yes      no         mammal     \n",
       "10 no              no       no         fish       \n",
       "11 no              yes      no         reptile    \n",
       "12 no              yes      no         bird       \n",
       "13 no              yes      yes        mammal     \n",
       "14 no              no       no         fish       \n",
       "15 no              yes      yes        amphibian  "
      ]
     },
     "metadata": {},
     "output_type": "display_data"
    }
   ],
   "source": [
    "xlsx_data"
   ]
  },
  {
   "cell_type": "code",
   "execution_count": 50,
   "metadata": {},
   "outputs": [],
   "source": [
    "df = select(xlsx_data, c(\"Name\", \"Class Label\"))"
   ]
  },
  {
   "cell_type": "code",
   "execution_count": 51,
   "metadata": {},
   "outputs": [
    {
     "data": {
      "text/html": [
       "<table>\n",
       "<thead><tr><th scope=col>Name</th><th scope=col>Class Label</th></tr></thead>\n",
       "<tbody>\n",
       "\t<tr><td>human        </td><td>mammal       </td></tr>\n",
       "\t<tr><td>python       </td><td>reptile      </td></tr>\n",
       "\t<tr><td>salmon       </td><td>fish         </td></tr>\n",
       "\t<tr><td>whale        </td><td>mammal       </td></tr>\n",
       "\t<tr><td>frog         </td><td>amphibian    </td></tr>\n",
       "\t<tr><td>komodo dragon</td><td>reptile      </td></tr>\n",
       "</tbody>\n",
       "</table>\n"
      ],
      "text/latex": [
       "\\begin{tabular}{r|ll}\n",
       " Name & Class Label\\\\\n",
       "\\hline\n",
       "\t human         & mammal       \\\\\n",
       "\t python        & reptile      \\\\\n",
       "\t salmon        & fish         \\\\\n",
       "\t whale         & mammal       \\\\\n",
       "\t frog          & amphibian    \\\\\n",
       "\t komodo dragon & reptile      \\\\\n",
       "\\end{tabular}\n"
      ],
      "text/markdown": [
       "\n",
       "| Name | Class Label |\n",
       "|---|---|\n",
       "| human         | mammal        |\n",
       "| python        | reptile       |\n",
       "| salmon        | fish          |\n",
       "| whale         | mammal        |\n",
       "| frog          | amphibian     |\n",
       "| komodo dragon | reptile       |\n",
       "\n"
      ],
      "text/plain": [
       "  Name          Class Label\n",
       "1 human         mammal     \n",
       "2 python        reptile    \n",
       "3 salmon        fish       \n",
       "4 whale         mammal     \n",
       "5 frog          amphibian  \n",
       "6 komodo dragon reptile    "
      ]
     },
     "metadata": {},
     "output_type": "display_data"
    }
   ],
   "source": [
    "head (df)"
   ]
  },
  {
   "cell_type": "code",
   "execution_count": 65,
   "metadata": {},
   "outputs": [],
   "source": [
    "write_csv(mtcars, 'mtcars.csv')"
   ]
  },
  {
   "cell_type": "code",
   "execution_count": 76,
   "metadata": {},
   "outputs": [
    {
     "data": {
      "text/html": [
       "<table>\n",
       "<thead><tr><th scope=col>mpg</th><th scope=col>cyl</th><th scope=col>disp</th><th scope=col>hp</th><th scope=col>drat</th><th scope=col>wt</th><th scope=col>qsec</th><th scope=col>vs</th><th scope=col>am</th><th scope=col>gear</th><th scope=col>carb</th></tr></thead>\n",
       "<tbody>\n",
       "\t<tr><td>21.0 </td><td>6    </td><td>160  </td><td>110  </td><td>3.90 </td><td>2.620</td><td>16.46</td><td>0    </td><td>1    </td><td>4    </td><td>4    </td></tr>\n",
       "\t<tr><td>21.0 </td><td>6    </td><td>160  </td><td>110  </td><td>3.90 </td><td>2.875</td><td>17.02</td><td>0    </td><td>1    </td><td>4    </td><td>4    </td></tr>\n",
       "\t<tr><td>22.8 </td><td>4    </td><td>108  </td><td> 93  </td><td>3.85 </td><td>2.320</td><td>18.61</td><td>1    </td><td>1    </td><td>4    </td><td>1    </td></tr>\n",
       "\t<tr><td>21.4 </td><td>6    </td><td>258  </td><td>110  </td><td>3.08 </td><td>3.215</td><td>19.44</td><td>1    </td><td>0    </td><td>3    </td><td>1    </td></tr>\n",
       "\t<tr><td>18.7 </td><td>8    </td><td>360  </td><td>175  </td><td>3.15 </td><td>3.440</td><td>17.02</td><td>0    </td><td>0    </td><td>3    </td><td>2    </td></tr>\n",
       "\t<tr><td>18.1 </td><td>6    </td><td>225  </td><td>105  </td><td>2.76 </td><td>3.460</td><td>20.22</td><td>1    </td><td>0    </td><td>3    </td><td>1    </td></tr>\n",
       "</tbody>\n",
       "</table>\n"
      ],
      "text/latex": [
       "\\begin{tabular}{r|lllllllllll}\n",
       " mpg & cyl & disp & hp & drat & wt & qsec & vs & am & gear & carb\\\\\n",
       "\\hline\n",
       "\t 21.0  & 6     & 160   & 110   & 3.90  & 2.620 & 16.46 & 0     & 1     & 4     & 4    \\\\\n",
       "\t 21.0  & 6     & 160   & 110   & 3.90  & 2.875 & 17.02 & 0     & 1     & 4     & 4    \\\\\n",
       "\t 22.8  & 4     & 108   &  93   & 3.85  & 2.320 & 18.61 & 1     & 1     & 4     & 1    \\\\\n",
       "\t 21.4  & 6     & 258   & 110   & 3.08  & 3.215 & 19.44 & 1     & 0     & 3     & 1    \\\\\n",
       "\t 18.7  & 8     & 360   & 175   & 3.15  & 3.440 & 17.02 & 0     & 0     & 3     & 2    \\\\\n",
       "\t 18.1  & 6     & 225   & 105   & 2.76  & 3.460 & 20.22 & 1     & 0     & 3     & 1    \\\\\n",
       "\\end{tabular}\n"
      ],
      "text/markdown": [
       "\n",
       "| mpg | cyl | disp | hp | drat | wt | qsec | vs | am | gear | carb |\n",
       "|---|---|---|---|---|---|---|---|---|---|---|\n",
       "| 21.0  | 6     | 160   | 110   | 3.90  | 2.620 | 16.46 | 0     | 1     | 4     | 4     |\n",
       "| 21.0  | 6     | 160   | 110   | 3.90  | 2.875 | 17.02 | 0     | 1     | 4     | 4     |\n",
       "| 22.8  | 4     | 108   |  93   | 3.85  | 2.320 | 18.61 | 1     | 1     | 4     | 1     |\n",
       "| 21.4  | 6     | 258   | 110   | 3.08  | 3.215 | 19.44 | 1     | 0     | 3     | 1     |\n",
       "| 18.7  | 8     | 360   | 175   | 3.15  | 3.440 | 17.02 | 0     | 0     | 3     | 2     |\n",
       "| 18.1  | 6     | 225   | 105   | 2.76  | 3.460 | 20.22 | 1     | 0     | 3     | 1     |\n",
       "\n"
      ],
      "text/plain": [
       "  mpg  cyl disp hp  drat wt    qsec  vs am gear carb\n",
       "1 21.0 6   160  110 3.90 2.620 16.46 0  1  4    4   \n",
       "2 21.0 6   160  110 3.90 2.875 17.02 0  1  4    4   \n",
       "3 22.8 4   108   93 3.85 2.320 18.61 1  1  4    1   \n",
       "4 21.4 6   258  110 3.08 3.215 19.44 1  0  3    1   \n",
       "5 18.7 8   360  175 3.15 3.440 17.02 0  0  3    2   \n",
       "6 18.1 6   225  105 2.76 3.460 20.22 1  0  3    1   "
      ]
     },
     "metadata": {},
     "output_type": "display_data"
    }
   ],
   "source": [
    "head(read.csv('mtcars.csv'))"
   ]
  },
  {
   "cell_type": "code",
   "execution_count": null,
   "metadata": {},
   "outputs": [],
   "source": []
  }
 ],
 "metadata": {
  "kernelspec": {
   "display_name": "R",
   "language": "R",
   "name": "ir"
  },
  "language_info": {
   "codemirror_mode": "r",
   "file_extension": ".r",
   "mimetype": "text/x-r-source",
   "name": "R",
   "pygments_lexer": "r",
   "version": "3.5.1"
  }
 },
 "nbformat": 4,
 "nbformat_minor": 2
}
