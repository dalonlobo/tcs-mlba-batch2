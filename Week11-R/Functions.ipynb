{
 "cells": [
  {
   "cell_type": "code",
   "execution_count": 1,
   "metadata": {},
   "outputs": [
    {
     "data": {
      "text/html": [
       "<ol class=list-inline>\n",
       "\t<li>1</li>\n",
       "\t<li>3</li>\n",
       "\t<li>5</li>\n",
       "\t<li>7</li>\n",
       "\t<li>9</li>\n",
       "\t<li>11</li>\n",
       "\t<li>13</li>\n",
       "\t<li>15</li>\n",
       "\t<li>17</li>\n",
       "\t<li>19</li>\n",
       "\t<li>21</li>\n",
       "\t<li>23</li>\n",
       "\t<li>25</li>\n",
       "\t<li>27</li>\n",
       "\t<li>29</li>\n",
       "\t<li>31</li>\n",
       "\t<li>33</li>\n",
       "\t<li>35</li>\n",
       "\t<li>37</li>\n",
       "\t<li>39</li>\n",
       "\t<li>41</li>\n",
       "\t<li>43</li>\n",
       "\t<li>45</li>\n",
       "\t<li>47</li>\n",
       "\t<li>49</li>\n",
       "\t<li>51</li>\n",
       "\t<li>53</li>\n",
       "\t<li>55</li>\n",
       "\t<li>57</li>\n",
       "\t<li>59</li>\n",
       "\t<li>61</li>\n",
       "\t<li>63</li>\n",
       "\t<li>65</li>\n",
       "\t<li>67</li>\n",
       "\t<li>69</li>\n",
       "\t<li>71</li>\n",
       "\t<li>73</li>\n",
       "\t<li>75</li>\n",
       "\t<li>77</li>\n",
       "\t<li>79</li>\n",
       "\t<li>81</li>\n",
       "\t<li>83</li>\n",
       "\t<li>85</li>\n",
       "\t<li>87</li>\n",
       "\t<li>89</li>\n",
       "\t<li>91</li>\n",
       "\t<li>93</li>\n",
       "\t<li>95</li>\n",
       "\t<li>97</li>\n",
       "\t<li>99</li>\n",
       "</ol>\n"
      ],
      "text/latex": [
       "\\begin{enumerate*}\n",
       "\\item 1\n",
       "\\item 3\n",
       "\\item 5\n",
       "\\item 7\n",
       "\\item 9\n",
       "\\item 11\n",
       "\\item 13\n",
       "\\item 15\n",
       "\\item 17\n",
       "\\item 19\n",
       "\\item 21\n",
       "\\item 23\n",
       "\\item 25\n",
       "\\item 27\n",
       "\\item 29\n",
       "\\item 31\n",
       "\\item 33\n",
       "\\item 35\n",
       "\\item 37\n",
       "\\item 39\n",
       "\\item 41\n",
       "\\item 43\n",
       "\\item 45\n",
       "\\item 47\n",
       "\\item 49\n",
       "\\item 51\n",
       "\\item 53\n",
       "\\item 55\n",
       "\\item 57\n",
       "\\item 59\n",
       "\\item 61\n",
       "\\item 63\n",
       "\\item 65\n",
       "\\item 67\n",
       "\\item 69\n",
       "\\item 71\n",
       "\\item 73\n",
       "\\item 75\n",
       "\\item 77\n",
       "\\item 79\n",
       "\\item 81\n",
       "\\item 83\n",
       "\\item 85\n",
       "\\item 87\n",
       "\\item 89\n",
       "\\item 91\n",
       "\\item 93\n",
       "\\item 95\n",
       "\\item 97\n",
       "\\item 99\n",
       "\\end{enumerate*}\n"
      ],
      "text/markdown": [
       "1. 1\n",
       "2. 3\n",
       "3. 5\n",
       "4. 7\n",
       "5. 9\n",
       "6. 11\n",
       "7. 13\n",
       "8. 15\n",
       "9. 17\n",
       "10. 19\n",
       "11. 21\n",
       "12. 23\n",
       "13. 25\n",
       "14. 27\n",
       "15. 29\n",
       "16. 31\n",
       "17. 33\n",
       "18. 35\n",
       "19. 37\n",
       "20. 39\n",
       "21. 41\n",
       "22. 43\n",
       "23. 45\n",
       "24. 47\n",
       "25. 49\n",
       "26. 51\n",
       "27. 53\n",
       "28. 55\n",
       "29. 57\n",
       "30. 59\n",
       "31. 61\n",
       "32. 63\n",
       "33. 65\n",
       "34. 67\n",
       "35. 69\n",
       "36. 71\n",
       "37. 73\n",
       "38. 75\n",
       "39. 77\n",
       "40. 79\n",
       "41. 81\n",
       "42. 83\n",
       "43. 85\n",
       "44. 87\n",
       "45. 89\n",
       "46. 91\n",
       "47. 93\n",
       "48. 95\n",
       "49. 97\n",
       "50. 99\n",
       "\n",
       "\n"
      ],
      "text/plain": [
       " [1]  1  3  5  7  9 11 13 15 17 19 21 23 25 27 29 31 33 35 37 39 41 43 45 47 49\n",
       "[26] 51 53 55 57 59 61 63 65 67 69 71 73 75 77 79 81 83 85 87 89 91 93 95 97 99"
      ]
     },
     "metadata": {},
     "output_type": "display_data"
    }
   ],
   "source": [
    "seq(1, 100, 2)"
   ]
  },
  {
   "cell_type": "code",
   "execution_count": 4,
   "metadata": {},
   "outputs": [],
   "source": [
    "y = seq(100, 50, -2)"
   ]
  },
  {
   "cell_type": "code",
   "execution_count": 2,
   "metadata": {},
   "outputs": [],
   "source": [
    "x = seq(50, 100, 2)"
   ]
  },
  {
   "cell_type": "code",
   "execution_count": 9,
   "metadata": {},
   "outputs": [
    {
     "data": {
      "text/html": [
       "1950"
      ],
      "text/latex": [
       "1950"
      ],
      "text/markdown": [
       "1950"
      ],
      "text/plain": [
       "[1] 1950"
      ]
     },
     "metadata": {},
     "output_type": "display_data"
    }
   ],
   "source": [
    "sum(x + y)/2"
   ]
  },
  {
   "cell_type": "code",
   "execution_count": 10,
   "metadata": {},
   "outputs": [
    {
     "data": {
      "text/html": [
       "1950"
      ],
      "text/latex": [
       "1950"
      ],
      "text/markdown": [
       "1950"
      ],
      "text/plain": [
       "[1] 1950"
      ]
     },
     "metadata": {},
     "output_type": "display_data"
    }
   ],
   "source": [
    "sum(x)"
   ]
  },
  {
   "cell_type": "code",
   "execution_count": 11,
   "metadata": {},
   "outputs": [
    {
     "data": {
      "text/html": [
       "75"
      ],
      "text/latex": [
       "75"
      ],
      "text/markdown": [
       "75"
      ],
      "text/plain": [
       "[1] 75"
      ]
     },
     "metadata": {},
     "output_type": "display_data"
    }
   ],
   "source": [
    "mean(x)"
   ]
  },
  {
   "cell_type": "code",
   "execution_count": 12,
   "metadata": {},
   "outputs": [
    {
     "data": {
      "text/html": [
       "75"
      ],
      "text/latex": [
       "75"
      ],
      "text/markdown": [
       "75"
      ],
      "text/plain": [
       "[1] 75"
      ]
     },
     "metadata": {},
     "output_type": "display_data"
    }
   ],
   "source": [
    "median(x)"
   ]
  },
  {
   "cell_type": "code",
   "execution_count": 4,
   "metadata": {},
   "outputs": [
    {
     "data": {
      "text/html": [
       "234"
      ],
      "text/latex": [
       "234"
      ],
      "text/markdown": [
       "234"
      ],
      "text/plain": [
       "[1] 234"
      ]
     },
     "metadata": {},
     "output_type": "display_data"
    },
    {
     "data": {
      "text/html": [
       "15.2970585407784"
      ],
      "text/latex": [
       "15.2970585407784"
      ],
      "text/markdown": [
       "15.2970585407784"
      ],
      "text/plain": [
       "[1] 15.29706"
      ]
     },
     "metadata": {},
     "output_type": "display_data"
    }
   ],
   "source": [
    "var(x)\n",
    "sd(x)"
   ]
  },
  {
   "cell_type": "code",
   "execution_count": 36,
   "metadata": {},
   "outputs": [],
   "source": [
    "y = c(1:5, 2:7, 5,10, 10, 10, 10)"
   ]
  },
  {
   "cell_type": "code",
   "execution_count": 37,
   "metadata": {},
   "outputs": [
    {
     "data": {
      "text/html": [
       "<ol class=list-inline>\n",
       "\t<li>1</li>\n",
       "\t<li>2</li>\n",
       "\t<li>3</li>\n",
       "\t<li>4</li>\n",
       "\t<li>5</li>\n",
       "\t<li>2</li>\n",
       "\t<li>3</li>\n",
       "\t<li>4</li>\n",
       "\t<li>5</li>\n",
       "\t<li>6</li>\n",
       "\t<li>7</li>\n",
       "\t<li>5</li>\n",
       "\t<li>10</li>\n",
       "\t<li>10</li>\n",
       "\t<li>10</li>\n",
       "\t<li>10</li>\n",
       "</ol>\n"
      ],
      "text/latex": [
       "\\begin{enumerate*}\n",
       "\\item 1\n",
       "\\item 2\n",
       "\\item 3\n",
       "\\item 4\n",
       "\\item 5\n",
       "\\item 2\n",
       "\\item 3\n",
       "\\item 4\n",
       "\\item 5\n",
       "\\item 6\n",
       "\\item 7\n",
       "\\item 5\n",
       "\\item 10\n",
       "\\item 10\n",
       "\\item 10\n",
       "\\item 10\n",
       "\\end{enumerate*}\n"
      ],
      "text/markdown": [
       "1. 1\n",
       "2. 2\n",
       "3. 3\n",
       "4. 4\n",
       "5. 5\n",
       "6. 2\n",
       "7. 3\n",
       "8. 4\n",
       "9. 5\n",
       "10. 6\n",
       "11. 7\n",
       "12. 5\n",
       "13. 10\n",
       "14. 10\n",
       "15. 10\n",
       "16. 10\n",
       "\n",
       "\n"
      ],
      "text/plain": [
       " [1]  1  2  3  4  5  2  3  4  5  6  7  5 10 10 10 10"
      ]
     },
     "metadata": {},
     "output_type": "display_data"
    },
    {
     "data": {
      "text/html": [
       "<ol class=list-inline>\n",
       "\t<li>1</li>\n",
       "\t<li>2</li>\n",
       "\t<li>3</li>\n",
       "\t<li>4</li>\n",
       "\t<li>5</li>\n",
       "\t<li>6</li>\n",
       "\t<li>7</li>\n",
       "\t<li>10</li>\n",
       "</ol>\n"
      ],
      "text/latex": [
       "\\begin{enumerate*}\n",
       "\\item 1\n",
       "\\item 2\n",
       "\\item 3\n",
       "\\item 4\n",
       "\\item 5\n",
       "\\item 6\n",
       "\\item 7\n",
       "\\item 10\n",
       "\\end{enumerate*}\n"
      ],
      "text/markdown": [
       "1. 1\n",
       "2. 2\n",
       "3. 3\n",
       "4. 4\n",
       "5. 5\n",
       "6. 6\n",
       "7. 7\n",
       "8. 10\n",
       "\n",
       "\n"
      ],
      "text/plain": [
       "[1]  1  2  3  4  5  6  7 10"
      ]
     },
     "metadata": {},
     "output_type": "display_data"
    },
    {
     "data": {
      "text/html": [
       "<ol class=list-inline>\n",
       "\t<li>1</li>\n",
       "\t<li>2</li>\n",
       "\t<li>3</li>\n",
       "\t<li>4</li>\n",
       "\t<li>5</li>\n",
       "\t<li>2</li>\n",
       "\t<li>3</li>\n",
       "\t<li>4</li>\n",
       "\t<li>5</li>\n",
       "\t<li>6</li>\n",
       "\t<li>7</li>\n",
       "\t<li>5</li>\n",
       "\t<li>8</li>\n",
       "\t<li>8</li>\n",
       "\t<li>8</li>\n",
       "\t<li>8</li>\n",
       "</ol>\n"
      ],
      "text/latex": [
       "\\begin{enumerate*}\n",
       "\\item 1\n",
       "\\item 2\n",
       "\\item 3\n",
       "\\item 4\n",
       "\\item 5\n",
       "\\item 2\n",
       "\\item 3\n",
       "\\item 4\n",
       "\\item 5\n",
       "\\item 6\n",
       "\\item 7\n",
       "\\item 5\n",
       "\\item 8\n",
       "\\item 8\n",
       "\\item 8\n",
       "\\item 8\n",
       "\\end{enumerate*}\n"
      ],
      "text/markdown": [
       "1. 1\n",
       "2. 2\n",
       "3. 3\n",
       "4. 4\n",
       "5. 5\n",
       "6. 2\n",
       "7. 3\n",
       "8. 4\n",
       "9. 5\n",
       "10. 6\n",
       "11. 7\n",
       "12. 5\n",
       "13. 8\n",
       "14. 8\n",
       "15. 8\n",
       "16. 8\n",
       "\n",
       "\n"
      ],
      "text/plain": [
       " [1] 1 2 3 4 5 2 3 4 5 6 7 5 8 8 8 8"
      ]
     },
     "metadata": {},
     "output_type": "display_data"
    }
   ],
   "source": [
    "y\n",
    "unique(y)\n",
    "match(y, unique(y))"
   ]
  },
  {
   "cell_type": "code",
   "execution_count": 38,
   "metadata": {},
   "outputs": [
    {
     "data": {
      "text/html": [
       "<ol class=list-inline>\n",
       "\t<li>1</li>\n",
       "\t<li>2</li>\n",
       "\t<li>2</li>\n",
       "\t<li>2</li>\n",
       "\t<li>3</li>\n",
       "\t<li>1</li>\n",
       "\t<li>1</li>\n",
       "\t<li>4</li>\n",
       "</ol>\n"
      ],
      "text/latex": [
       "\\begin{enumerate*}\n",
       "\\item 1\n",
       "\\item 2\n",
       "\\item 2\n",
       "\\item 2\n",
       "\\item 3\n",
       "\\item 1\n",
       "\\item 1\n",
       "\\item 4\n",
       "\\end{enumerate*}\n"
      ],
      "text/markdown": [
       "1. 1\n",
       "2. 2\n",
       "3. 2\n",
       "4. 2\n",
       "5. 3\n",
       "6. 1\n",
       "7. 1\n",
       "8. 4\n",
       "\n",
       "\n"
      ],
      "text/plain": [
       "[1] 1 2 2 2 3 1 1 4"
      ]
     },
     "metadata": {},
     "output_type": "display_data"
    },
    {
     "data": {
      "text/html": [
       "8"
      ],
      "text/latex": [
       "8"
      ],
      "text/markdown": [
       "8"
      ],
      "text/plain": [
       "[1] 8"
      ]
     },
     "metadata": {},
     "output_type": "display_data"
    },
    {
     "data": {
      "text/html": [
       "10"
      ],
      "text/latex": [
       "10"
      ],
      "text/markdown": [
       "10"
      ],
      "text/plain": [
       "[1] 10"
      ]
     },
     "metadata": {},
     "output_type": "display_data"
    }
   ],
   "source": [
    "tabulate(match(y, unique(y)))\n",
    "which.max(tabulate(match(y, unique(y))))\n",
    "unique(y)[which.max(tabulate(match(y, unique(y))))]"
   ]
  },
  {
   "cell_type": "code",
   "execution_count": 39,
   "metadata": {},
   "outputs": [],
   "source": [
    "mode <- function(v){\n",
    "    uniqv = unique(v)\n",
    "    index = which.max(tabulate(match(y, unique(y))))\n",
    "    return (uniqv[index])\n",
    "}"
   ]
  },
  {
   "cell_type": "code",
   "execution_count": 40,
   "metadata": {},
   "outputs": [
    {
     "data": {
      "text/html": [
       "10"
      ],
      "text/latex": [
       "10"
      ],
      "text/markdown": [
       "10"
      ],
      "text/plain": [
       "[1] 10"
      ]
     },
     "metadata": {},
     "output_type": "display_data"
    }
   ],
   "source": [
    "mode(y)"
   ]
  },
  {
   "cell_type": "code",
   "execution_count": 73,
   "metadata": {},
   "outputs": [
    {
     "data": {
      "text/html": [
       "<table>\n",
       "<thead><tr><th scope=col>col1</th><th scope=col>col2</th></tr></thead>\n",
       "<tbody>\n",
       "\t<tr><td>1  </td><td>101</td></tr>\n",
       "\t<tr><td>2  </td><td>102</td></tr>\n",
       "\t<tr><td>3  </td><td>103</td></tr>\n",
       "\t<tr><td>4  </td><td>104</td></tr>\n",
       "\t<tr><td>5  </td><td>105</td></tr>\n",
       "\t<tr><td>6  </td><td>106</td></tr>\n",
       "</tbody>\n",
       "</table>\n"
      ],
      "text/latex": [
       "\\begin{tabular}{r|ll}\n",
       " col1 & col2\\\\\n",
       "\\hline\n",
       "\t 1   & 101\\\\\n",
       "\t 2   & 102\\\\\n",
       "\t 3   & 103\\\\\n",
       "\t 4   & 104\\\\\n",
       "\t 5   & 105\\\\\n",
       "\t 6   & 106\\\\\n",
       "\\end{tabular}\n"
      ],
      "text/markdown": [
       "\n",
       "| col1 | col2 |\n",
       "|---|---|\n",
       "| 1   | 101 |\n",
       "| 2   | 102 |\n",
       "| 3   | 103 |\n",
       "| 4   | 104 |\n",
       "| 5   | 105 |\n",
       "| 6   | 106 |\n",
       "\n"
      ],
      "text/plain": [
       "  col1 col2\n",
       "1 1    101 \n",
       "2 2    102 \n",
       "3 3    103 \n",
       "4 4    104 \n",
       "5 5    105 \n",
       "6 6    106 "
      ]
     },
     "metadata": {},
     "output_type": "display_data"
    }
   ],
   "source": [
    "col1 = c(1:50)\n",
    "col2 = c(101:150)\n",
    "df1 = data.frame(col1, col2)\n",
    "head(df1)"
   ]
  },
  {
   "cell_type": "code",
   "execution_count": 74,
   "metadata": {},
   "outputs": [
    {
     "data": {
      "text/html": [
       "<ol class=list-inline>\n",
       "\t<li>50</li>\n",
       "\t<li>2</li>\n",
       "</ol>\n"
      ],
      "text/latex": [
       "\\begin{enumerate*}\n",
       "\\item 50\n",
       "\\item 2\n",
       "\\end{enumerate*}\n"
      ],
      "text/markdown": [
       "1. 50\n",
       "2. 2\n",
       "\n",
       "\n"
      ],
      "text/plain": [
       "[1] 50  2"
      ]
     },
     "metadata": {},
     "output_type": "display_data"
    }
   ],
   "source": [
    "dim(df1)"
   ]
  },
  {
   "cell_type": "code",
   "execution_count": 75,
   "metadata": {},
   "outputs": [],
   "source": [
    "col3 = c(1001:1050)"
   ]
  },
  {
   "cell_type": "code",
   "execution_count": 76,
   "metadata": {},
   "outputs": [],
   "source": [
    "df2 <- cbind(df1, col3)"
   ]
  },
  {
   "cell_type": "code",
   "execution_count": 77,
   "metadata": {},
   "outputs": [
    {
     "data": {
      "text/html": [
       "<table>\n",
       "<thead><tr><th scope=col>col1</th><th scope=col>col2</th><th scope=col>col3</th></tr></thead>\n",
       "<tbody>\n",
       "\t<tr><td>1   </td><td>101 </td><td>1001</td></tr>\n",
       "\t<tr><td>2   </td><td>102 </td><td>1002</td></tr>\n",
       "\t<tr><td>3   </td><td>103 </td><td>1003</td></tr>\n",
       "\t<tr><td>4   </td><td>104 </td><td>1004</td></tr>\n",
       "\t<tr><td>5   </td><td>105 </td><td>1005</td></tr>\n",
       "\t<tr><td>6   </td><td>106 </td><td>1006</td></tr>\n",
       "</tbody>\n",
       "</table>\n"
      ],
      "text/latex": [
       "\\begin{tabular}{r|lll}\n",
       " col1 & col2 & col3\\\\\n",
       "\\hline\n",
       "\t 1    & 101  & 1001\\\\\n",
       "\t 2    & 102  & 1002\\\\\n",
       "\t 3    & 103  & 1003\\\\\n",
       "\t 4    & 104  & 1004\\\\\n",
       "\t 5    & 105  & 1005\\\\\n",
       "\t 6    & 106  & 1006\\\\\n",
       "\\end{tabular}\n"
      ],
      "text/markdown": [
       "\n",
       "| col1 | col2 | col3 |\n",
       "|---|---|---|\n",
       "| 1    | 101  | 1001 |\n",
       "| 2    | 102  | 1002 |\n",
       "| 3    | 103  | 1003 |\n",
       "| 4    | 104  | 1004 |\n",
       "| 5    | 105  | 1005 |\n",
       "| 6    | 106  | 1006 |\n",
       "\n"
      ],
      "text/plain": [
       "  col1 col2 col3\n",
       "1 1    101  1001\n",
       "2 2    102  1002\n",
       "3 3    103  1003\n",
       "4 4    104  1004\n",
       "5 5    105  1005\n",
       "6 6    106  1006"
      ]
     },
     "metadata": {},
     "output_type": "display_data"
    }
   ],
   "source": [
    "head(df2)"
   ]
  },
  {
   "cell_type": "code",
   "execution_count": 78,
   "metadata": {},
   "outputs": [
    {
     "data": {
      "text/html": [
       "<ol class=list-inline>\n",
       "\t<li>50</li>\n",
       "\t<li>3</li>\n",
       "</ol>\n"
      ],
      "text/latex": [
       "\\begin{enumerate*}\n",
       "\\item 50\n",
       "\\item 3\n",
       "\\end{enumerate*}\n"
      ],
      "text/markdown": [
       "1. 50\n",
       "2. 3\n",
       "\n",
       "\n"
      ],
      "text/plain": [
       "[1] 50  3"
      ]
     },
     "metadata": {},
     "output_type": "display_data"
    }
   ],
   "source": [
    "dim(df2)"
   ]
  },
  {
   "cell_type": "code",
   "execution_count": 79,
   "metadata": {},
   "outputs": [],
   "source": [
    "col1 = c(51:100)\n",
    "col2 = c(151:200)\n",
    "col3 = c(1051:1100)\n",
    "df3 = data.frame(col1,col2,col3)"
   ]
  },
  {
   "cell_type": "code",
   "execution_count": 80,
   "metadata": {},
   "outputs": [
    {
     "data": {
      "text/html": [
       "<table>\n",
       "<thead><tr><th scope=col>col1</th><th scope=col>col2</th><th scope=col>col3</th></tr></thead>\n",
       "<tbody>\n",
       "\t<tr><td>51  </td><td>151 </td><td>1051</td></tr>\n",
       "\t<tr><td>52  </td><td>152 </td><td>1052</td></tr>\n",
       "\t<tr><td>53  </td><td>153 </td><td>1053</td></tr>\n",
       "\t<tr><td>54  </td><td>154 </td><td>1054</td></tr>\n",
       "\t<tr><td>55  </td><td>155 </td><td>1055</td></tr>\n",
       "\t<tr><td>56  </td><td>156 </td><td>1056</td></tr>\n",
       "</tbody>\n",
       "</table>\n"
      ],
      "text/latex": [
       "\\begin{tabular}{r|lll}\n",
       " col1 & col2 & col3\\\\\n",
       "\\hline\n",
       "\t 51   & 151  & 1051\\\\\n",
       "\t 52   & 152  & 1052\\\\\n",
       "\t 53   & 153  & 1053\\\\\n",
       "\t 54   & 154  & 1054\\\\\n",
       "\t 55   & 155  & 1055\\\\\n",
       "\t 56   & 156  & 1056\\\\\n",
       "\\end{tabular}\n"
      ],
      "text/markdown": [
       "\n",
       "| col1 | col2 | col3 |\n",
       "|---|---|---|\n",
       "| 51   | 151  | 1051 |\n",
       "| 52   | 152  | 1052 |\n",
       "| 53   | 153  | 1053 |\n",
       "| 54   | 154  | 1054 |\n",
       "| 55   | 155  | 1055 |\n",
       "| 56   | 156  | 1056 |\n",
       "\n"
      ],
      "text/plain": [
       "  col1 col2 col3\n",
       "1 51   151  1051\n",
       "2 52   152  1052\n",
       "3 53   153  1053\n",
       "4 54   154  1054\n",
       "5 55   155  1055\n",
       "6 56   156  1056"
      ]
     },
     "metadata": {},
     "output_type": "display_data"
    }
   ],
   "source": [
    "head(df3)"
   ]
  },
  {
   "cell_type": "code",
   "execution_count": 81,
   "metadata": {},
   "outputs": [
    {
     "data": {
      "text/html": [
       "<table>\n",
       "<thead><tr><th></th><th scope=col>col1</th><th scope=col>col2</th><th scope=col>col3</th></tr></thead>\n",
       "<tbody>\n",
       "\t<tr><th scope=row>45</th><td>45  </td><td>145 </td><td>1045</td></tr>\n",
       "\t<tr><th scope=row>46</th><td>46  </td><td>146 </td><td>1046</td></tr>\n",
       "\t<tr><th scope=row>47</th><td>47  </td><td>147 </td><td>1047</td></tr>\n",
       "\t<tr><th scope=row>48</th><td>48  </td><td>148 </td><td>1048</td></tr>\n",
       "\t<tr><th scope=row>49</th><td>49  </td><td>149 </td><td>1049</td></tr>\n",
       "\t<tr><th scope=row>50</th><td>50  </td><td>150 </td><td>1050</td></tr>\n",
       "</tbody>\n",
       "</table>\n"
      ],
      "text/latex": [
       "\\begin{tabular}{r|lll}\n",
       "  & col1 & col2 & col3\\\\\n",
       "\\hline\n",
       "\t45 & 45   & 145  & 1045\\\\\n",
       "\t46 & 46   & 146  & 1046\\\\\n",
       "\t47 & 47   & 147  & 1047\\\\\n",
       "\t48 & 48   & 148  & 1048\\\\\n",
       "\t49 & 49   & 149  & 1049\\\\\n",
       "\t50 & 50   & 150  & 1050\\\\\n",
       "\\end{tabular}\n"
      ],
      "text/markdown": [
       "\n",
       "| <!--/--> | col1 | col2 | col3 |\n",
       "|---|---|---|---|\n",
       "| 45 | 45   | 145  | 1045 |\n",
       "| 46 | 46   | 146  | 1046 |\n",
       "| 47 | 47   | 147  | 1047 |\n",
       "| 48 | 48   | 148  | 1048 |\n",
       "| 49 | 49   | 149  | 1049 |\n",
       "| 50 | 50   | 150  | 1050 |\n",
       "\n"
      ],
      "text/plain": [
       "   col1 col2 col3\n",
       "45 45   145  1045\n",
       "46 46   146  1046\n",
       "47 47   147  1047\n",
       "48 48   148  1048\n",
       "49 49   149  1049\n",
       "50 50   150  1050"
      ]
     },
     "metadata": {},
     "output_type": "display_data"
    }
   ],
   "source": [
    "tail(df2)"
   ]
  },
  {
   "cell_type": "code",
   "execution_count": 82,
   "metadata": {},
   "outputs": [],
   "source": [
    "df4 = rbind(df2, df3)"
   ]
  },
  {
   "cell_type": "code",
   "execution_count": 83,
   "metadata": {},
   "outputs": [
    {
     "data": {
      "text/html": [
       "<table>\n",
       "<thead><tr><th></th><th scope=col>col1</th><th scope=col>col2</th><th scope=col>col3</th></tr></thead>\n",
       "<tbody>\n",
       "\t<tr><th scope=row>45</th><td>45  </td><td>145 </td><td>1045</td></tr>\n",
       "\t<tr><th scope=row>46</th><td>46  </td><td>146 </td><td>1046</td></tr>\n",
       "\t<tr><th scope=row>47</th><td>47  </td><td>147 </td><td>1047</td></tr>\n",
       "\t<tr><th scope=row>48</th><td>48  </td><td>148 </td><td>1048</td></tr>\n",
       "\t<tr><th scope=row>49</th><td>49  </td><td>149 </td><td>1049</td></tr>\n",
       "\t<tr><th scope=row>50</th><td>50  </td><td>150 </td><td>1050</td></tr>\n",
       "\t<tr><th scope=row>51</th><td>51  </td><td>151 </td><td>1051</td></tr>\n",
       "\t<tr><th scope=row>52</th><td>52  </td><td>152 </td><td>1052</td></tr>\n",
       "\t<tr><th scope=row>53</th><td>53  </td><td>153 </td><td>1053</td></tr>\n",
       "\t<tr><th scope=row>54</th><td>54  </td><td>154 </td><td>1054</td></tr>\n",
       "\t<tr><th scope=row>55</th><td>55  </td><td>155 </td><td>1055</td></tr>\n",
       "</tbody>\n",
       "</table>\n"
      ],
      "text/latex": [
       "\\begin{tabular}{r|lll}\n",
       "  & col1 & col2 & col3\\\\\n",
       "\\hline\n",
       "\t45 & 45   & 145  & 1045\\\\\n",
       "\t46 & 46   & 146  & 1046\\\\\n",
       "\t47 & 47   & 147  & 1047\\\\\n",
       "\t48 & 48   & 148  & 1048\\\\\n",
       "\t49 & 49   & 149  & 1049\\\\\n",
       "\t50 & 50   & 150  & 1050\\\\\n",
       "\t51 & 51   & 151  & 1051\\\\\n",
       "\t52 & 52   & 152  & 1052\\\\\n",
       "\t53 & 53   & 153  & 1053\\\\\n",
       "\t54 & 54   & 154  & 1054\\\\\n",
       "\t55 & 55   & 155  & 1055\\\\\n",
       "\\end{tabular}\n"
      ],
      "text/markdown": [
       "\n",
       "| <!--/--> | col1 | col2 | col3 |\n",
       "|---|---|---|---|\n",
       "| 45 | 45   | 145  | 1045 |\n",
       "| 46 | 46   | 146  | 1046 |\n",
       "| 47 | 47   | 147  | 1047 |\n",
       "| 48 | 48   | 148  | 1048 |\n",
       "| 49 | 49   | 149  | 1049 |\n",
       "| 50 | 50   | 150  | 1050 |\n",
       "| 51 | 51   | 151  | 1051 |\n",
       "| 52 | 52   | 152  | 1052 |\n",
       "| 53 | 53   | 153  | 1053 |\n",
       "| 54 | 54   | 154  | 1054 |\n",
       "| 55 | 55   | 155  | 1055 |\n",
       "\n"
      ],
      "text/plain": [
       "   col1 col2 col3\n",
       "45 45   145  1045\n",
       "46 46   146  1046\n",
       "47 47   147  1047\n",
       "48 48   148  1048\n",
       "49 49   149  1049\n",
       "50 50   150  1050\n",
       "51 51   151  1051\n",
       "52 52   152  1052\n",
       "53 53   153  1053\n",
       "54 54   154  1054\n",
       "55 55   155  1055"
      ]
     },
     "metadata": {},
     "output_type": "display_data"
    }
   ],
   "source": [
    "df4[45:55, ]"
   ]
  },
  {
   "cell_type": "code",
   "execution_count": 84,
   "metadata": {},
   "outputs": [
    {
     "data": {
      "text/html": [
       "<ol class=list-inline>\n",
       "\t<li>100</li>\n",
       "\t<li>3</li>\n",
       "</ol>\n"
      ],
      "text/latex": [
       "\\begin{enumerate*}\n",
       "\\item 100\n",
       "\\item 3\n",
       "\\end{enumerate*}\n"
      ],
      "text/markdown": [
       "1. 100\n",
       "2. 3\n",
       "\n",
       "\n"
      ],
      "text/plain": [
       "[1] 100   3"
      ]
     },
     "metadata": {},
     "output_type": "display_data"
    }
   ],
   "source": [
    "dim(df4)"
   ]
  },
  {
   "cell_type": "code",
   "execution_count": 85,
   "metadata": {},
   "outputs": [
    {
     "data": {
      "text/html": [
       "<dl class=dl-horizontal>\n",
       "\t<dt>col1</dt>\n",
       "\t\t<dd>50.5</dd>\n",
       "\t<dt>col2</dt>\n",
       "\t\t<dd>150.5</dd>\n",
       "\t<dt>col3</dt>\n",
       "\t\t<dd>1050.5</dd>\n",
       "</dl>\n"
      ],
      "text/latex": [
       "\\begin{description*}\n",
       "\\item[col1] 50.5\n",
       "\\item[col2] 150.5\n",
       "\\item[col3] 1050.5\n",
       "\\end{description*}\n"
      ],
      "text/markdown": [
       "col1\n",
       ":   50.5col2\n",
       ":   150.5col3\n",
       ":   1050.5\n",
       "\n"
      ],
      "text/plain": [
       "  col1   col2   col3 \n",
       "  50.5  150.5 1050.5 "
      ]
     },
     "metadata": {},
     "output_type": "display_data"
    }
   ],
   "source": [
    "apply(df4, 2, mean)"
   ]
  },
  {
   "cell_type": "code",
   "execution_count": 86,
   "metadata": {},
   "outputs": [
    {
     "data": {
      "text/html": [
       "<ol class=list-inline>\n",
       "\t<li>1001</li>\n",
       "\t<li>1002</li>\n",
       "\t<li>1003</li>\n",
       "\t<li>1004</li>\n",
       "\t<li>1005</li>\n",
       "\t<li>1006</li>\n",
       "\t<li>1007</li>\n",
       "\t<li>1008</li>\n",
       "\t<li>1009</li>\n",
       "\t<li>1010</li>\n",
       "\t<li>1011</li>\n",
       "\t<li>1012</li>\n",
       "\t<li>1013</li>\n",
       "\t<li>1014</li>\n",
       "\t<li>1015</li>\n",
       "\t<li>1016</li>\n",
       "\t<li>1017</li>\n",
       "\t<li>1018</li>\n",
       "\t<li>1019</li>\n",
       "\t<li>1020</li>\n",
       "\t<li>1021</li>\n",
       "\t<li>1022</li>\n",
       "\t<li>1023</li>\n",
       "\t<li>1024</li>\n",
       "\t<li>1025</li>\n",
       "\t<li>1026</li>\n",
       "\t<li>1027</li>\n",
       "\t<li>1028</li>\n",
       "\t<li>1029</li>\n",
       "\t<li>1030</li>\n",
       "\t<li>1031</li>\n",
       "\t<li>1032</li>\n",
       "\t<li>1033</li>\n",
       "\t<li>1034</li>\n",
       "\t<li>1035</li>\n",
       "\t<li>1036</li>\n",
       "\t<li>1037</li>\n",
       "\t<li>1038</li>\n",
       "\t<li>1039</li>\n",
       "\t<li>1040</li>\n",
       "\t<li>1041</li>\n",
       "\t<li>1042</li>\n",
       "\t<li>1043</li>\n",
       "\t<li>1044</li>\n",
       "\t<li>1045</li>\n",
       "\t<li>1046</li>\n",
       "\t<li>1047</li>\n",
       "\t<li>1048</li>\n",
       "\t<li>1049</li>\n",
       "\t<li>1050</li>\n",
       "\t<li>1051</li>\n",
       "\t<li>1052</li>\n",
       "\t<li>1053</li>\n",
       "\t<li>1054</li>\n",
       "\t<li>1055</li>\n",
       "\t<li>1056</li>\n",
       "\t<li>1057</li>\n",
       "\t<li>1058</li>\n",
       "\t<li>1059</li>\n",
       "\t<li>1060</li>\n",
       "\t<li>1061</li>\n",
       "\t<li>1062</li>\n",
       "\t<li>1063</li>\n",
       "\t<li>1064</li>\n",
       "\t<li>1065</li>\n",
       "\t<li>1066</li>\n",
       "\t<li>1067</li>\n",
       "\t<li>1068</li>\n",
       "\t<li>1069</li>\n",
       "\t<li>1070</li>\n",
       "\t<li>1071</li>\n",
       "\t<li>1072</li>\n",
       "\t<li>1073</li>\n",
       "\t<li>1074</li>\n",
       "\t<li>1075</li>\n",
       "\t<li>1076</li>\n",
       "\t<li>1077</li>\n",
       "\t<li>1078</li>\n",
       "\t<li>1079</li>\n",
       "\t<li>1080</li>\n",
       "\t<li>1081</li>\n",
       "\t<li>1082</li>\n",
       "\t<li>1083</li>\n",
       "\t<li>1084</li>\n",
       "\t<li>1085</li>\n",
       "\t<li>1086</li>\n",
       "\t<li>1087</li>\n",
       "\t<li>1088</li>\n",
       "\t<li>1089</li>\n",
       "\t<li>1090</li>\n",
       "\t<li>1091</li>\n",
       "\t<li>1092</li>\n",
       "\t<li>1093</li>\n",
       "\t<li>1094</li>\n",
       "\t<li>1095</li>\n",
       "\t<li>1096</li>\n",
       "\t<li>1097</li>\n",
       "\t<li>1098</li>\n",
       "\t<li>1099</li>\n",
       "\t<li>1100</li>\n",
       "</ol>\n"
      ],
      "text/latex": [
       "\\begin{enumerate*}\n",
       "\\item 1001\n",
       "\\item 1002\n",
       "\\item 1003\n",
       "\\item 1004\n",
       "\\item 1005\n",
       "\\item 1006\n",
       "\\item 1007\n",
       "\\item 1008\n",
       "\\item 1009\n",
       "\\item 1010\n",
       "\\item 1011\n",
       "\\item 1012\n",
       "\\item 1013\n",
       "\\item 1014\n",
       "\\item 1015\n",
       "\\item 1016\n",
       "\\item 1017\n",
       "\\item 1018\n",
       "\\item 1019\n",
       "\\item 1020\n",
       "\\item 1021\n",
       "\\item 1022\n",
       "\\item 1023\n",
       "\\item 1024\n",
       "\\item 1025\n",
       "\\item 1026\n",
       "\\item 1027\n",
       "\\item 1028\n",
       "\\item 1029\n",
       "\\item 1030\n",
       "\\item 1031\n",
       "\\item 1032\n",
       "\\item 1033\n",
       "\\item 1034\n",
       "\\item 1035\n",
       "\\item 1036\n",
       "\\item 1037\n",
       "\\item 1038\n",
       "\\item 1039\n",
       "\\item 1040\n",
       "\\item 1041\n",
       "\\item 1042\n",
       "\\item 1043\n",
       "\\item 1044\n",
       "\\item 1045\n",
       "\\item 1046\n",
       "\\item 1047\n",
       "\\item 1048\n",
       "\\item 1049\n",
       "\\item 1050\n",
       "\\item 1051\n",
       "\\item 1052\n",
       "\\item 1053\n",
       "\\item 1054\n",
       "\\item 1055\n",
       "\\item 1056\n",
       "\\item 1057\n",
       "\\item 1058\n",
       "\\item 1059\n",
       "\\item 1060\n",
       "\\item 1061\n",
       "\\item 1062\n",
       "\\item 1063\n",
       "\\item 1064\n",
       "\\item 1065\n",
       "\\item 1066\n",
       "\\item 1067\n",
       "\\item 1068\n",
       "\\item 1069\n",
       "\\item 1070\n",
       "\\item 1071\n",
       "\\item 1072\n",
       "\\item 1073\n",
       "\\item 1074\n",
       "\\item 1075\n",
       "\\item 1076\n",
       "\\item 1077\n",
       "\\item 1078\n",
       "\\item 1079\n",
       "\\item 1080\n",
       "\\item 1081\n",
       "\\item 1082\n",
       "\\item 1083\n",
       "\\item 1084\n",
       "\\item 1085\n",
       "\\item 1086\n",
       "\\item 1087\n",
       "\\item 1088\n",
       "\\item 1089\n",
       "\\item 1090\n",
       "\\item 1091\n",
       "\\item 1092\n",
       "\\item 1093\n",
       "\\item 1094\n",
       "\\item 1095\n",
       "\\item 1096\n",
       "\\item 1097\n",
       "\\item 1098\n",
       "\\item 1099\n",
       "\\item 1100\n",
       "\\end{enumerate*}\n"
      ],
      "text/markdown": [
       "1. 1001\n",
       "2. 1002\n",
       "3. 1003\n",
       "4. 1004\n",
       "5. 1005\n",
       "6. 1006\n",
       "7. 1007\n",
       "8. 1008\n",
       "9. 1009\n",
       "10. 1010\n",
       "11. 1011\n",
       "12. 1012\n",
       "13. 1013\n",
       "14. 1014\n",
       "15. 1015\n",
       "16. 1016\n",
       "17. 1017\n",
       "18. 1018\n",
       "19. 1019\n",
       "20. 1020\n",
       "21. 1021\n",
       "22. 1022\n",
       "23. 1023\n",
       "24. 1024\n",
       "25. 1025\n",
       "26. 1026\n",
       "27. 1027\n",
       "28. 1028\n",
       "29. 1029\n",
       "30. 1030\n",
       "31. 1031\n",
       "32. 1032\n",
       "33. 1033\n",
       "34. 1034\n",
       "35. 1035\n",
       "36. 1036\n",
       "37. 1037\n",
       "38. 1038\n",
       "39. 1039\n",
       "40. 1040\n",
       "41. 1041\n",
       "42. 1042\n",
       "43. 1043\n",
       "44. 1044\n",
       "45. 1045\n",
       "46. 1046\n",
       "47. 1047\n",
       "48. 1048\n",
       "49. 1049\n",
       "50. 1050\n",
       "51. 1051\n",
       "52. 1052\n",
       "53. 1053\n",
       "54. 1054\n",
       "55. 1055\n",
       "56. 1056\n",
       "57. 1057\n",
       "58. 1058\n",
       "59. 1059\n",
       "60. 1060\n",
       "61. 1061\n",
       "62. 1062\n",
       "63. 1063\n",
       "64. 1064\n",
       "65. 1065\n",
       "66. 1066\n",
       "67. 1067\n",
       "68. 1068\n",
       "69. 1069\n",
       "70. 1070\n",
       "71. 1071\n",
       "72. 1072\n",
       "73. 1073\n",
       "74. 1074\n",
       "75. 1075\n",
       "76. 1076\n",
       "77. 1077\n",
       "78. 1078\n",
       "79. 1079\n",
       "80. 1080\n",
       "81. 1081\n",
       "82. 1082\n",
       "83. 1083\n",
       "84. 1084\n",
       "85. 1085\n",
       "86. 1086\n",
       "87. 1087\n",
       "88. 1088\n",
       "89. 1089\n",
       "90. 1090\n",
       "91. 1091\n",
       "92. 1092\n",
       "93. 1093\n",
       "94. 1094\n",
       "95. 1095\n",
       "96. 1096\n",
       "97. 1097\n",
       "98. 1098\n",
       "99. 1099\n",
       "100. 1100\n",
       "\n",
       "\n"
      ],
      "text/plain": [
       "  [1] 1001 1002 1003 1004 1005 1006 1007 1008 1009 1010 1011 1012 1013 1014 1015\n",
       " [16] 1016 1017 1018 1019 1020 1021 1022 1023 1024 1025 1026 1027 1028 1029 1030\n",
       " [31] 1031 1032 1033 1034 1035 1036 1037 1038 1039 1040 1041 1042 1043 1044 1045\n",
       " [46] 1046 1047 1048 1049 1050 1051 1052 1053 1054 1055 1056 1057 1058 1059 1060\n",
       " [61] 1061 1062 1063 1064 1065 1066 1067 1068 1069 1070 1071 1072 1073 1074 1075\n",
       " [76] 1076 1077 1078 1079 1080 1081 1082 1083 1084 1085 1086 1087 1088 1089 1090\n",
       " [91] 1091 1092 1093 1094 1095 1096 1097 1098 1099 1100"
      ]
     },
     "metadata": {},
     "output_type": "display_data"
    }
   ],
   "source": [
    "apply(df4, 1, max)"
   ]
  },
  {
   "cell_type": "code",
   "execution_count": 88,
   "metadata": {},
   "outputs": [
    {
     "data": {
      "text/html": [
       "<ol class=list-inline>\n",
       "\t<li>899</li>\n",
       "\t<li>898</li>\n",
       "\t<li>897</li>\n",
       "\t<li>896</li>\n",
       "\t<li>895</li>\n",
       "\t<li>894</li>\n",
       "\t<li>893</li>\n",
       "\t<li>892</li>\n",
       "\t<li>891</li>\n",
       "\t<li>890</li>\n",
       "\t<li>889</li>\n",
       "\t<li>888</li>\n",
       "\t<li>887</li>\n",
       "\t<li>886</li>\n",
       "\t<li>885</li>\n",
       "\t<li>884</li>\n",
       "\t<li>883</li>\n",
       "\t<li>882</li>\n",
       "\t<li>881</li>\n",
       "\t<li>880</li>\n",
       "\t<li>879</li>\n",
       "\t<li>878</li>\n",
       "\t<li>877</li>\n",
       "\t<li>876</li>\n",
       "\t<li>875</li>\n",
       "\t<li>874</li>\n",
       "\t<li>873</li>\n",
       "\t<li>872</li>\n",
       "\t<li>871</li>\n",
       "\t<li>870</li>\n",
       "\t<li>869</li>\n",
       "\t<li>868</li>\n",
       "\t<li>867</li>\n",
       "\t<li>866</li>\n",
       "\t<li>865</li>\n",
       "\t<li>864</li>\n",
       "\t<li>863</li>\n",
       "\t<li>862</li>\n",
       "\t<li>861</li>\n",
       "\t<li>860</li>\n",
       "\t<li>859</li>\n",
       "\t<li>858</li>\n",
       "\t<li>857</li>\n",
       "\t<li>856</li>\n",
       "\t<li>855</li>\n",
       "\t<li>854</li>\n",
       "\t<li>853</li>\n",
       "\t<li>852</li>\n",
       "\t<li>851</li>\n",
       "\t<li>850</li>\n",
       "\t<li>849</li>\n",
       "\t<li>848</li>\n",
       "\t<li>847</li>\n",
       "\t<li>846</li>\n",
       "\t<li>845</li>\n",
       "\t<li>844</li>\n",
       "\t<li>843</li>\n",
       "\t<li>842</li>\n",
       "\t<li>841</li>\n",
       "\t<li>840</li>\n",
       "\t<li>839</li>\n",
       "\t<li>838</li>\n",
       "\t<li>837</li>\n",
       "\t<li>836</li>\n",
       "\t<li>835</li>\n",
       "\t<li>834</li>\n",
       "\t<li>833</li>\n",
       "\t<li>832</li>\n",
       "\t<li>831</li>\n",
       "\t<li>830</li>\n",
       "\t<li>829</li>\n",
       "\t<li>828</li>\n",
       "\t<li>827</li>\n",
       "\t<li>826</li>\n",
       "\t<li>825</li>\n",
       "\t<li>824</li>\n",
       "\t<li>823</li>\n",
       "\t<li>822</li>\n",
       "\t<li>821</li>\n",
       "\t<li>820</li>\n",
       "\t<li>819</li>\n",
       "\t<li>818</li>\n",
       "\t<li>817</li>\n",
       "\t<li>816</li>\n",
       "\t<li>815</li>\n",
       "\t<li>814</li>\n",
       "\t<li>813</li>\n",
       "\t<li>812</li>\n",
       "\t<li>811</li>\n",
       "\t<li>810</li>\n",
       "\t<li>809</li>\n",
       "\t<li>808</li>\n",
       "\t<li>807</li>\n",
       "\t<li>806</li>\n",
       "\t<li>805</li>\n",
       "\t<li>804</li>\n",
       "\t<li>803</li>\n",
       "\t<li>802</li>\n",
       "\t<li>801</li>\n",
       "\t<li>800</li>\n",
       "</ol>\n"
      ],
      "text/latex": [
       "\\begin{enumerate*}\n",
       "\\item 899\n",
       "\\item 898\n",
       "\\item 897\n",
       "\\item 896\n",
       "\\item 895\n",
       "\\item 894\n",
       "\\item 893\n",
       "\\item 892\n",
       "\\item 891\n",
       "\\item 890\n",
       "\\item 889\n",
       "\\item 888\n",
       "\\item 887\n",
       "\\item 886\n",
       "\\item 885\n",
       "\\item 884\n",
       "\\item 883\n",
       "\\item 882\n",
       "\\item 881\n",
       "\\item 880\n",
       "\\item 879\n",
       "\\item 878\n",
       "\\item 877\n",
       "\\item 876\n",
       "\\item 875\n",
       "\\item 874\n",
       "\\item 873\n",
       "\\item 872\n",
       "\\item 871\n",
       "\\item 870\n",
       "\\item 869\n",
       "\\item 868\n",
       "\\item 867\n",
       "\\item 866\n",
       "\\item 865\n",
       "\\item 864\n",
       "\\item 863\n",
       "\\item 862\n",
       "\\item 861\n",
       "\\item 860\n",
       "\\item 859\n",
       "\\item 858\n",
       "\\item 857\n",
       "\\item 856\n",
       "\\item 855\n",
       "\\item 854\n",
       "\\item 853\n",
       "\\item 852\n",
       "\\item 851\n",
       "\\item 850\n",
       "\\item 849\n",
       "\\item 848\n",
       "\\item 847\n",
       "\\item 846\n",
       "\\item 845\n",
       "\\item 844\n",
       "\\item 843\n",
       "\\item 842\n",
       "\\item 841\n",
       "\\item 840\n",
       "\\item 839\n",
       "\\item 838\n",
       "\\item 837\n",
       "\\item 836\n",
       "\\item 835\n",
       "\\item 834\n",
       "\\item 833\n",
       "\\item 832\n",
       "\\item 831\n",
       "\\item 830\n",
       "\\item 829\n",
       "\\item 828\n",
       "\\item 827\n",
       "\\item 826\n",
       "\\item 825\n",
       "\\item 824\n",
       "\\item 823\n",
       "\\item 822\n",
       "\\item 821\n",
       "\\item 820\n",
       "\\item 819\n",
       "\\item 818\n",
       "\\item 817\n",
       "\\item 816\n",
       "\\item 815\n",
       "\\item 814\n",
       "\\item 813\n",
       "\\item 812\n",
       "\\item 811\n",
       "\\item 810\n",
       "\\item 809\n",
       "\\item 808\n",
       "\\item 807\n",
       "\\item 806\n",
       "\\item 805\n",
       "\\item 804\n",
       "\\item 803\n",
       "\\item 802\n",
       "\\item 801\n",
       "\\item 800\n",
       "\\end{enumerate*}\n"
      ],
      "text/markdown": [
       "1. 899\n",
       "2. 898\n",
       "3. 897\n",
       "4. 896\n",
       "5. 895\n",
       "6. 894\n",
       "7. 893\n",
       "8. 892\n",
       "9. 891\n",
       "10. 890\n",
       "11. 889\n",
       "12. 888\n",
       "13. 887\n",
       "14. 886\n",
       "15. 885\n",
       "16. 884\n",
       "17. 883\n",
       "18. 882\n",
       "19. 881\n",
       "20. 880\n",
       "21. 879\n",
       "22. 878\n",
       "23. 877\n",
       "24. 876\n",
       "25. 875\n",
       "26. 874\n",
       "27. 873\n",
       "28. 872\n",
       "29. 871\n",
       "30. 870\n",
       "31. 869\n",
       "32. 868\n",
       "33. 867\n",
       "34. 866\n",
       "35. 865\n",
       "36. 864\n",
       "37. 863\n",
       "38. 862\n",
       "39. 861\n",
       "40. 860\n",
       "41. 859\n",
       "42. 858\n",
       "43. 857\n",
       "44. 856\n",
       "45. 855\n",
       "46. 854\n",
       "47. 853\n",
       "48. 852\n",
       "49. 851\n",
       "50. 850\n",
       "51. 849\n",
       "52. 848\n",
       "53. 847\n",
       "54. 846\n",
       "55. 845\n",
       "56. 844\n",
       "57. 843\n",
       "58. 842\n",
       "59. 841\n",
       "60. 840\n",
       "61. 839\n",
       "62. 838\n",
       "63. 837\n",
       "64. 836\n",
       "65. 835\n",
       "66. 834\n",
       "67. 833\n",
       "68. 832\n",
       "69. 831\n",
       "70. 830\n",
       "71. 829\n",
       "72. 828\n",
       "73. 827\n",
       "74. 826\n",
       "75. 825\n",
       "76. 824\n",
       "77. 823\n",
       "78. 822\n",
       "79. 821\n",
       "80. 820\n",
       "81. 819\n",
       "82. 818\n",
       "83. 817\n",
       "84. 816\n",
       "85. 815\n",
       "86. 814\n",
       "87. 813\n",
       "88. 812\n",
       "89. 811\n",
       "90. 810\n",
       "91. 809\n",
       "92. 808\n",
       "93. 807\n",
       "94. 806\n",
       "95. 805\n",
       "96. 804\n",
       "97. 803\n",
       "98. 802\n",
       "99. 801\n",
       "100. 800\n",
       "\n",
       "\n"
      ],
      "text/plain": [
       "  [1] 899 898 897 896 895 894 893 892 891 890 889 888 887 886 885 884 883 882\n",
       " [19] 881 880 879 878 877 876 875 874 873 872 871 870 869 868 867 866 865 864\n",
       " [37] 863 862 861 860 859 858 857 856 855 854 853 852 851 850 849 848 847 846\n",
       " [55] 845 844 843 842 841 840 839 838 837 836 835 834 833 832 831 830 829 828\n",
       " [73] 827 826 825 824 823 822 821 820 819 818 817 816 815 814 813 812 811 810\n",
       " [91] 809 808 807 806 805 804 803 802 801 800"
      ]
     },
     "metadata": {},
     "output_type": "display_data"
    }
   ],
   "source": [
    "apply (df4, 1, function(x) x[3] - (x[1] + x[2]))"
   ]
  },
  {
   "cell_type": "code",
   "execution_count": 90,
   "metadata": {},
   "outputs": [
    {
     "data": {
      "text/html": [
       "<ol class=list-inline>\n",
       "\t<li>FALSE</li>\n",
       "\t<li>FALSE</li>\n",
       "\t<li>FALSE</li>\n",
       "\t<li>FALSE</li>\n",
       "\t<li>FALSE</li>\n",
       "\t<li>FALSE</li>\n",
       "\t<li>FALSE</li>\n",
       "\t<li>FALSE</li>\n",
       "\t<li>FALSE</li>\n",
       "\t<li>FALSE</li>\n",
       "\t<li>FALSE</li>\n",
       "\t<li>FALSE</li>\n",
       "\t<li>FALSE</li>\n",
       "\t<li>FALSE</li>\n",
       "\t<li>FALSE</li>\n",
       "\t<li>TRUE</li>\n",
       "\t<li>TRUE</li>\n",
       "\t<li>TRUE</li>\n",
       "\t<li>TRUE</li>\n",
       "\t<li>TRUE</li>\n",
       "\t<li>TRUE</li>\n",
       "\t<li>TRUE</li>\n",
       "\t<li>TRUE</li>\n",
       "\t<li>TRUE</li>\n",
       "\t<li>TRUE</li>\n",
       "\t<li>TRUE</li>\n",
       "\t<li>TRUE</li>\n",
       "\t<li>TRUE</li>\n",
       "\t<li>TRUE</li>\n",
       "\t<li>TRUE</li>\n",
       "\t<li>TRUE</li>\n",
       "\t<li>TRUE</li>\n",
       "\t<li>TRUE</li>\n",
       "\t<li>TRUE</li>\n",
       "\t<li>TRUE</li>\n",
       "\t<li>TRUE</li>\n",
       "\t<li>TRUE</li>\n",
       "\t<li>TRUE</li>\n",
       "\t<li>TRUE</li>\n",
       "\t<li>TRUE</li>\n",
       "\t<li>TRUE</li>\n",
       "\t<li>TRUE</li>\n",
       "\t<li>TRUE</li>\n",
       "\t<li>TRUE</li>\n",
       "\t<li>TRUE</li>\n",
       "\t<li>TRUE</li>\n",
       "\t<li>TRUE</li>\n",
       "\t<li>TRUE</li>\n",
       "\t<li>TRUE</li>\n",
       "\t<li>TRUE</li>\n",
       "</ol>\n"
      ],
      "text/latex": [
       "\\begin{enumerate*}\n",
       "\\item FALSE\n",
       "\\item FALSE\n",
       "\\item FALSE\n",
       "\\item FALSE\n",
       "\\item FALSE\n",
       "\\item FALSE\n",
       "\\item FALSE\n",
       "\\item FALSE\n",
       "\\item FALSE\n",
       "\\item FALSE\n",
       "\\item FALSE\n",
       "\\item FALSE\n",
       "\\item FALSE\n",
       "\\item FALSE\n",
       "\\item FALSE\n",
       "\\item TRUE\n",
       "\\item TRUE\n",
       "\\item TRUE\n",
       "\\item TRUE\n",
       "\\item TRUE\n",
       "\\item TRUE\n",
       "\\item TRUE\n",
       "\\item TRUE\n",
       "\\item TRUE\n",
       "\\item TRUE\n",
       "\\item TRUE\n",
       "\\item TRUE\n",
       "\\item TRUE\n",
       "\\item TRUE\n",
       "\\item TRUE\n",
       "\\item TRUE\n",
       "\\item TRUE\n",
       "\\item TRUE\n",
       "\\item TRUE\n",
       "\\item TRUE\n",
       "\\item TRUE\n",
       "\\item TRUE\n",
       "\\item TRUE\n",
       "\\item TRUE\n",
       "\\item TRUE\n",
       "\\item TRUE\n",
       "\\item TRUE\n",
       "\\item TRUE\n",
       "\\item TRUE\n",
       "\\item TRUE\n",
       "\\item TRUE\n",
       "\\item TRUE\n",
       "\\item TRUE\n",
       "\\item TRUE\n",
       "\\item TRUE\n",
       "\\end{enumerate*}\n"
      ],
      "text/markdown": [
       "1. FALSE\n",
       "2. FALSE\n",
       "3. FALSE\n",
       "4. FALSE\n",
       "5. FALSE\n",
       "6. FALSE\n",
       "7. FALSE\n",
       "8. FALSE\n",
       "9. FALSE\n",
       "10. FALSE\n",
       "11. FALSE\n",
       "12. FALSE\n",
       "13. FALSE\n",
       "14. FALSE\n",
       "15. FALSE\n",
       "16. TRUE\n",
       "17. TRUE\n",
       "18. TRUE\n",
       "19. TRUE\n",
       "20. TRUE\n",
       "21. TRUE\n",
       "22. TRUE\n",
       "23. TRUE\n",
       "24. TRUE\n",
       "25. TRUE\n",
       "26. TRUE\n",
       "27. TRUE\n",
       "28. TRUE\n",
       "29. TRUE\n",
       "30. TRUE\n",
       "31. TRUE\n",
       "32. TRUE\n",
       "33. TRUE\n",
       "34. TRUE\n",
       "35. TRUE\n",
       "36. TRUE\n",
       "37. TRUE\n",
       "38. TRUE\n",
       "39. TRUE\n",
       "40. TRUE\n",
       "41. TRUE\n",
       "42. TRUE\n",
       "43. TRUE\n",
       "44. TRUE\n",
       "45. TRUE\n",
       "46. TRUE\n",
       "47. TRUE\n",
       "48. TRUE\n",
       "49. TRUE\n",
       "50. TRUE\n",
       "\n",
       "\n"
      ],
      "text/plain": [
       " [1] FALSE FALSE FALSE FALSE FALSE FALSE FALSE FALSE FALSE FALSE FALSE FALSE\n",
       "[13] FALSE FALSE FALSE  TRUE  TRUE  TRUE  TRUE  TRUE  TRUE  TRUE  TRUE  TRUE\n",
       "[25]  TRUE  TRUE  TRUE  TRUE  TRUE  TRUE  TRUE  TRUE  TRUE  TRUE  TRUE  TRUE\n",
       "[37]  TRUE  TRUE  TRUE  TRUE  TRUE  TRUE  TRUE  TRUE  TRUE  TRUE  TRUE  TRUE\n",
       "[49]  TRUE  TRUE"
      ]
     },
     "metadata": {},
     "output_type": "display_data"
    }
   ],
   "source": [
    "sapply(col1, function(x) x>65)"
   ]
  },
  {
   "cell_type": "code",
   "execution_count": 91,
   "metadata": {},
   "outputs": [
    {
     "data": {
      "text/html": [
       "<ol>\n",
       "\t<li>TRUE</li>\n",
       "\t<li>TRUE</li>\n",
       "\t<li>TRUE</li>\n",
       "\t<li>TRUE</li>\n",
       "\t<li>TRUE</li>\n",
       "\t<li>TRUE</li>\n",
       "\t<li>TRUE</li>\n",
       "\t<li>TRUE</li>\n",
       "\t<li>TRUE</li>\n",
       "\t<li>TRUE</li>\n",
       "\t<li>TRUE</li>\n",
       "\t<li>TRUE</li>\n",
       "\t<li>TRUE</li>\n",
       "\t<li>TRUE</li>\n",
       "\t<li>FALSE</li>\n",
       "\t<li>FALSE</li>\n",
       "\t<li>FALSE</li>\n",
       "\t<li>FALSE</li>\n",
       "\t<li>FALSE</li>\n",
       "\t<li>FALSE</li>\n",
       "\t<li>FALSE</li>\n",
       "\t<li>FALSE</li>\n",
       "\t<li>FALSE</li>\n",
       "\t<li>FALSE</li>\n",
       "\t<li>FALSE</li>\n",
       "\t<li>FALSE</li>\n",
       "\t<li>FALSE</li>\n",
       "\t<li>FALSE</li>\n",
       "\t<li>FALSE</li>\n",
       "\t<li>FALSE</li>\n",
       "\t<li>FALSE</li>\n",
       "\t<li>FALSE</li>\n",
       "\t<li>FALSE</li>\n",
       "\t<li>FALSE</li>\n",
       "\t<li>FALSE</li>\n",
       "\t<li>FALSE</li>\n",
       "\t<li>FALSE</li>\n",
       "\t<li>FALSE</li>\n",
       "\t<li>FALSE</li>\n",
       "\t<li>FALSE</li>\n",
       "\t<li>FALSE</li>\n",
       "\t<li>FALSE</li>\n",
       "\t<li>FALSE</li>\n",
       "\t<li>FALSE</li>\n",
       "\t<li>FALSE</li>\n",
       "\t<li>FALSE</li>\n",
       "\t<li>FALSE</li>\n",
       "\t<li>FALSE</li>\n",
       "\t<li>FALSE</li>\n",
       "\t<li>FALSE</li>\n",
       "</ol>\n"
      ],
      "text/latex": [
       "\\begin{enumerate}\n",
       "\\item TRUE\n",
       "\\item TRUE\n",
       "\\item TRUE\n",
       "\\item TRUE\n",
       "\\item TRUE\n",
       "\\item TRUE\n",
       "\\item TRUE\n",
       "\\item TRUE\n",
       "\\item TRUE\n",
       "\\item TRUE\n",
       "\\item TRUE\n",
       "\\item TRUE\n",
       "\\item TRUE\n",
       "\\item TRUE\n",
       "\\item FALSE\n",
       "\\item FALSE\n",
       "\\item FALSE\n",
       "\\item FALSE\n",
       "\\item FALSE\n",
       "\\item FALSE\n",
       "\\item FALSE\n",
       "\\item FALSE\n",
       "\\item FALSE\n",
       "\\item FALSE\n",
       "\\item FALSE\n",
       "\\item FALSE\n",
       "\\item FALSE\n",
       "\\item FALSE\n",
       "\\item FALSE\n",
       "\\item FALSE\n",
       "\\item FALSE\n",
       "\\item FALSE\n",
       "\\item FALSE\n",
       "\\item FALSE\n",
       "\\item FALSE\n",
       "\\item FALSE\n",
       "\\item FALSE\n",
       "\\item FALSE\n",
       "\\item FALSE\n",
       "\\item FALSE\n",
       "\\item FALSE\n",
       "\\item FALSE\n",
       "\\item FALSE\n",
       "\\item FALSE\n",
       "\\item FALSE\n",
       "\\item FALSE\n",
       "\\item FALSE\n",
       "\\item FALSE\n",
       "\\item FALSE\n",
       "\\item FALSE\n",
       "\\end{enumerate}\n"
      ],
      "text/markdown": [
       "1. TRUE\n",
       "2. TRUE\n",
       "3. TRUE\n",
       "4. TRUE\n",
       "5. TRUE\n",
       "6. TRUE\n",
       "7. TRUE\n",
       "8. TRUE\n",
       "9. TRUE\n",
       "10. TRUE\n",
       "11. TRUE\n",
       "12. TRUE\n",
       "13. TRUE\n",
       "14. TRUE\n",
       "15. FALSE\n",
       "16. FALSE\n",
       "17. FALSE\n",
       "18. FALSE\n",
       "19. FALSE\n",
       "20. FALSE\n",
       "21. FALSE\n",
       "22. FALSE\n",
       "23. FALSE\n",
       "24. FALSE\n",
       "25. FALSE\n",
       "26. FALSE\n",
       "27. FALSE\n",
       "28. FALSE\n",
       "29. FALSE\n",
       "30. FALSE\n",
       "31. FALSE\n",
       "32. FALSE\n",
       "33. FALSE\n",
       "34. FALSE\n",
       "35. FALSE\n",
       "36. FALSE\n",
       "37. FALSE\n",
       "38. FALSE\n",
       "39. FALSE\n",
       "40. FALSE\n",
       "41. FALSE\n",
       "42. FALSE\n",
       "43. FALSE\n",
       "44. FALSE\n",
       "45. FALSE\n",
       "46. FALSE\n",
       "47. FALSE\n",
       "48. FALSE\n",
       "49. FALSE\n",
       "50. FALSE\n",
       "\n",
       "\n"
      ],
      "text/plain": [
       "[[1]]\n",
       "[1] TRUE\n",
       "\n",
       "[[2]]\n",
       "[1] TRUE\n",
       "\n",
       "[[3]]\n",
       "[1] TRUE\n",
       "\n",
       "[[4]]\n",
       "[1] TRUE\n",
       "\n",
       "[[5]]\n",
       "[1] TRUE\n",
       "\n",
       "[[6]]\n",
       "[1] TRUE\n",
       "\n",
       "[[7]]\n",
       "[1] TRUE\n",
       "\n",
       "[[8]]\n",
       "[1] TRUE\n",
       "\n",
       "[[9]]\n",
       "[1] TRUE\n",
       "\n",
       "[[10]]\n",
       "[1] TRUE\n",
       "\n",
       "[[11]]\n",
       "[1] TRUE\n",
       "\n",
       "[[12]]\n",
       "[1] TRUE\n",
       "\n",
       "[[13]]\n",
       "[1] TRUE\n",
       "\n",
       "[[14]]\n",
       "[1] TRUE\n",
       "\n",
       "[[15]]\n",
       "[1] FALSE\n",
       "\n",
       "[[16]]\n",
       "[1] FALSE\n",
       "\n",
       "[[17]]\n",
       "[1] FALSE\n",
       "\n",
       "[[18]]\n",
       "[1] FALSE\n",
       "\n",
       "[[19]]\n",
       "[1] FALSE\n",
       "\n",
       "[[20]]\n",
       "[1] FALSE\n",
       "\n",
       "[[21]]\n",
       "[1] FALSE\n",
       "\n",
       "[[22]]\n",
       "[1] FALSE\n",
       "\n",
       "[[23]]\n",
       "[1] FALSE\n",
       "\n",
       "[[24]]\n",
       "[1] FALSE\n",
       "\n",
       "[[25]]\n",
       "[1] FALSE\n",
       "\n",
       "[[26]]\n",
       "[1] FALSE\n",
       "\n",
       "[[27]]\n",
       "[1] FALSE\n",
       "\n",
       "[[28]]\n",
       "[1] FALSE\n",
       "\n",
       "[[29]]\n",
       "[1] FALSE\n",
       "\n",
       "[[30]]\n",
       "[1] FALSE\n",
       "\n",
       "[[31]]\n",
       "[1] FALSE\n",
       "\n",
       "[[32]]\n",
       "[1] FALSE\n",
       "\n",
       "[[33]]\n",
       "[1] FALSE\n",
       "\n",
       "[[34]]\n",
       "[1] FALSE\n",
       "\n",
       "[[35]]\n",
       "[1] FALSE\n",
       "\n",
       "[[36]]\n",
       "[1] FALSE\n",
       "\n",
       "[[37]]\n",
       "[1] FALSE\n",
       "\n",
       "[[38]]\n",
       "[1] FALSE\n",
       "\n",
       "[[39]]\n",
       "[1] FALSE\n",
       "\n",
       "[[40]]\n",
       "[1] FALSE\n",
       "\n",
       "[[41]]\n",
       "[1] FALSE\n",
       "\n",
       "[[42]]\n",
       "[1] FALSE\n",
       "\n",
       "[[43]]\n",
       "[1] FALSE\n",
       "\n",
       "[[44]]\n",
       "[1] FALSE\n",
       "\n",
       "[[45]]\n",
       "[1] FALSE\n",
       "\n",
       "[[46]]\n",
       "[1] FALSE\n",
       "\n",
       "[[47]]\n",
       "[1] FALSE\n",
       "\n",
       "[[48]]\n",
       "[1] FALSE\n",
       "\n",
       "[[49]]\n",
       "[1] FALSE\n",
       "\n",
       "[[50]]\n",
       "[1] FALSE\n"
      ]
     },
     "metadata": {},
     "output_type": "display_data"
    }
   ],
   "source": [
    "lapply(col1, function(x) x<65)"
   ]
  },
  {
   "cell_type": "code",
   "execution_count": null,
   "metadata": {},
   "outputs": [],
   "source": []
  }
 ],
 "metadata": {
  "kernelspec": {
   "display_name": "R",
   "language": "R",
   "name": "ir"
  },
  "language_info": {
   "codemirror_mode": "r",
   "file_extension": ".r",
   "mimetype": "text/x-r-source",
   "name": "R",
   "pygments_lexer": "r",
   "version": "3.5.1"
  }
 },
 "nbformat": 4,
 "nbformat_minor": 2
}
