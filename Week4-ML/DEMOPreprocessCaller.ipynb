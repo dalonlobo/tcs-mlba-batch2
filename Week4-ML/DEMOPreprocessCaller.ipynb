{
 "cells": [
  {
   "cell_type": "code",
   "execution_count": 3,
   "metadata": {},
   "outputs": [
    {
     "name": "stdout",
     "output_type": "stream",
     "text": [
      "Collecting nltk\n",
      "  Downloading https://files.pythonhosted.org/packages/6f/ed/9c755d357d33bc1931e157f537721efb5b88d2c583fe593cc09603076cc3/nltk-3.4.zip (1.4MB)\n",
      "\u001b[K    100% |████████████████████████████████| 1.4MB 408kB/s eta 0:00:01\n",
      "\u001b[?25hRequirement already satisfied: six in /opt/conda/lib/python3.6/site-packages (from nltk)\n",
      "Collecting singledispatch (from nltk)\n",
      "  Downloading https://files.pythonhosted.org/packages/c5/10/369f50bcd4621b263927b0a1519987a04383d4a98fb10438042ad410cf88/singledispatch-3.4.0.3-py2.py3-none-any.whl\n",
      "Building wheels for collected packages: nltk\n",
      "  Running setup.py bdist_wheel for nltk ... \u001b[?25ldone\n",
      "\u001b[?25h  Stored in directory: /home/jovyan/.cache/pip/wheels/4b/c8/24/b2343664bcceb7147efeb21c0b23703a05b23fcfeaceaa2a1e\n",
      "Successfully built nltk\n",
      "Installing collected packages: singledispatch, nltk\n",
      "Successfully installed nltk-3.4 singledispatch-3.4.0.3\n",
      "\u001b[33mYou are using pip version 9.0.3, however version 19.0.1 is available.\n",
      "You should consider upgrading via the 'pip install --upgrade pip' command.\u001b[0m\n"
     ]
    }
   ],
   "source": [
    "!pip install nltk"
   ]
  },
  {
   "cell_type": "code",
   "execution_count": 6,
   "metadata": {},
   "outputs": [
    {
     "name": "stdout",
     "output_type": "stream",
     "text": [
      "Collecting Porter\n",
      "  Downloading https://files.pythonhosted.org/packages/b4/e9/a3b40a574aae27c2bd5504ef9129d5d822bd2b6888e53654f99cf565c194/porter-0.1.5.tar.gz\n",
      "Building wheels for collected packages: Porter\n",
      "  Running setup.py bdist_wheel for Porter ... \u001b[?25ldone\n",
      "\u001b[?25h  Stored in directory: /home/jovyan/.cache/pip/wheels/0b/82/09/4751d240d4e0e1f0cdb3e9751b6040db75095bd0d6e80ad5e2\n",
      "Successfully built Porter\n",
      "Installing collected packages: Porter\n",
      "Successfully installed Porter-0.1.5\n",
      "\u001b[33mYou are using pip version 9.0.3, however version 19.0.1 is available.\n",
      "You should consider upgrading via the 'pip install --upgrade pip' command.\u001b[0m\n"
     ]
    }
   ],
   "source": [
    "!pip install Porter"
   ]
  },
  {
   "cell_type": "code",
   "execution_count": 9,
   "metadata": {},
   "outputs": [
    {
     "name": "stdout",
     "output_type": "stream",
     "text": [
      "Collecting stemming\n",
      "  Downloading https://files.pythonhosted.org/packages/d1/eb/fd53fb51b83a4e3b8e98cfec2fa9e4b99401fce5177ec346e4a5c61df71e/stemming-1.0.1.tar.gz\n",
      "Building wheels for collected packages: stemming\n",
      "  Running setup.py bdist_wheel for stemming ... \u001b[?25ldone\n",
      "\u001b[?25h  Stored in directory: /home/jovyan/.cache/pip/wheels/e8/05/2e/2ddeb64d4464b854b48323f9676528c17560da7d153db7b0e2\n",
      "Successfully built stemming\n",
      "Installing collected packages: stemming\n",
      "Successfully installed stemming-1.0.1\n",
      "\u001b[33mYou are using pip version 9.0.3, however version 19.0.1 is available.\n",
      "You should consider upgrading via the 'pip install --upgrade pip' command.\u001b[0m\n"
     ]
    }
   ],
   "source": [
    "!pip install stemming"
   ]
  },
  {
   "cell_type": "code",
   "execution_count": 11,
   "metadata": {},
   "outputs": [
    {
     "name": "stdout",
     "output_type": "stream",
     "text": [
      "<module 'DEMOClassPreprocess' from '/home/jovyan/tcs-mlba-batch2/Week4-ML/DEMOClassPreprocess.py'>\n"
     ]
    }
   ],
   "source": [
    "import DEMOClassPreprocess as p\n",
    "print (p)\n"
   ]
  },
  {
   "cell_type": "code",
   "execution_count": 15,
   "metadata": {},
   "outputs": [
    {
     "name": "stderr",
     "output_type": "stream",
     "text": [
      "[nltk_data] Downloading package punkt to /home/jovyan/nltk_data...\n",
      "[nltk_data]   Unzipping tokenizers/punkt.zip.\n"
     ]
    },
    {
     "data": {
      "text/plain": [
       "True"
      ]
     },
     "execution_count": 15,
     "metadata": {},
     "output_type": "execute_result"
    }
   ],
   "source": [
    "import nltk\n",
    "nltk.download('punkt')"
   ]
  },
  {
   "cell_type": "code",
   "execution_count": 16,
   "metadata": {},
   "outputs": [
    {
     "name": "stdout",
     "output_type": "stream",
     "text": [
      "Actual Text=  @NickTheFNicon He can send but not rcve txts so he has an apt @apple at 4pm.Then he exclaims: \n",
      "            And I waited a whole YEAR for this phone!!LMAO <class 'str'>\n",
      "Cleaned Text =  send,not,rcve,txts,apt,pm,exclaim,wait,whole,year,phone,lmao <class 'str'>\n",
      "Actual Text=  the cant i get off work sooooon! i miss cody booo. haven't seen him in foreverr! <class 'str'>\n",
      "Cleaned Text =  cant,get,work,sooooon,miss,codi,booo,seen,foreverr <class 'str'>\n",
      "Actual Text= I hate allergies. Should I get my hair cut tomorrow? I'm taking a public poll... <class 'str'>\n",
      "Cleaned Text =  hate,allergi,get,hair,cut,tomorrow,take,public,poll <class 'str'>\n",
      "Actual Text=  *sigh* You cant love someone that doesn't love you back that's like stalker status . \n",
      "        GET a divorce &amp;&amp; move on . Trinity.   <class 'str'>\n",
      "Cleaned Text =  sigh,cant,love,someon,love,back,like,stalker,status,get,divorc,amp,amp,move,triniti <class 'str'>\n"
     ]
    },
    {
     "name": "stderr",
     "output_type": "stream",
     "text": [
      "[nltk_data] Downloading package stopwords to /home/jovyan/nltk_data...\n",
      "[nltk_data]   Package stopwords is already up-to-date!\n"
     ]
    }
   ],
   "source": [
    "prep = p.Preprocess()\n",
    "text = [''' @NickTheFNicon He can send but not rcve txts so he has an apt @apple at 4pm.Then he exclaims: \n",
    "            And I waited a whole YEAR for this phone!!LMAO''',\n",
    "        ' the cant i get off work sooooon! i miss cody booo. haven\\'t seen him in foreverr!',\n",
    "        'I hate allergies. Should I get my hair cut tomorrow? I\\'m taking a public poll...',\n",
    "        ''' *sigh* You cant love someone that doesn't love you back that's like stalker status . \n",
    "        GET a divorce &amp;&amp; move on . Trinity.  ''']\n",
    "for t in text:\n",
    "    print (\"Actual Text=\", t, type(t))\n",
    "    print (\"Cleaned Text = \", prep.clean(t), type(prep.clean(t)))"
   ]
  },
  {
   "cell_type": "code",
   "execution_count": null,
   "metadata": {},
   "outputs": [],
   "source": []
  },
  {
   "cell_type": "code",
   "execution_count": null,
   "metadata": {},
   "outputs": [],
   "source": []
  }
 ],
 "metadata": {
  "kernelspec": {
   "display_name": "Python 3",
   "language": "python",
   "name": "python3"
  },
  "language_info": {
   "codemirror_mode": {
    "name": "ipython",
    "version": 3
   },
   "file_extension": ".py",
   "mimetype": "text/x-python",
   "name": "python",
   "nbconvert_exporter": "python",
   "pygments_lexer": "ipython3",
   "version": "3.6.5"
  }
 },
 "nbformat": 4,
 "nbformat_minor": 2
}
