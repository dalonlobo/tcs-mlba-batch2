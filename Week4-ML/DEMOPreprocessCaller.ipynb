{
 "cells": [
  {
   "cell_type": "code",
   "execution_count": 1,
   "metadata": {},
   "outputs": [
    {
     "name": "stdout",
     "output_type": "stream",
     "text": [
      "<module 'DEMOClassPreprocess' from 'C:\\\\Users\\\\ShekarLattitude7280\\\\TCS Python And ML Notebooks\\\\ML\\\\Week 4 NB, BoW\\\\DEMOClassPreprocess.py'>\n"
     ]
    }
   ],
   "source": [
    "import DEMOClassPreprocess as p\n",
    "print (p)\n"
   ]
  },
  {
   "cell_type": "code",
   "execution_count": 2,
   "metadata": {},
   "outputs": [
    {
     "name": "stdout",
     "output_type": "stream",
     "text": [
      "[nltk_data] Downloading package stopwords to\n",
      "[nltk_data]     C:\\Users\\ShekarLattitude7280/nltk_data...\n",
      "[nltk_data]   Package stopwords is already up-to-date!\n",
      "Actual Text=  @NickTheFNicon He can send but not rcve txts so he has an apt @apple at 4pm.Then he exclaims: \n",
      "            And I waited a whole YEAR for this phone!!LMAO <class 'str'>\n",
      "<class 'str'>\n",
      "<class 'str'>\n",
      "Cleaned Text =  send,not,rcve,txts,apt,pm,exclaim,wait,whole,year,phone,lmao <class 'str'>\n",
      "Actual Text=  the cant i get off work sooooon! i miss cody booo. haven't seen him in foreverr! <class 'str'>\n",
      "<class 'str'>\n",
      "<class 'str'>\n",
      "Cleaned Text =  cant,get,work,sooooon,miss,codi,booo,seen,foreverr <class 'str'>\n",
      "Actual Text= I hate allergies. Should I get my hair cut tomorrow? I'm taking a public poll... <class 'str'>\n",
      "<class 'str'>\n",
      "<class 'str'>\n",
      "Cleaned Text =  hate,allergi,get,hair,cut,tomorrow,take,public,poll <class 'str'>\n",
      "Actual Text=  *sigh* You cant love someone that doesn't love you back that's like stalker status . \n",
      "        GET a divorce &amp;&amp; move on . Trinity.   <class 'str'>\n",
      "<class 'str'>\n",
      "<class 'str'>\n",
      "Cleaned Text =  sigh,cant,love,someon,love,back,like,stalker,status,get,divorc,amp,amp,move,triniti <class 'str'>\n"
     ]
    }
   ],
   "source": [
    "prep = p.Preprocess()\n",
    "text = [''' @NickTheFNicon He can send but not rcve txts so he has an apt @apple at 4pm.Then he exclaims: \n",
    "            And I waited a whole YEAR for this phone!!LMAO''',\n",
    "        ' the cant i get off work sooooon! i miss cody booo. haven\\'t seen him in foreverr!',\n",
    "        'I hate allergies. Should I get my hair cut tomorrow? I\\'m taking a public poll...',\n",
    "        ''' *sigh* You cant love someone that doesn't love you back that's like stalker status . \n",
    "        GET a divorce &amp;&amp; move on . Trinity.  ''']\n",
    "for t in text:\n",
    "    print (\"Actual Text=\", t, type(t))\n",
    "    print (\"Cleaned Text = \", prep.clean(t), type(prep.clean(t)))"
   ]
  },
  {
   "cell_type": "code",
   "execution_count": null,
   "metadata": {},
   "outputs": [],
   "source": []
  }
 ],
 "metadata": {
  "kernelspec": {
   "display_name": "Python 3",
   "language": "python",
   "name": "python3"
  },
  "language_info": {
   "codemirror_mode": {
    "name": "ipython",
    "version": 3
   },
   "file_extension": ".py",
   "mimetype": "text/x-python",
   "name": "python",
   "nbconvert_exporter": "python",
   "pygments_lexer": "ipython3",
   "version": "3.6.2"
  }
 },
 "nbformat": 4,
 "nbformat_minor": 2
}
