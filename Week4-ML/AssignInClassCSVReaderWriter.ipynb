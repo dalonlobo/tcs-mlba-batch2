{
 "cells": [
  {
   "cell_type": "code",
   "execution_count": null,
   "metadata": {},
   "outputs": [],
   "source": [
    "## Write code to read from a csv file using DictReader and DictWriter do the following\n",
    "## Read from \"Tweets.csv\"\n",
    "## Write every 50th line to \"TweetsTrain.csv\"\n",
    "## Write every 101st line to \"TweetsTrain.csv\"\n",
    "## These files will act as Training and test file for your next assignment"
   ]
  },
  {
   "cell_type": "code",
   "execution_count": null,
   "metadata": {},
   "outputs": [],
   "source": [
    "import csv"
   ]
  },
  {
   "cell_type": "code",
   "execution_count": null,
   "metadata": {},
   "outputs": [],
   "source": [
    "def readAndWrite(infile, outfileTrain, outfileTest, fields):\n",
    "    ## one line of code\n",
    "    #Open infile for reading, and 2 other files for write but add encoding=\"utf8\", errors = \"ignore\" as parameter to open a file\n",
    "    fpr = None\n",
    "    ## one line of code\n",
    "    \n",
    "    ## Can you avoid extra blank lines in fpwTrain, and fpwTest? hint use newline=.....\n",
    "    ## 2 lines\n",
    "    ## Can you avoid extra blank lines in fpwTrain, and fpwTest? hint use newline=.....\n",
    "    ### Now open reader, writer1, writer2, initialize a wrow to an empty dictionary - 4 lines of code\n",
    "    i = 0\n",
    "    for \"a\" in \"a\": # give a proper for statement\n",
    "        ##Now write every 50th line to outfileTrain, and evry 101st line to outfileTest\n",
    "        i += 1\n",
    "    \n",
    "    ##close the files"
   ]
  },
  {
   "cell_type": "code",
   "execution_count": null,
   "metadata": {},
   "outputs": [],
   "source": [
    "infile=\"Tweets.csv\"\n",
    "outfile1 =\"TweetsTrain.csv\"\n",
    "outfile2 =\"TweetsTest.csv\"\n",
    "fields=[\"Sentiment\", \"TweetText\"]\n",
    "readAndWrite(infile, outfile1, outfile2, fields)"
   ]
  },
  {
   "cell_type": "code",
   "execution_count": null,
   "metadata": {},
   "outputs": [],
   "source": []
  },
  {
   "cell_type": "code",
   "execution_count": null,
   "metadata": {},
   "outputs": [],
   "source": []
  }
 ],
 "metadata": {
  "kernelspec": {
   "display_name": "Python 3",
   "language": "python",
   "name": "python3"
  },
  "language_info": {
   "codemirror_mode": {
    "name": "ipython",
    "version": 3
   },
   "file_extension": ".py",
   "mimetype": "text/x-python",
   "name": "python",
   "nbconvert_exporter": "python",
   "pygments_lexer": "ipython3",
   "version": "3.6.2"
  }
 },
 "nbformat": 4,
 "nbformat_minor": 2
}
