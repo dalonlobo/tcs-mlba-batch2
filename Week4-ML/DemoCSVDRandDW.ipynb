{
 "cells": [
  {
   "cell_type": "code",
   "execution_count": 2,
   "metadata": {},
   "outputs": [
    {
     "name": "stdout",
     "output_type": "stream",
     "text": [
      "<module 'csv' from 'c:\\\\python36\\\\lib\\\\csv.py'>\n"
     ]
    }
   ],
   "source": [
    "import csv\n",
    "print (csv)"
   ]
  },
  {
   "cell_type": "code",
   "execution_count": 7,
   "metadata": {},
   "outputs": [],
   "source": [
    "#Now Write a dictionary to a file\n",
    "d = [{\"name\": \"cvraman\", \"car\": \"TATA Aria\"}, {\"name\": \"ram\", \"car\": \"Mazda\"},{\"name\": \"uttam\", \"car\": \"porche\"}]\n",
    "fields = d[0].keys()\n",
    "fp =open(\"eg1NameCars\", \"w\", errors = \"ignore\")\n",
    "dw = csv.DictWriter(fp, fields)\n",
    "for a in d:\n",
    "    wrow = a\n",
    "    dw.writerow(wrow)\n",
    "fp.close()\n"
   ]
  },
  {
   "cell_type": "code",
   "execution_count": 8,
   "metadata": {},
   "outputs": [
    {
     "name": "stdout",
     "output_type": "stream",
     "text": [
      "[OrderedDict([('name', 'cvraman'), ('car', 'TATA Aria')]), OrderedDict([('name', 'ram'), ('car', 'Mazda')]), OrderedDict([('name', 'uttam'), ('car', 'porche')])]\n"
     ]
    }
   ],
   "source": [
    "#Now read the file into a dictionary\n",
    "fp =open(\"eg1NameCars\", \"r\", errors = \"ignore\")\n",
    "dr = csv.DictReader(fp, fields)\n",
    "l2=[]\n",
    "for a in dr:\n",
    "    l2.append(a)\n",
    "fp.close()\n",
    "print (l2)"
   ]
  },
  {
   "cell_type": "code",
   "execution_count": null,
   "metadata": {},
   "outputs": [],
   "source": []
  }
 ],
 "metadata": {
  "kernelspec": {
   "display_name": "Python 3",
   "language": "python",
   "name": "python3"
  },
  "language_info": {
   "codemirror_mode": {
    "name": "ipython",
    "version": 3
   },
   "file_extension": ".py",
   "mimetype": "text/x-python",
   "name": "python",
   "nbconvert_exporter": "python",
   "pygments_lexer": "ipython3",
   "version": "3.6.2"
  }
 },
 "nbformat": 4,
 "nbformat_minor": 2
}
