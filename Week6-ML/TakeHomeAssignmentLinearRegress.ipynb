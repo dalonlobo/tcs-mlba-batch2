{
 "cells": [
  {
   "cell_type": "code",
   "execution_count": null,
   "metadata": {},
   "outputs": [],
   "source": [
    "''' \n",
    "You will be building  - Linear Regression. But before you build a model, \n",
    "you will need to have a method to extract the data and process it in your data frames and convert to numpy.  Y0ou have already\n",
    "Complete the functions, readdata (similar to assignment 2), train, classify and LinRegaccuracy.\n",
    "I have called the functions in the main program.\n",
    "\n",
    "NASA data set, obtained from a series of aerodynamic and acoustic tests of two and three-dimensional airfoil blade \n",
    "sections conducted in an anechoic wind tunnel. The data set comprises different size NACA 0012 airfoils at various wind \n",
    "tunnel speeds and angles of attack. The span of the airfoil and the observer position were the same in all of the experiments. \n",
    "The data set has 6 attributes as given below. \n",
    "Now you will read a dataset for Machine Learning using pandas\n",
    "filename = \"airfoil_self_noise.dat.txt\"\n",
    "This is tab separated file with headers\n",
    "Use appropriate command to read this data file and store the data into dataframe.\n",
    "After that convert it to numpy\n",
    "Then use numpy to split the data into training and test set.\n",
    "The training data should have 80% of data, and the test data should ahve 20% data.\n",
    "DO NOT USE SKLEARN LIBRARY\n",
    "Details of Data set:\n",
    "Attribute Information:\n",
    "\n",
    "This problem has the following inputs:\n",
    "(Attributes 1 to 5 form X_data) \n",
    "1. Frequency, in Hertzs. \n",
    "2. Angle of attack, in degrees. \n",
    "3. Chord length, in meters. \n",
    "4. Free-stream velocity, in meters per second. \n",
    "5. Suction side displacement thickness, in meters. \n",
    "\n",
    "The only output is (and Y_data): \n",
    "6. Scaled sound pressure level, in decibels. \n",
    "'''"
   ]
  },
  {
   "cell_type": "code",
   "execution_count": null,
   "metadata": {},
   "outputs": [],
   "source": [
    "import pandas as pd\n",
    "import numpy as np\n",
    "from sklearn.model_selection import train_test_split\n",
    "from sklearn.metrics import mean_squared_error\n",
    "from sklearn.metrics import accuracy_score"
   ]
  },
  {
   "cell_type": "code",
   "execution_count": null,
   "metadata": {},
   "outputs": [],
   "source": [
    "'''\n",
    "Complete this function from the 2nd assignment on Pandas. SOme minor modificatiosn in the parameters\n",
    "Be sure to feature scale and normalize\n",
    "'''\n",
    "def readdata(filename, cols, delim = \"\\t\"):    \n",
    "    return x_data_train, y_data_train, x_data_test, y_data_test\n"
   ]
  },
  {
   "cell_type": "code",
   "execution_count": null,
   "metadata": {},
   "outputs": [],
   "source": [
    "'''\n",
    "Complete this function for training.\n",
    "'''\n",
    "def train( x_data_train, y_data_train, l_rate, iterations):\n",
    "    return W, b\n"
   ]
  },
  {
   "cell_type": "code",
   "execution_count": null,
   "metadata": {},
   "outputs": [],
   "source": [
    "'''\n",
    "Complete this function for classification\n",
    "'''\n",
    "def classify(x_data_test, W, b):\n",
    "    return (np.dot(x_data_test, W) + b)"
   ]
  },
  {
   "cell_type": "code",
   "execution_count": null,
   "metadata": {},
   "outputs": [],
   "source": [
    "def LinRegaccuracy(y_data_test, y_pred_test):\n",
    "\n",
    "    total_error = 0\n",
    "    for i in range(0, len(y_data_test)):\n",
    "        errSet= abs((y_pred_test[i] - y_data_test[i]) / y_data_test[i])\n",
    "        total_error += errSet\n",
    "    total_error = (total_error / len(y_data_test))\n",
    "    accuracyScore = 1 - total_error\n",
    "    return accuracyScore"
   ]
  },
  {
   "cell_type": "code",
   "execution_count": null,
   "metadata": {},
   "outputs": [],
   "source": [
    "cols = ['Frequency', 'AngleOfAttack', 'ChordLength', 'FreeStreamVelocity', 'SuctionSideDisplacementThickness', 'ScaledSoundPressureLevel']\n",
    "x_data_train, y_data_train, x_data_test, y_data_test = readdata('airfoil_self_noise.dat.txt', cols)\n",
    "# Call train and classify. Then call LinRegaccuracy\n",
    "\n",
    "print(\"accuracy train: \", accuracy_train, \"accuracy test: \", LinRegaccuracy)\n",
    "print (\"Sklearn Accuracy score=Training\", accuracy_score(list(y_prediction_train),list( y_data_train)))\n",
    "print (\"Sklearn Accuracy score=Testing\", accuracy_score(y_prediction_test, y_data_test))\n",
    "print(\"MSE test: \", mean_squared_error(y_data_test, y_prediction_test))\n",
    "print(\"MSE train: \", mean_squared_error(y_data_train, y_prediction_train))\n"
   ]
  },
  {
   "cell_type": "code",
   "execution_count": null,
   "metadata": {},
   "outputs": [],
   "source": [
    "###BONUS crate a class for train and classify. It should store l_rate and alpha\n",
    "###Create an instance of this class and call its train and classify method. No need for train to return W, and b as \n",
    "## they can be used as internal member variables"
   ]
  }
 ],
 "metadata": {
  "kernelspec": {
   "display_name": "Python 3",
   "language": "python",
   "name": "python3"
  },
  "language_info": {
   "codemirror_mode": {
    "name": "ipython",
    "version": 3
   },
   "file_extension": ".py",
   "mimetype": "text/x-python",
   "name": "python",
   "nbconvert_exporter": "python",
   "pygments_lexer": "ipython3",
   "version": "3.6.2"
  }
 },
 "nbformat": 4,
 "nbformat_minor": 2
}
