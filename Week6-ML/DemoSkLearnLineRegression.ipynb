{
 "cells": [
  {
   "cell_type": "code",
   "execution_count": 1,
   "metadata": {},
   "outputs": [],
   "source": [
    "from sklearn import datasets, linear_model, preprocessing\n",
    "import numpy as np\n",
    "import matplotlib.pyplot as plt"
   ]
  },
  {
   "cell_type": "code",
   "execution_count": 2,
   "metadata": {},
   "outputs": [],
   "source": [
    "#load iris data set\n",
    "iris =datasets.load_iris()\n",
    "data = iris[\"data\"] # load dataset with key = \"data\""
   ]
  },
  {
   "cell_type": "code",
   "execution_count": 3,
   "metadata": {},
   "outputs": [
    {
     "name": "stdout",
     "output_type": "stream",
     "text": [
      "1.1986666666666668\n",
      "0.7606126185881716\n",
      "-2.842170943040401e-16\n",
      "1.0\n"
     ]
    }
   ],
   "source": [
    "x_data = data[:, 3]\n",
    "y_data = data[:,2]\n",
    "print(x_data.mean(axis=0))\n",
    "print (x_data.std(axis=0))\n",
    "x_data =  preprocessing.scale(x_data)\n",
    "print(x_data.mean(axis=0))\n",
    "print (x_data.std(axis=0))"
   ]
  },
  {
   "cell_type": "code",
   "execution_count": 4,
   "metadata": {},
   "outputs": [],
   "source": [
    "#Take all but 40 in train, and rest in test\n",
    "x_data_train = x_data[:-40]\n",
    "x_data_train = x_data_train.reshape(-1, 1)\n",
    "y_data_train = y_data[:-40]\n",
    "x_data_test = x_data[ -40:]\n",
    "x_data_test = x_data_test.reshape(-1, 1)\n",
    "y_data_test = y_data[ -40:]\n"
   ]
  },
  {
   "cell_type": "code",
   "execution_count": 5,
   "metadata": {},
   "outputs": [],
   "source": [
    "Clf = linear_model.LinearRegression()\n",
    "\n",
    "Clf.fit(x_data_train, y_data_train)\n",
    "y_pred_train = Clf.predict(x_data_train)\n",
    "y_pred_test = Clf.predict(x_data_test)"
   ]
  },
  {
   "cell_type": "code",
   "execution_count": 6,
   "metadata": {},
   "outputs": [
    {
     "name": "stdout",
     "output_type": "stream",
     "text": [
      "Accuracy Training Data 1.0\n",
      "Accuracy Test data 0.95\n"
     ]
    }
   ],
   "source": [
    "accuracy = round(1 - np.absolute(np.sum ((y_pred_train - y_data_train)/y_pred_train)/y_pred_train.shape[0]), 2)\n",
    "print (\"Accuracy Training Data\", accuracy)\n",
    "accuracy = round(1 - np.absolute( np.sum ((y_pred_test - y_data_test)/y_pred_test)/y_pred_test.shape[0]), 2)\n",
    "print (\"Accuracy Test data\", accuracy)"
   ]
  },
  {
   "cell_type": "code",
   "execution_count": 7,
   "metadata": {},
   "outputs": [
    {
     "data": {
      "image/png": "[encoded data removed]",
      "text/plain": [
       "<Figure size 432x288 with 1 Axes>"
      ]
     },
     "metadata": {},
     "output_type": "display_data"
    }
   ],
   "source": [
    "plt.title(\"Iris Linear Regression Predict Width from Length\")\n",
    "plt.xlabel(\"Petal Width\")\n",
    "plt.ylabel(\"Petal Length\")\n",
    "plt.scatter(x_data_test, y_data_test, c=\"b\")\n",
    "plt.plot(x_data_test, y_pred_test, color='Green', linewidth=3)\n",
    "plt.show()"
   ]
  },
  {
   "cell_type": "code",
   "execution_count": null,
   "metadata": {},
   "outputs": [],
   "source": []
  }
 ],
 "metadata": {
  "kernelspec": {
   "display_name": "Python 3",
   "language": "python",
   "name": "python3"
  },
  "language_info": {
   "codemirror_mode": {
    "name": "ipython",
    "version": 3
   },
   "file_extension": ".py",
   "mimetype": "text/x-python",
   "name": "python",
   "nbconvert_exporter": "python",
   "pygments_lexer": "ipython3",
   "version": "3.6.2"
  }
 },
 "nbformat": 4,
 "nbformat_minor": 2
}
