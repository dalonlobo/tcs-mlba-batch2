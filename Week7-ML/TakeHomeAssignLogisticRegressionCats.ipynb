{
 "cells": [
  {
   "cell_type": "code",
   "execution_count": null,
   "metadata": {},
   "outputs": [],
   "source": [
    "## Use the LogisticRegression code you wrote as a class object, and then use that to \n",
    "##predict whether the image is that of a cat or not.\n",
    "## I have give requisite libraries for reading from PIL library. Now you need to complete the \n",
    "##reading part to get the data.\n",
    "## Then call the class and its methods to predict"
   ]
  },
  {
   "cell_type": "code",
   "execution_count": null,
   "metadata": {},
   "outputs": [],
   "source": [
    "import numpy as np\n",
    "import h5py\n",
    "from PIL import Image\n",
    "from scipy import ndimage\n",
    "import sys"
   ]
  },
  {
   "cell_type": "code",
   "execution_count": null,
   "metadata": {},
   "outputs": [],
   "source": [
    "#Part of this function is given. You have to compelte this function in order to match the shape for keras\n",
    "def load_data(trainf, testf):\n",
    "    train_dataset = h5py.File(trainf, \"r\")  # ('datasets/train_catvnoncat.h5', \"r\")\n",
    "    test_dataset = h5py.File(testf, \"r\")  # ('datasets/test_catvnoncat.h5', \"r\")\n",
    "\n",
    "    train_set_x_orig = np.array(train_dataset[\"train_set_x\"][:])  # train set features\n",
    "    train_set_x_orig = train_set_x_orig / 255  # Normalize\n",
    "    train_set_y_orig = np.array(train_dataset[\"train_set_y\"][:])  # train set labels\n",
    "\n",
    "    test_set_x_orig = np.array(test_dataset[\"test_set_x\"][:])  # test set features\n",
    "    test_set_x_orig = test_set_x_orig / 255\n",
    "    test_set_y_orig = np.array(test_dataset[\"test_set_y\"][:])  # your test set labels\n",
    "    print (\"train set x shape= \", train_set_x_orig.shape)\n",
    "    print (\"train set y shape= \", train_set_y_orig.shape)\n",
    "\n",
    "    classes = np.array(test_dataset[\"list_classes\"][:])  # the list of classes\n",
    "\n",
    "    train_set_y_orig = train_set_y_orig.reshape((1, train_set_y_orig.shape[0]))\n",
    "    test_set_y_orig =test_set_y_orig.reshape((1, test_set_y_orig.shape[0]))\n",
    "    \n",
    "    ##Complete the code and return the appropriate train x, train y, and test data\n"
   ]
  },
  {
   "cell_type": "code",
   "execution_count": null,
   "metadata": {},
   "outputs": [],
   "source": []
  },
  {
   "cell_type": "code",
   "execution_count": null,
   "metadata": {},
   "outputs": [],
   "source": []
  },
  {
   "cell_type": "code",
   "execution_count": null,
   "metadata": {},
   "outputs": [],
   "source": []
  }
 ],
 "metadata": {
  "kernelspec": {
   "display_name": "Python 3",
   "language": "python",
   "name": "python3"
  },
  "language_info": {
   "codemirror_mode": {
    "name": "ipython",
    "version": 3
   },
   "file_extension": ".py",
   "mimetype": "text/x-python",
   "name": "python",
   "nbconvert_exporter": "python",
   "pygments_lexer": "ipython3",
   "version": "3.6.2"
  }
 },
 "nbformat": 4,
 "nbformat_minor": 2
}
