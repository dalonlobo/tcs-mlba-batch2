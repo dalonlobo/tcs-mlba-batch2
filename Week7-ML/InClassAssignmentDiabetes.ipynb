{
 "cells": [
  {
   "cell_type": "code",
   "execution_count": null,
   "metadata": {},
   "outputs": [],
   "source": [
    "## Load the diabetes data, and write a LogisticRegression classifier to classify the data\n",
    "## Some helper functions are given."
   ]
  },
  {
   "cell_type": "code",
   "execution_count": 1,
   "metadata": {},
   "outputs": [],
   "source": [
    "import numpy as np\n",
    "import pandas as pd\n",
    "import sklearn\n",
    "from sklearn.model_selection import  train_test_split"
   ]
  },
  {
   "cell_type": "code",
   "execution_count": 2,
   "metadata": {},
   "outputs": [],
   "source": [
    "## THis will calulate the y_pred also called as A\n",
    "def calculateA(X, params):\n",
    "    Z = None\n",
    "    return "
   ]
  },
  {
   "cell_type": "code",
   "execution_count": 3,
   "metadata": {},
   "outputs": [],
   "source": [
    "## This will calculate the sigmoid of Z which is needed for CalculateA\n",
    "def sigmoid( Z):\n",
    "    a  = None\n",
    "    return a"
   ]
  },
  {
   "cell_type": "code",
   "execution_count": 4,
   "metadata": {},
   "outputs": [],
   "source": [
    "## This should return the diffSigmoid\n",
    "def diffSigmod ( A, Y):\n",
    "       return None"
   ]
  },
  {
   "cell_type": "code",
   "execution_count": 16,
   "metadata": {},
   "outputs": [],
   "source": [
    "##THis will calulate teh cost and return the scalar\n",
    "def cost (A, Y):\n",
    "    return 0"
   ]
  },
  {
   "cell_type": "code",
   "execution_count": 6,
   "metadata": {},
   "outputs": [],
   "source": [
    "## This will update w, and b stored in dictionary params\n",
    "def updateParams ( params, X, alpha = 0.01):\n",
    "    return params"
   ]
  },
  {
   "cell_type": "code",
   "execution_count": 7,
   "metadata": {},
   "outputs": [],
   "source": [
    "## This will calulate the dw, and db and store in the params dictionary and return\n",
    "def calculateGrad( params, X, Y, A):\n",
    "    return params\n"
   ]
  },
  {
   "cell_type": "code",
   "execution_count": 8,
   "metadata": {},
   "outputs": [],
   "source": [
    "def initializeParams ( shape):\n",
    "    params = {}\n",
    "    params[\"W\"] = np.zeros  ((shape[0], shape[1]))\n",
    "    params [\"B\"] = np.zeros((1, 1))\n",
    "    return params"
   ]
  },
  {
   "cell_type": "code",
   "execution_count": 9,
   "metadata": {},
   "outputs": [],
   "source": [
    "## Given X, Y, params predict the output and also find the accuracy\n",
    "def predict (X, Y, params):\n",
    "    accuracy=Y_pred = None\n",
    "    return accuracy, Y_pred\n"
   ]
  },
  {
   "cell_type": "code",
   "execution_count": 17,
   "metadata": {},
   "outputs": [],
   "source": [
    "## THis is the main workhorse function. Call train\n",
    "def trainLR ( X_train, Y_train, X_test, Y_test, alpha, num_epochs=5000):\n",
    "    x_shape = X_train.shape\n",
    "    w_shape = (x_shape[1], 1)\n",
    "\n",
    "    params = initializeParams(w_shape)\n",
    "    costs = []\n",
    "    avgCost = 0.0\n",
    "\n",
    "    acc_train, y_train_pred = predict(X_train, Y_train, params)\n",
    "    acc_test, y_test_pred =  predict(X_test, Y_test, params)\n",
    "    print (\"Training accuracy \", round(acc_train, 2), \"Testing accuracy =\", round(acc_test, 2))"
   ]
  },
  {
   "cell_type": "code",
   "execution_count": 18,
   "metadata": {},
   "outputs": [],
   "source": [
    "## Read the diabetes data and return after splitting and normalizing\n",
    "def LoadDataCSV(filename, cols, delim=\",\", normalize=True):\n",
    "    train_x, test_x,  train_y, test_y = \\\n",
    "        train_test_split(x_data, y_data, test_size=0.2, shuffle=False)\n",
    "    return train_x, train_y, test_x, test_y"
   ]
  },
  {
   "cell_type": "code",
   "execution_count": 19,
   "metadata": {},
   "outputs": [
    {
     "name": "stdout",
     "output_type": "stream",
     "text": [
      "iteration: 0 cost =  [[0.34657359]] Average cost =  [[0.34657359]]\n",
      "iteration: 1000 cost =  [[0.31905311]] Average cost =  [[0.33185965]]\n",
      "iteration: 2000 cost =  [[0.30058003]] Average cost =  [[0.32054982]]\n",
      "iteration: 3000 cost =  [[0.28763608]] Average cost =  [[0.31161704]]\n",
      "iteration: 4000 cost =  [[0.27818556]] Average cost =  [[0.30438305]]\n",
      "iteration: 5000 cost =  [[0.27103939]] Average cost =  [[0.29839806]]\n",
      "iteration: 6000 cost =  [[0.26547774]] Average cost =  [[0.29335683]]\n",
      "iteration: 7000 cost =  [[0.26104654]] Average cost =  [[0.28904647]]\n",
      "iteration: 8000 cost =  [[0.25744782]] Average cost =  [[0.28531432]]\n",
      "iteration: 9000 cost =  [[0.25447895]] Average cost =  [[0.28204821]]\n",
      "iteration: 9999 cost =  [[0.25199995]] Average cost =  [[0.27916652]]\n",
      "Predict:: X shape (614, 8)\n",
      "Predict:: Y shape (614, 1)\n",
      "Predict:: W shape (8, 1)\n",
      "Accuracy in training set=  0.7638436482084691\n",
      "Predict:: X shape (154, 8)\n",
      "Predict:: Y shape (154, 1)\n",
      "Predict:: W shape (8, 1)\n",
      "Accuracy in training set=  0.7857142857142857\n",
      "Training accuracy  0.76 Testing accuracy = 0.79\n"
     ]
    }
   ],
   "source": [
    "filename = \"diabetes.csv\"\n",
    "cols = [\"Pregnancies\",\"Glucose\",\"BloodPressure\",\"SkinThickness\",\"Insulin\",\"BMI\",\n",
    "        \"DiabetesPedigreeFunction\",\"Age\",\"Outcome\"]\n",
    "train_x, train_y, test_x, test_y = LoadDataCSV(filename, cols)\n",
    "trainLR(train_x, train_y, test_x, test_y, 0.0005, 10000)"
   ]
  },
  {
   "cell_type": "code",
   "execution_count": null,
   "metadata": {},
   "outputs": [],
   "source": []
  }
 ],
 "metadata": {
  "kernelspec": {
   "display_name": "Python 3",
   "language": "python",
   "name": "python3"
  },
  "language_info": {
   "codemirror_mode": {
    "name": "ipython",
    "version": 3
   },
   "file_extension": ".py",
   "mimetype": "text/x-python",
   "name": "python",
   "nbconvert_exporter": "python",
   "pygments_lexer": "ipython3",
   "version": "3.6.3"
  }
 },
 "nbformat": 4,
 "nbformat_minor": 2
}
