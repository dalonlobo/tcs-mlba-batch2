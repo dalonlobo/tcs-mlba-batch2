{
 "cells": [
  {
   "cell_type": "code",
   "execution_count": 1,
   "metadata": {},
   "outputs": [
    {
     "name": "stderr",
     "output_type": "stream",
     "text": [
      "c:\\python36\\lib\\site-packages\\h5py\\__init__.py:36: FutureWarning: Conversion of the second argument of issubdtype from `float` to `np.floating` is deprecated. In future, it will be treated as `np.float64 == np.dtype(float).type`.\n",
      "  from ._conv import register_converters as _register_converters\n",
      "Using TensorFlow backend.\n"
     ]
    }
   ],
   "source": [
    "import numpy as np\n",
    "import matplotlib.pyplot as plt \n",
    "import tensorflow as tf\n",
    "import keras\n",
    "from keras  import models, layers, optimizers"
   ]
  },
  {
   "cell_type": "code",
   "execution_count": 3,
   "metadata": {},
   "outputs": [],
   "source": [
    "(x_t, y_t), (x_tst, y_tst) = tf.keras.datasets.mnist.load_data()\n",
    "import matplotlib.pyplot as plt"
   ]
  },
  {
   "cell_type": "code",
   "execution_count": 17,
   "metadata": {},
   "outputs": [],
   "source": [
    "def PlotImages(indTrain, indTest, x_tr = x_t, y_tr = y_t, x_tst = x_tst, y_tst = y_tst):\n",
    "    plt.figure(figsize=[5,5])\n",
    "    # Display the indTrain image in training data\n",
    "    plt.subplot(121)\n",
    "    plt.title(\"Train Data: {}\".format(y_tr[indTrain]))\n",
    "    print(x_tr[indTrain].shape)\n",
    "    plt.imshow(x_tr[indTrain, :, :], cmap='gray')\n",
    "\n",
    "    # Display the indTest image in testing data\n",
    "    plt.subplot(122)\n",
    "    plt.title(\"Test Data: {}\".format(y_tst[indTest]))\n",
    "    plt.imshow(x_tst[indTest,:,:], cmap='gray')\n"
   ]
  },
  {
   "cell_type": "code",
   "execution_count": 18,
   "metadata": {},
   "outputs": [
    {
     "name": "stdout",
     "output_type": "stream",
     "text": [
      "(60000, 28, 28)\n",
      "(60000,)\n",
      "5\n",
      "(28, 28)\n",
      "(28, 28)\n"
     ]
    },
    {
     "data": {
      "image/png": "[encoded data removed]",
      "text/plain": [
       "<Figure size 360x360 with 2 Axes>"
      ]
     },
     "metadata": {},
     "output_type": "display_data"
    }
   ],
   "source": [
    "print(x_t.shape)\n",
    "print(y_t.shape)\n",
    "print(y_t[100])\n",
    "#Now lets see the image\n",
    "PlotImages(10,100)"
   ]
  },
  {
   "cell_type": "code",
   "execution_count": 6,
   "metadata": {},
   "outputs": [
    {
     "name": "stdout",
     "output_type": "stream",
     "text": [
      "[0. 0. 0. 0. 0. 1. 0. 0. 0. 0.]\n",
      "5\n"
     ]
    }
   ],
   "source": [
    "y_tcat = keras.utils.to_categorical(y_t, num_classes=10)\n",
    "print(y_tcat[100])\n",
    "print(np.argmax(y_tcat[100]))"
   ]
  },
  {
   "cell_type": "code",
   "execution_count": 4,
   "metadata": {},
   "outputs": [],
   "source": [
    "def mainDriverMNistKeras(opt, num_epochs=10):\n",
    "    (x_train, y_train), (x_test, y_test) = tf.keras.datasets.mnist.load_data()\n",
    "    \n",
    "    x_train = x_train.reshape(x_train.shape[0], x_train.shape[1]*x_train.shape[2])\n",
    "    x_train = x_train/255\n",
    "    x_test = x_test.reshape(x_test.shape[0], x_test.shape[1]*x_test.shape[2])\n",
    "    x_test = x_test/255\n",
    "\n",
    "    y_train_cat = keras.utils.to_categorical(y_train, num_classes=10)\n",
    "    y_test_cat = keras.utils.to_categorical(y_test, num_classes=10)\n",
    "\n",
    "    network = models.Sequential()\n",
    "    network.add(layers.Dense(512, activation=\"relu\", input_shape =(28*28,), name=\"lay1\"))\n",
    "    network.add(layers.Dense(20, activation=\"relu\"), name=\"lay2\")\n",
    "    network.add(layers.Dense(10, activation=\"softmax\"),, name=\"Final Layer\")\n",
    "\n",
    "    network.compile(optimizer= opt, loss = \"categorical_crossentropy\", metrics = [\"accuracy\"])\n",
    "    network.fit(x_train, y_train_cat, epochs=num_epochs, batch_size=1024)\n",
    "\n",
    "    y_pred_train = network.predict(x_train)\n",
    "    print(y_pred_train[101])\n",
    "    y_pred_train_val = np.argmax(y_pred_train, axis=1)\n",
    "    result_train=(y_pred_train_val == y_train)\n",
    "    print (\"Num correct Train = \", np.sum(result_train), \"and %Correct= \", np.sum(result_train)/len(result_train))\n",
    "    y_pred_test = network.predict(x_test)\n",
    "    y_pred_test_val = np.argmax(y_pred_test, axis=1)\n",
    "    result_test=(y_pred_test_val == y_test)\n",
    "    print ( \"Num correct Test = \", np.sum(result_test), \"and  %Correct= \", np.sum(result_test)/len(result_test))\n"
   ]
  },
  {
   "cell_type": "code",
   "execution_count": 5,
   "metadata": {},
   "outputs": [
    {
     "name": "stdout",
     "output_type": "stream",
     "text": [
      "WARNING:tensorflow:From c:\\python36\\lib\\site-packages\\keras\\backend\\tensorflow_backend.py:2755: calling reduce_sum (from tensorflow.python.ops.math_ops) with keep_dims is deprecated and will be removed in a future version.\n",
      "Instructions for updating:\n",
      "keep_dims is deprecated, use keepdims instead\n",
      "WARNING:tensorflow:From c:\\python36\\lib\\site-packages\\keras\\backend\\tensorflow_backend.py:1290: calling reduce_mean (from tensorflow.python.ops.math_ops) with keep_dims is deprecated and will be removed in a future version.\n",
      "Instructions for updating:\n",
      "keep_dims is deprecated, use keepdims instead\n",
      "Epoch 1/10\n",
      "60000/60000 [==============================] - 4s - loss: 0.7023 - acc: 0.7908     \n",
      "Epoch 2/10\n",
      "60000/60000 [==============================] - 4s - loss: 0.2703 - acc: 0.9227     \n",
      "Epoch 3/10\n",
      "60000/60000 [==============================] - 4s - loss: 0.1885 - acc: 0.9457     \n",
      "Epoch 4/10\n",
      "60000/60000 [==============================] - 4s - loss: 0.1496 - acc: 0.9558     \n",
      "Epoch 5/10\n",
      "60000/60000 [==============================] - 4s - loss: 0.1168 - acc: 0.9657     \n",
      "Epoch 6/10\n",
      "60000/60000 [==============================] - 4s - loss: 0.0978 - acc: 0.9716     \n",
      "Epoch 7/10\n",
      "60000/60000 [==============================] - 5s - loss: 0.0789 - acc: 0.9770     \n",
      "Epoch 8/10\n",
      "60000/60000 [==============================] - 4s - loss: 0.0691 - acc: 0.9795     \n",
      "Epoch 9/10\n",
      "60000/60000 [==============================] - 4s - loss: 0.0587 - acc: 0.9826     \n",
      "Epoch 10/10\n",
      "60000/60000 [==============================] - 4s - loss: 0.0508 - acc: 0.9849     \n",
      "[1.8160199e-06 2.1852187e-05 4.3602627e-06 7.2876996e-06 7.5195594e-06\n",
      " 2.3798351e-04 2.3055384e-07 9.9954349e-01 2.8370171e-06 1.7248734e-04]\n",
      "Num correct Train =  59348 and %Correct=  0.9891333333333333\n",
      "Num correct Test =  9757 and  %Correct=  0.9757\n"
     ]
    }
   ],
   "source": [
    "OptPerf = mainDriverMNistKeras(optimizers.RMSprop(lr=0.001))"
   ]
  },
  {
   "cell_type": "code",
   "execution_count": null,
   "metadata": {},
   "outputs": [],
   "source": [
    "#Lets see some intermediate layer output\n"
   ]
  }
 ],
 "metadata": {
  "kernelspec": {
   "display_name": "Python 3",
   "language": "python",
   "name": "python3"
  },
  "language_info": {
   "codemirror_mode": {
    "name": "ipython",
    "version": 3
   },
   "file_extension": ".py",
   "mimetype": "text/x-python",
   "name": "python",
   "nbconvert_exporter": "python",
   "pygments_lexer": "ipython3",
   "version": "3.6.2"
  }
 },
 "nbformat": 4,
 "nbformat_minor": 2
}
