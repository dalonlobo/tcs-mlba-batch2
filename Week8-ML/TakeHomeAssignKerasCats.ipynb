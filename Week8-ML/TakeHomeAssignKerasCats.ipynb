{
 "cells": [
  {
   "cell_type": "code",
   "execution_count": null,
   "metadata": {},
   "outputs": [],
   "source": [
    "## Use the same logic as you did in class assignment to predict whether image passed is a cat or not.\n",
    "## This is a binary classification"
   ]
  },
  {
   "cell_type": "code",
   "execution_count": 3,
   "metadata": {},
   "outputs": [
    {
     "name": "stderr",
     "output_type": "stream",
     "text": [
      "c:\\python36\\lib\\site-packages\\h5py\\__init__.py:36: FutureWarning: Conversion of the second argument of issubdtype from `float` to `np.floating` is deprecated. In future, it will be treated as `np.float64 == np.dtype(float).type`.\n",
      "  from ._conv import register_converters as _register_converters\n",
      "Using TensorFlow backend.\n"
     ]
    }
   ],
   "source": [
    "import numpy as np\n",
    "import h5py\n",
    "from PIL import Image\n",
    "from scipy import ndimage\n",
    "import sys\n",
    "import matplotlib.pyplot as plt \n",
    "import tensorflow as tf\n",
    "import keras\n",
    "from keras  import models, layers, optimizers"
   ]
  },
  {
   "cell_type": "code",
   "execution_count": 17,
   "metadata": {},
   "outputs": [],
   "source": [
    "#Part of this function is given. You have to compelte this function in order to match the shape for keras\n",
    "def load_data(trainf, testf):\n",
    "    train_dataset = h5py.File(trainf, \"r\")  # ('datasets/train_catvnoncat.h5', \"r\")\n",
    "    test_dataset = h5py.File(testf, \"r\")  # ('datasets/test_catvnoncat.h5', \"r\")\n",
    "\n",
    "    train_set_x_orig = np.array(train_dataset[\"train_set_x\"][:])  # train set features\n",
    "    train_set_x_orig = train_set_x_orig / 255  # Normalize\n",
    "    train_set_y_orig = np.array(train_dataset[\"train_set_y\"][:])  # train set labels\n",
    "\n",
    "    test_set_x_orig = np.array(test_dataset[\"test_set_x\"][:])  # test set features\n",
    "    test_set_x_orig = test_set_x_orig / 255\n",
    "    test_set_y_orig = np.array(test_dataset[\"test_set_y\"][:])  # your test set labels\n",
    "    print (\"train set x shape= \", train_set_x_orig.shape)\n",
    "    print (\"train set y shape= \", train_set_y_orig.shape)\n",
    "\n",
    "    classes = np.array(test_dataset[\"list_classes\"][:])  # the list of classes\n",
    "\n",
    "#    train_set_y_orig = train_set_y_orig.reshape((1, train_set_y_orig.shape[0]))\n",
    "#    test_set_y_orig =test_set_y_orig.reshape((1, test_set_y_orig.shape[0]))\n",
    "    return None, None, None, None\n",
    "    ##Complete the code and return the appropriate train x, train y, and test data\n"
   ]
  },
  {
   "cell_type": "code",
   "execution_count": 18,
   "metadata": {},
   "outputs": [],
   "source": [
    "## Now complete this keras model and run the preiction for each of the optimizers as you did for MNIST\n",
    "def mainDriverTrainKerasNNNative(opt):\n",
    "    train_x, train_y, test_x, test_y  = load_data('train_catvnoncat.h5','test_catvnoncat.h5')\n",
    "    ## Complete the code to form the model, compile for each optimizer in opt m predict and store the\n",
    "    ## training and testing accuracy for each model\n",
    "    OptPerf= {}\n",
    "    return OptPerf"
   ]
  },
  {
   "cell_type": "code",
   "execution_count": 19,
   "metadata": {},
   "outputs": [
    {
     "name": "stdout",
     "output_type": "stream",
     "text": [
      "train set x shape=  (209, 64, 64, 3)\n",
      "train set y shape=  (209,)\n"
     ]
    }
   ],
   "source": [
    "#create the opt and call the function\n",
    "opt = None\n",
    "OptPerf = mainDriverTrainKerasNNNative(opt)"
   ]
  },
  {
   "cell_type": "code",
   "execution_count": null,
   "metadata": {},
   "outputs": [],
   "source": []
  }
 ],
 "metadata": {
  "kernelspec": {
   "display_name": "Python 3",
   "language": "python",
   "name": "python3"
  },
  "language_info": {
   "codemirror_mode": {
    "name": "ipython",
    "version": 3
   },
   "file_extension": ".py",
   "mimetype": "text/x-python",
   "name": "python",
   "nbconvert_exporter": "python",
   "pygments_lexer": "ipython3",
   "version": "3.6.3"
  }
 },
 "nbformat": 4,
 "nbformat_minor": 2
}
