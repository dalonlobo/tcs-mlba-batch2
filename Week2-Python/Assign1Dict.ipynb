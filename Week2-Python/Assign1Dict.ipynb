{
 "cells": [
  {
   "cell_type": "markdown",
   "metadata": {},
   "source": [
    "# Write a function which takes 2 dicts d1, and d2. It will append the contents of d2 to d1 provided that key does not exist in d1"
   ]
  },
  {
   "cell_type": "code",
   "execution_count": 3,
   "metadata": {},
   "outputs": [],
   "source": [
    "def funDictAppend(d1, d2):\n",
    "    ### Write code which will check if the k in d2 is present in d1. If it is not present then add it to d1 - approx 3 lines\n",
    "    #Hint use items() to iterate\n",
    "\n",
    "    ### Write code which will check if the k in d2 is present in d1. If it is not present then add it to d1 - approx 3 lines\n",
    "    return d1"
   ]
  },
  {
   "cell_type": "code",
   "execution_count": 8,
   "metadata": {},
   "outputs": [
    {
     "name": "stdout",
     "output_type": "stream",
     "text": [
      "{1: 2, 3: 4, 5: 6, 7: 8, 9: 10, 2: 'bcd'}\n"
     ]
    }
   ],
   "source": [
    "d1 = {1:2, 3:4, 5:6}\n",
    "d2 = {7:8, 9:10, 1:\"abc\", 2:\"bcd\"}\n",
    "d1 = funDictAppend(d1,d2)\n",
    "print (d1)"
   ]
  },
  {
   "cell_type": "code",
   "execution_count": 6,
   "metadata": {},
   "outputs": [],
   "source": [
    "d2 = {7:-8, 9:-10}\n",
    "d1 = funDictAppend(d1,d2)"
   ]
  },
  {
   "cell_type": "code",
   "execution_count": 7,
   "metadata": {},
   "outputs": [
    {
     "data": {
      "text/plain": [
       "{1: 2, 3: 4, 5: 6, 7: 8, 9: 10}"
      ]
     },
     "execution_count": 7,
     "metadata": {},
     "output_type": "execute_result"
    }
   ],
   "source": [
    "d1\n"
   ]
  },
  {
   "cell_type": "code",
   "execution_count": null,
   "metadata": {},
   "outputs": [],
   "source": []
  }
 ],
 "metadata": {
  "kernelspec": {
   "display_name": "Python 3",
   "language": "python",
   "name": "python3"
  },
  "language_info": {
   "codemirror_mode": {
    "name": "ipython",
    "version": 3
   },
   "file_extension": ".py",
   "mimetype": "text/x-python",
   "name": "python",
   "nbconvert_exporter": "python",
   "pygments_lexer": "ipython3",
   "version": "3.6.2"
  }
 },
 "nbformat": 4,
 "nbformat_minor": 2
}
