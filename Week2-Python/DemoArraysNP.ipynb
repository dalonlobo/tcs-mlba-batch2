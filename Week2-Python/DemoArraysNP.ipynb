{
 "cells": [
  {
   "cell_type": "code",
   "execution_count": 1,
   "metadata": {},
   "outputs": [
    {
     "name": "stdout",
     "output_type": "stream",
     "text": [
      "b_arr.shape (4, 3, 5)\n",
      "b_arr[0] [[  1   2   3   4   5]\n",
      " [ 11  22  33  44  55]\n",
      " [111 222 333 444 555]]\n",
      "b_arr[1] [[ 100  200  300  400  500]\n",
      " [1000 2000 3000 4000 5000]\n",
      " [  20   30   40   50   60]]\n",
      "b_arr[2] [[   7    8    9   10   11]\n",
      " [  77   88   99  100 1100]\n",
      " [ 101  201  301  401  501]]\n",
      "b_arr[0][0] [1 2 3 4 5]\n",
      "b_arr[0][1] [11 22 33 44 55]\n",
      "b_arr[0][2] [111 222 333 444 555]\n",
      "b_arr[0][1][0] 11\n",
      "b_arr[0][1][1] 22\n",
      "b_arr[0:2,0:2,0:2] [[[   1    2]\n",
      "  [  11   22]]\n",
      "\n",
      " [[ 100  200]\n",
      "  [1000 2000]]]\n",
      "time taken = 0.0019600391387939453\n",
      "b_arr[0:2,0:2,1:3] [[[   2    3]\n",
      "  [  22   33]]\n",
      "\n",
      " [[ 200  300]\n",
      "  [2000 3000]]] shape of b_arr= (4, 3, 5)\n"
     ]
    }
   ],
   "source": [
    "import numpy as np\n",
    "import time\n",
    "'''\n",
    "Problems:\n",
    "0) How many dimensions are there in b\n",
    "1)Tell the shape of b\n",
    "2) Extract from b the 2 and 3rd row, and last 2 innermost elements\n",
    "3) Extract from b the 2 and 3rd col and 1st 2 innermost elements\n",
    "'''\n",
    "b =   [\n",
    "           [\n",
    "               [1,2,3,4,5],\n",
    "                [11,22,33,44,55],\n",
    "                [111,222,333,444,555]\n",
    "            ],\n",
    "            [\n",
    "            [100,200,300,400,500],\n",
    "            [1000,2000,3000,4000,5000],\n",
    "            [20,30,40,50,60]\n",
    "            ],\n",
    "            [\n",
    "              [7,8,9,10,11],\n",
    "            [77,88,99,100,1100],\n",
    "            [101,201,301,401,501]\n",
    "            ],\n",
    "            [\n",
    "                [71, 81, 91, 101, 111],\n",
    "                [771, 881, 991, 1001, 11001],\n",
    "                [1011, 2011, 3011, 401, 5011]\n",
    "            ]\n",
    "    ]\n",
    "b_arr = np.array(b)\n",
    "print (\"b_arr.shape\", b_arr.shape)\n",
    "t1 = time.time()\n",
    "print (\"b_arr[0]\", b_arr[0])\n",
    "print (\"b_arr[1]\", b_arr[1])\n",
    "print (\"b_arr[2]\", b_arr[2])\n",
    "print (\"b_arr[0][0]\", b_arr[0][0])\n",
    "print (\"b_arr[0][1]\", b_arr[0][1])\n",
    "print (\"b_arr[0][2]\", b_arr[0][2])\n",
    "print (\"b_arr[0][1][0]\", b_arr[0][1][0])\n",
    "print (\"b_arr[0][1][1]\", b_arr[0][1][1])\n",
    "print (\"b_arr[0:2,0:2,0:2]\",b_arr[0:2,0:2,0:2])\n",
    "t2 = time.time()\n",
    "print (\"time taken =\", t2-t1)\n",
    "print (\"b_arr[0:2,0:2,1:3]\",b_arr[0:2,0:2,1:3], \"shape of b_arr=\", b_arr.shape)\n"
   ]
  },
  {
   "cell_type": "code",
   "execution_count": null,
   "metadata": {},
   "outputs": [],
   "source": []
  }
 ],
 "metadata": {
  "kernelspec": {
   "display_name": "Python 3",
   "language": "python",
   "name": "python3"
  },
  "language_info": {
   "codemirror_mode": {
    "name": "ipython",
    "version": 3
   },
   "file_extension": ".py",
   "mimetype": "text/x-python",
   "name": "python",
   "nbconvert_exporter": "python",
   "pygments_lexer": "ipython3",
   "version": "3.6.2"
  }
 },
 "nbformat": 4,
 "nbformat_minor": 2
}
