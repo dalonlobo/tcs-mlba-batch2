{
 "cells": [
  {
   "cell_type": "markdown",
   "metadata": {},
   "source": [
    "# This shows how to use comprehensions (list, tuple, set)"
   ]
  },
  {
   "cell_type": "code",
   "execution_count": 2,
   "metadata": {},
   "outputs": [
    {
     "name": "stdout",
     "output_type": "stream",
     "text": [
      "[[[1, 2, 3, -1], [11, 22, 33, -11]], [[4, 5, 6, -2], [44, 55, 66, -22]], [[7, 8, 9, 10], [77, 88, 99, 100]]]\n",
      "[([1, 2, 3, -1], [11, 22, 33, -11]), ([4, 5, 6, -2], [44, 55, 66, -22]), ([7, 8, 9, 10], [77, 88, 99, 100])]\n"
     ]
    }
   ],
   "source": [
    "l = [[1,2,3, -1], [4, 5, 6, -2], [7,8,9,10]]\n",
    "l1 = [[11,22,33, -11], [44, 55, 66, -22], [77,88,99,100]]\n",
    "\n",
    "\n",
    "k1  = [[l[i], l1[i] ] for i in range(len(l))]\n",
    "print (k1)\n",
    "\n",
    "k1  = [ (l[i], l1[i] ) for i in range(len(l))]\n",
    "print (k1)\n"
   ]
  },
  {
   "cell_type": "code",
   "execution_count": null,
   "metadata": {},
   "outputs": [],
   "source": []
  },
  {
   "cell_type": "code",
   "execution_count": 1,
   "metadata": {},
   "outputs": [
    {
     "name": "stdout",
     "output_type": "stream",
     "text": [
      "type of a =  <class 'list'> <class 'list'>\n",
      "[[1, 'a'], [2, 'b'], [3, 'c'], [4, 'd']]\n",
      "[[1, 'a'], [2, 'b'], [3, 'c'], [4, 'd']]\n",
      "type of a =  <class 'tuple'> <class 'tuple'>\n",
      "[[1, 'a'], [2, 'b'], [3, 'c'], [4, 'd']]\n",
      "[[1, 'a'], [2, 'b'], [3, 'c'], [4, 'd']]\n",
      "<class 'list'> [[1, 2, 3], [4, 5, 6]]\n",
      "2\n",
      "[0, 1, 2, 3, 4, 5, 6, 7, 8, 9]\n",
      "(0, 1, 2, 3, 4, 5, 6, 7, 8, 9)\n",
      "{0, 1, 2, 3, 4, 5, 6, 7, 8, 9}\n",
      "[30, 50, 70, 50, 70, 90, 70, 90, 110]\n"
     ]
    }
   ],
   "source": [
    "#List Comprehensions\n",
    "def combo(a, b):\n",
    "    print (\"type of a = \", type(a), type (b))\n",
    "    c = [[a[i], b[i]] for i in range(len(a))]\n",
    "    print (c)\n",
    "    return c\n",
    "\n",
    "a = [1, 2, 3, 4]\n",
    "b = [\"a\", \"b\", \"c\", \"d\"]\n",
    "d = combo(a, b)\n",
    "print (d)\n",
    "a = (1, 2, 3, 4)\n",
    "b = (\"a\", \"b\", \"c\", \"d\")\n",
    "d = combo(a, b)\n",
    "print (d)\n",
    "e = [[1,2,3], [4,5,6]]\n",
    "print (type(e), e)\n",
    "print (e[0][1])\n",
    "\n",
    "x = [i for i in range(10)]\n",
    "print (x)\n",
    "x = tuple((i for i in range(10)))\n",
    "print (x)\n",
    "x = set((i for i in range(10)))\n",
    "print (x)\n",
    "\n",
    "z = [x+y for x in [10,30,50] for y in [20,40,60]]\n",
    "print (z)\n"
   ]
  },
  {
   "cell_type": "code",
   "execution_count": null,
   "metadata": {},
   "outputs": [],
   "source": []
  }
 ],
 "metadata": {
  "kernelspec": {
   "display_name": "Python 3",
   "language": "python",
   "name": "python3"
  },
  "language_info": {
   "codemirror_mode": {
    "name": "ipython",
    "version": 3
   },
   "file_extension": ".py",
   "mimetype": "text/x-python",
   "name": "python",
   "nbconvert_exporter": "python",
   "pygments_lexer": "ipython3",
   "version": "3.6.2"
  }
 },
 "nbformat": 4,
 "nbformat_minor": 2
}
