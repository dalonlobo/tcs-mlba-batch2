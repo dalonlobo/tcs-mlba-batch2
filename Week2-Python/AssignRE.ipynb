{
 "cells": [
  {
   "cell_type": "code",
   "execution_count": 5,
   "metadata": {},
   "outputs": [],
   "source": [
    "import re"
   ]
  },
  {
   "cell_type": "code",
   "execution_count": 24,
   "metadata": {},
   "outputs": [],
   "source": [
    "myStr = \"Hi I am having a good time learning Python\"\n",
    "\n",
    "# split this using whitespace using re.split .\n",
    "#This can also be done by str.split\n",
    "# expected result = [\"Hi\", \"I\", \"am\", \"having\", \"a\", \"good\", \"time\", \"learning\", \"python\"]\n",
    "## Write you code here: define pattern, and print the split string -  2-3 lines of code\n",
    "# pat= HINT use \\s repetition\n",
    "\n",
    "#call the split\n",
    "# print the string\n"
   ]
  },
  {
   "cell_type": "code",
   "execution_count": 13,
   "metadata": {},
   "outputs": [
    {
     "name": "stdout",
     "output_type": "stream",
     "text": [
      "['a', 'a', 'a', 'a']\n",
      "['Hi I ', ' h', 'ing ', 'good time le', 'ning Python']\n"
     ]
    }
   ],
   "source": [
    "myStr = \"Hi I am having a good time learning Python\"\n",
    "#identify all 2 char strings starting with letter a, and split on it\n",
    "#expected value: ['Hi I ', ' h', 'ing ', 'good time le', 'ning Python']\n",
    "\n",
    "resultFind = re.findall(pat, myStr)\n",
    "resultSplit = re.split(pat, myStr)\n",
    "print (result)\n",
    "print (resultSplit)\n"
   ]
  },
  {
   "cell_type": "code",
   "execution_count": 27,
   "metadata": {},
   "outputs": [
    {
     "name": "stdout",
     "output_type": "stream",
     "text": [
      "[' ', ' ', ' ', ' ', ' ', ' ', ' ', ' ', ' ', ' ']\n",
      "['::getFacialEmbeddings:::Got', 'exception', 'in', 'line', '101', '::::dUsers', 'returned', 'None', 'for', 'index', '110']\n"
     ]
    }
   ],
   "source": [
    "#THis is difficult to do with str.split With re.split it is easier\n",
    "#Log entry format=  ::<Function Name>:::<Issue>::::<Reason>\n",
    "myStr = \"::getFacialEmbeddings:::Got exception in line 101 ::::dUsers returned None for index 110\"\n",
    "# Expected value=  [\"getFacialEmbedding\", \"Got exception in line 101\", \n",
    "#\"dUsers returned None for index 110]. Its ok to have emtyy string or blank string in the list\n",
    "## Write your code here: define pattern, and print the split string -  2-3 lines of code\n",
    "# pat= HINT use {} pattern to specify the # of times it can repeat and the char to repeat repetition\n",
    "\n",
    "#call the split\n",
    "# print the string\n",
    "pat = \" \"\n",
    "resultFind = re.findall(pat, myStr)\n",
    "result= re.split(pat, myStr)\n",
    "print (resultFind)\n",
    "print (result)"
   ]
  },
  {
   "cell_type": "code",
   "execution_count": 35,
   "metadata": {},
   "outputs": [
    {
     "ename": "ValueError",
     "evalue": "split() requires a non-empty pattern match.",
     "output_type": "error",
     "traceback": [
      "\u001b[1;31m---------------------------------------------------------------------------\u001b[0m",
      "\u001b[1;31mValueError\u001b[0m                                Traceback (most recent call last)",
      "\u001b[1;32m<ipython-input-35-ab7bd6b61d00>\u001b[0m in \u001b[0;36m<module>\u001b[1;34m()\u001b[0m\n\u001b[0;32m      9\u001b[0m \u001b[1;31m## Write your code here: define pattern, and print the split string -  1 lines of code\u001b[0m\u001b[1;33m\u001b[0m\u001b[1;33m\u001b[0m\u001b[0m\n\u001b[0;32m     10\u001b[0m \u001b[0mresultFind\u001b[0m \u001b[1;33m=\u001b[0m \u001b[0mre\u001b[0m\u001b[1;33m.\u001b[0m\u001b[0mfindall\u001b[0m\u001b[1;33m(\u001b[0m\u001b[0mpat\u001b[0m\u001b[1;33m,\u001b[0m \u001b[0mmyStr\u001b[0m\u001b[1;33m)\u001b[0m\u001b[1;33m\u001b[0m\u001b[0m\n\u001b[1;32m---> 11\u001b[1;33m \u001b[0mresult\u001b[0m\u001b[1;33m=\u001b[0m \u001b[0mre\u001b[0m\u001b[1;33m.\u001b[0m\u001b[0msplit\u001b[0m\u001b[1;33m(\u001b[0m\u001b[0mpat\u001b[0m\u001b[1;33m,\u001b[0m \u001b[0mmyStr\u001b[0m\u001b[1;33m)\u001b[0m\u001b[1;33m\u001b[0m\u001b[0m\n\u001b[0m\u001b[0;32m     12\u001b[0m \u001b[0mprint\u001b[0m \u001b[1;33m(\u001b[0m\u001b[0mresultFind\u001b[0m\u001b[1;33m)\u001b[0m\u001b[1;33m\u001b[0m\u001b[0m\n\u001b[0;32m     13\u001b[0m \u001b[0mprint\u001b[0m \u001b[1;33m(\u001b[0m\u001b[0mresult\u001b[0m\u001b[1;33m)\u001b[0m\u001b[1;33m\u001b[0m\u001b[0m\n",
      "\u001b[1;32mc:\\python36\\lib\\re.py\u001b[0m in \u001b[0;36msplit\u001b[1;34m(pattern, string, maxsplit, flags)\u001b[0m\n\u001b[0;32m    210\u001b[0m     \u001b[1;32mand\u001b[0m \u001b[0mthe\u001b[0m \u001b[0mremainder\u001b[0m \u001b[0mof\u001b[0m \u001b[0mthe\u001b[0m \u001b[0mstring\u001b[0m \u001b[1;32mis\u001b[0m \u001b[0mreturned\u001b[0m \u001b[1;32mas\u001b[0m \u001b[0mthe\u001b[0m \u001b[0mfinal\u001b[0m \u001b[0melement\u001b[0m\u001b[1;33m\u001b[0m\u001b[0m\n\u001b[0;32m    211\u001b[0m     of the list.\"\"\"\n\u001b[1;32m--> 212\u001b[1;33m     \u001b[1;32mreturn\u001b[0m \u001b[0m_compile\u001b[0m\u001b[1;33m(\u001b[0m\u001b[0mpattern\u001b[0m\u001b[1;33m,\u001b[0m \u001b[0mflags\u001b[0m\u001b[1;33m)\u001b[0m\u001b[1;33m.\u001b[0m\u001b[0msplit\u001b[0m\u001b[1;33m(\u001b[0m\u001b[0mstring\u001b[0m\u001b[1;33m,\u001b[0m \u001b[0mmaxsplit\u001b[0m\u001b[1;33m)\u001b[0m\u001b[1;33m\u001b[0m\u001b[0m\n\u001b[0m\u001b[0;32m    213\u001b[0m \u001b[1;33m\u001b[0m\u001b[0m\n\u001b[0;32m    214\u001b[0m \u001b[1;32mdef\u001b[0m \u001b[0mfindall\u001b[0m\u001b[1;33m(\u001b[0m\u001b[0mpattern\u001b[0m\u001b[1;33m,\u001b[0m \u001b[0mstring\u001b[0m\u001b[1;33m,\u001b[0m \u001b[0mflags\u001b[0m\u001b[1;33m=\u001b[0m\u001b[1;36m0\u001b[0m\u001b[1;33m)\u001b[0m\u001b[1;33m:\u001b[0m\u001b[1;33m\u001b[0m\u001b[0m\n",
      "\u001b[1;31mValueError\u001b[0m: split() requires a non-empty pattern match."
     ]
    }
   ],
   "source": [
    "#THis is difficult to do with str.split With re.split it is easier\n",
    "myStr = \"I went shopping and bought INR20000 shoes, INR5000 Levi jeans, and had coffee and snacks costing INR2000\"\n",
    "#Need to remove all the costs and return the string split as a result\n",
    "\n",
    "# Expected value= ['I went shopping and bought ', ' shoes, ', ' Levi jeans, and had coffee and snacks costing '] \n",
    "## Write your code here: define pattern, and print the split string -  1 lines of code\n",
    "# pat= HINT use \\d attern to indicate digits\n",
    "pat = \"\"\n",
    "## Write your code here: define pattern, and print the split string -  1 lines of code\n",
    "resultFind = re.findall(pat, myStr)\n",
    "result= re.split(pat, myStr)\n",
    "print (resultFind)\n",
    "print (result)"
   ]
  },
  {
   "cell_type": "code",
   "execution_count": 11,
   "metadata": {},
   "outputs": [
    {
     "name": "stdout",
     "output_type": "stream",
     "text": [
      "['', '', '', '', '', '', '', '', '', '', '', '', '', '', '', '', '', '', '', '', '', '', '', '', '', '', '', '', '', '', '', '', '', '', '', '', '', '', '', '', '', '', '', '', '', '', '', '', '', '', '', '', '', '', '', '', '', '', '', '', '', '', '', '', '', '', '', '', '', '', '', '', '', '', '', '', '', '', '', '', '', '', '', '', '', '', '', '', '', '', '', '', '', '', '', '', '', '', '', '', '', '', '', '', '']\n",
      "I went shopping and bought INR20000 shoes, INR5000 Levi jeans, and had coffee and snacks costing INR2000\n"
     ]
    }
   ],
   "source": [
    "#THis is difficult to do with str.split With re.split it is easier\n",
    "myStr = \"I went shopping and bought INR20000 shoes, INR5000 Levi jeans, and had coffee and snacks costing INR2000\"\n",
    "#Need to remove all the Number and replace with \"###\"\n",
    "\n",
    "# pat= HINT use \\d attern to indicate digits\n",
    "pat = \"\"\n",
    "repl = \"\"\n",
    "## Write your code here: define pattern, and print the split string -  1 lines of code\n",
    "resultFind = re.findall(pat, myStr)\n",
    "result= re.sub(pat, repl, myStr)\n",
    "print (resultFind)\n",
    "print (result)"
   ]
  },
  {
   "cell_type": "code",
   "execution_count": null,
   "metadata": {},
   "outputs": [],
   "source": [
    "## Uaseful code to get line number - there may be other methods. try first.\n",
    "#from inspect import currentframe\n",
    "\n",
    "#def get_currlinenumber():\n",
    "#    cf = currentframe()\n",
    "#    return cf.f_back.f_lineno\n",
    "\n",
    "#print \"Actual line 10, python line \", get_currlinenumber()"
   ]
  },
  {
   "cell_type": "code",
   "execution_count": null,
   "metadata": {},
   "outputs": [],
   "source": []
  }
 ],
 "metadata": {
  "kernelspec": {
   "display_name": "Python 3",
   "language": "python",
   "name": "python3"
  },
  "language_info": {
   "codemirror_mode": {
    "name": "ipython",
    "version": 3
   },
   "file_extension": ".py",
   "mimetype": "text/x-python",
   "name": "python",
   "nbconvert_exporter": "python",
   "pygments_lexer": "ipython3",
   "version": "3.6.2"
  }
 },
 "nbformat": 4,
 "nbformat_minor": 2
}
