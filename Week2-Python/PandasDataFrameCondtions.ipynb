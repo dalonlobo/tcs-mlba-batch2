{
 "cells": [
  {
   "cell_type": "markdown",
   "metadata": {},
   "source": [
    "# This nb describes the following\n",
    "## Read from csv\n",
    "## Skip rows, header, set column names\n",
    "## Do indexing\n",
    "## extract rows based on loc (index)\n",
    "## extract rows based on conditions\n"
   ]
  },
  {
   "cell_type": "code",
   "execution_count": null,
   "metadata": {},
   "outputs": [],
   "source": [
    "import numpy as np\n",
    "import pandas as pd\n",
    "import pandas.io"
   ]
  },
  {
   "cell_type": "code",
   "execution_count": null,
   "metadata": {},
   "outputs": [],
   "source": [
    "df1=pd.read_csv(\"GradesNoHeadeExtraRows.csv\",header=None, skiprows=1)\n",
    "df1.head()"
   ]
  },
  {
   "cell_type": "code",
   "execution_count": null,
   "metadata": {},
   "outputs": [],
   "source": [
    "#This causes the first line to be read as part of data and this gives error\n",
    "df1=pd.read_csv(\"GradesNoHeadeExtraRows.csv\",header=None)\n",
    "df1.head()"
   ]
  },
  {
   "cell_type": "code",
   "execution_count": null,
   "metadata": {},
   "outputs": [],
   "source": [
    "#This takes the 1st line as header\n",
    "df1=pd.read_csv(\"GradesNoHeadeExtraRows.csv\")\n",
    "df1.head()\n",
    "df1.describe()\n",
    "df1.info()"
   ]
  },
  {
   "cell_type": "code",
   "execution_count": null,
   "metadata": {},
   "outputs": [],
   "source": [
    "#This wrongly takes the first line as header, and the header as part of data\n",
    "df1=pd.read_csv(\"GradesHeadeExtraRows.csv\")\n",
    "print(df1.head())\n",
    "print(\"df[0:2]=\", df1[0:2])\n",
    "print (\"df1.loc[name]=\", df1.loc[\"name\"]) #as first column is indexed refer by loc[\"name\"]\n",
    "print (\"df1[0:1]\", df1[0:1])\n",
    "#to print a specific row use iloc and not loc\n",
    "print (df1.iloc[1:3])"
   ]
  },
  {
   "cell_type": "code",
   "execution_count": null,
   "metadata": {},
   "outputs": [],
   "source": [
    "#Read from csv and set the names to a list of column names. Here skipping extra rows\n",
    "df2=pd.read_csv(\"GradesHeadeExtraRows.csv\", skiprows=1, header=0, names=[\"name\", \"city\", \"subject\", \"marks\", \"grade\"])\n",
    "df2.head()\n",
    "print(df1.columns)\n",
    "df2.city"
   ]
  },
  {
   "cell_type": "code",
   "execution_count": null,
   "metadata": {},
   "outputs": [],
   "source": [
    "#Read from csv and set the names to a list of column names. Here NOT skipping extra rows\n",
    "df1=pd.read_csv(\"GradesHeader.csv\", header=0, names=[\"name\", \"city\", \"subject\", \"marks\", \"grade\"])\n",
    "df1.head()\n",
    "print(df1.columns)\n",
    "df1.city"
   ]
  },
  {
   "cell_type": "code",
   "execution_count": null,
   "metadata": {},
   "outputs": [],
   "source": [
    "print (df1==df2)"
   ]
  },
  {
   "cell_type": "code",
   "execution_count": null,
   "metadata": {},
   "outputs": [],
   "source": [
    "df1.set_index(\"name\", drop=True, inplace=True)\n",
    "df1.head()"
   ]
  },
  {
   "cell_type": "code",
   "execution_count": null,
   "metadata": {},
   "outputs": [],
   "source": [
    "df1.ix[0]"
   ]
  },
  {
   "cell_type": "code",
   "execution_count": null,
   "metadata": {},
   "outputs": [],
   "source": [
    "print (df1.loc[[\"John\", \"Rani\"]])"
   ]
  },
  {
   "cell_type": "code",
   "execution_count": null,
   "metadata": {},
   "outputs": [],
   "source": [
    "print (df1.loc[\"John\": \"Rani\"])"
   ]
  },
  {
   "cell_type": "code",
   "execution_count": null,
   "metadata": {},
   "outputs": [],
   "source": [
    "df1.columns"
   ]
  },
  {
   "cell_type": "markdown",
   "metadata": {},
   "source": [
    "df1.index"
   ]
  },
  {
   "cell_type": "code",
   "execution_count": null,
   "metadata": {},
   "outputs": [],
   "source": [
    "print (df1.index)"
   ]
  },
  {
   "cell_type": "code",
   "execution_count": null,
   "metadata": {},
   "outputs": [],
   "source": [
    "df1.loc[[\"John\", \"Sridhar\"]]"
   ]
  },
  {
   "cell_type": "code",
   "execution_count": null,
   "metadata": {},
   "outputs": [],
   "source": [
    "df1.head()"
   ]
  },
  {
   "cell_type": "code",
   "execution_count": null,
   "metadata": {},
   "outputs": [],
   "source": [
    "df1"
   ]
  },
  {
   "cell_type": "code",
   "execution_count": null,
   "metadata": {},
   "outputs": [],
   "source": [
    "df1.columns=[ \"city\", \"sub\", \"marks\", \"grade\"]"
   ]
  },
  {
   "cell_type": "code",
   "execution_count": null,
   "metadata": {},
   "outputs": [],
   "source": [
    "df1.head()\n",
    "df1.columns\n",
    "df1.head()"
   ]
  },
  {
   "cell_type": "code",
   "execution_count": null,
   "metadata": {},
   "outputs": [],
   "source": [
    "df1[\"city\"]"
   ]
  },
  {
   "cell_type": "code",
   "execution_count": null,
   "metadata": {},
   "outputs": [],
   "source": [
    "df1[df1[\"city\"]==\"Chennai\"]"
   ]
  },
  {
   "cell_type": "code",
   "execution_count": null,
   "metadata": {},
   "outputs": [],
   "source": [
    "#For multiple conditions use bitwsie | and &\n",
    "df1[(df1[\"city\"]==\"Chennai\")| (df1[\"marks\"]>=40)]"
   ]
  },
  {
   "cell_type": "code",
   "execution_count": null,
   "metadata": {},
   "outputs": [],
   "source": [
    "#For multiple conditions use bitwsie | and &\n",
    "df1[(df1.city == \"Chennai\") | (df1.city == \"Bangalore\")]"
   ]
  },
  {
   "cell_type": "code",
   "execution_count": null,
   "metadata": {},
   "outputs": [],
   "source": [
    "df1[((df1.city == \"Chennai\") | (df1.city==\"Bangalore\") & (df1.marks >= 50))]"
   ]
  },
  {
   "cell_type": "code",
   "execution_count": null,
   "metadata": {},
   "outputs": [],
   "source": []
  },
  {
   "cell_type": "code",
   "execution_count": null,
   "metadata": {},
   "outputs": [],
   "source": []
  }
 ],
 "metadata": {
  "kernelspec": {
   "display_name": "Python 3",
   "language": "python",
   "name": "python3"
  },
  "language_info": {
   "codemirror_mode": {
    "name": "ipython",
    "version": 3
   },
   "file_extension": ".py",
   "mimetype": "text/x-python",
   "name": "python",
   "nbconvert_exporter": "python",
   "pygments_lexer": "ipython3",
   "version": "3.6.2"
  }
 },
 "nbformat": 4,
 "nbformat_minor": 2
}
