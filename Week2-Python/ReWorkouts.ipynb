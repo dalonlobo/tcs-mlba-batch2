{
 "cells": [
  {
   "cell_type": "code",
   "execution_count": 2,
   "metadata": {},
   "outputs": [
    {
     "name": "stdout",
     "output_type": "stream",
     "text": [
      "<module 're' from 'c:\\\\python36\\\\lib\\\\re.py'>\n"
     ]
    }
   ],
   "source": [
    "import re\n",
    "print (re)"
   ]
  },
  {
   "cell_type": "code",
   "execution_count": 3,
   "metadata": {},
   "outputs": [
    {
     "name": "stdout",
     "output_type": "stream",
     "text": [
      "This is a test\\tfor you\n",
      "This is a test\tfor you\n"
     ]
    }
   ],
   "source": [
    "#first concept. use r to not not interpret escape char specially\n",
    "str1 = r\"This is a test\\tfor you\"\n",
    "print (str1)\n",
    "str1 = \"This is a test\\tfor you\"\n",
    "print (str1)"
   ]
  },
  {
   "cell_type": "code",
   "execution_count": 4,
   "metadata": {},
   "outputs": [
    {
     "name": "stdout",
     "output_type": "stream",
     "text": [
      "['This', 'is', 'a', 'test', 'for', 'you'] <class 'list'>\n"
     ]
    }
   ],
   "source": [
    "#Split based on white space without using split\n",
    "pat1 = r\"\\w+\"\n",
    "r1 =(re.findall( pat1, str1))\n",
    "print (r1, type(r1))"
   ]
  },
  {
   "cell_type": "code",
   "execution_count": 5,
   "metadata": {},
   "outputs": [
    {
     "name": "stdout",
     "output_type": "stream",
     "text": [
      "['This'] <class 'list'>\n"
     ]
    }
   ],
   "source": [
    "#Match at the beginning of the string returns only 1 string\n",
    "pat1  = r\"^\\w+\"\n",
    "r1 =(re.findall( pat1, str1))\n",
    "print (r1, type(r1))"
   ]
  },
  {
   "cell_type": "code",
   "execution_count": 6,
   "metadata": {},
   "outputs": [
    {
     "name": "stdout",
     "output_type": "stream",
     "text": [
      ": This is a test\tfor you\t  :\n",
      "None <class 'NoneType'>\n"
     ]
    }
   ],
   "source": [
    "#Match at the beginning of the string returns only 1 string\n",
    "pat1  = r\"$\\w+\"\n",
    "str1 += \"\\t \"\n",
    "print (\":\", str1, \":\")\n",
    "r1 =(re.findall( pat1, str1))\n",
    "r1 =(re.match( pat1, str1))\n",
    "print (r1, type(r1))"
   ]
  },
  {
   "cell_type": "code",
   "execution_count": 7,
   "metadata": {},
   "outputs": [
    {
     "name": "stdout",
     "output_type": "stream",
     "text": [
      "<_sre.SRE_Match object; span=(0, 2), match='My'> after  My\n"
     ]
    }
   ],
   "source": [
    "str = \"My name is shekar\"\n",
    "pattern = r\"My\"\n",
    "pattern1 = r\"my\"\n",
    "pattern2 = r\"\\w+\"\n",
    "#result = re.match(pattern1, str, re.I)\n",
    "result = re.match(pattern, str)\n",
    "print (result, \"after \", pattern)\n"
   ]
  },
  {
   "cell_type": "code",
   "execution_count": 8,
   "metadata": {},
   "outputs": [
    {
     "name": "stdout",
     "output_type": "stream",
     "text": [
      "None after  my\n"
     ]
    }
   ],
   "source": [
    "result = re.match(pattern1, str)\n",
    "print (result, \"after \", pattern1)\n"
   ]
  },
  {
   "cell_type": "code",
   "execution_count": 9,
   "metadata": {},
   "outputs": [
    {
     "name": "stdout",
     "output_type": "stream",
     "text": [
      "<_sre.SRE_Match object; span=(0, 2), match='My'> after  \\w+\n",
      "<_sre.SRE_Match object; span=(0, 2), match='My'>\n",
      "(0, 2) My\n",
      "['My', 'name', 'is', 'shekar']\n"
     ]
    }
   ],
   "source": [
    "result = re.match(pattern2, str)\n",
    "print (result, \"after \", pattern2)\n",
    "\n",
    "\n",
    "if (result is not None):\n",
    "    print (result)\n",
    "    print (result.span(), result.group(0))\n",
    "else:\n",
    "    print (\"No Match found\")\n",
    "result  = re.findall(pattern2, str)\n",
    "print (result)\n"
   ]
  },
  {
   "cell_type": "code",
   "execution_count": 10,
   "metadata": {},
   "outputs": [
    {
     "name": "stdout",
     "output_type": "stream",
     "text": [
      "['Raman', 'Saroja'] <class 'list'>\n",
      "['20', '45'] <class 'list'>\n"
     ]
    }
   ],
   "source": [
    "str = '''\n",
    "Raman is 20 years old, and Saroja is 45 years old\n",
    "'''\n",
    "namePattern = r\"[A-Z][a-z]+\"\n",
    "agePattern = r\"\\d{1,3}\"\n",
    "result=re.findall(namePattern, str)\n",
    "print (result, type(result))\n",
    "\n",
    "result=re.findall(agePattern, str)\n",
    "print (result, type(result))\n",
    "\n"
   ]
  },
  {
   "cell_type": "code",
   "execution_count": 11,
   "metadata": {},
   "outputs": [
    {
     "name": "stdout",
     "output_type": "stream",
     "text": [
      "['Raman', '20', 'Saroja', '45'] <class 'list'>\n",
      "['Raman', 'Saroja']\n"
     ]
    }
   ],
   "source": [
    "#Combine the 2 in one pattern\n",
    "result=re.findall(namePattern + \"|\" + agePattern, str)\n",
    "print (result, type(result))\n",
    "result=re.findall(namePattern + \".\" + agePattern, str)\n",
    "patternObj = re.compile(namePattern)\n",
    "result = patternObj.findall(str)\n",
    "print (result)\n",
    "\n"
   ]
  },
  {
   "cell_type": "code",
   "execution_count": 12,
   "metadata": {},
   "outputs": [
    {
     "name": "stdout",
     "output_type": "stream",
     "text": [
      "['@videoken', '@gmail', '@commonfloor', '@teamlease']\n",
      "['@videoken', '@gmail', '@commonfloor', '@teamlease']\n",
      "['@videoken.com', '@gmail.com', '@commonfloor.com', '@teamlease.com']\n"
     ]
    }
   ],
   "source": [
    "str = '''\n",
    "shekar.ramamurthy@videoken.com\"\n",
    "shekar.ramamurthy@gmail.com\n",
    "shekar.r@commonfloor.com\n",
    "chandrashekar.r@teamlease.com\n",
    "c#1.com\n",
    "'''\n",
    "pattern = r\"@\\w+\"\n",
    "result = re.findall(pattern, str)\n",
    "print (result)\n",
    "\n",
    "pattern1 = r\"@[^.]*\"\n",
    "result = re.findall(pattern1, str)\n",
    "print (result)\n",
    "\n",
    "pattern1 = r\"@\\w+.com*\"\n",
    "result = re.findall(pattern1, str)\n",
    "print (result)"
   ]
  },
  {
   "cell_type": "code",
   "execution_count": 46,
   "metadata": {},
   "outputs": [
    {
     "name": "stdout",
     "output_type": "stream",
     "text": [
      "surname: Ramamurthy, lastname: Chandrashekar, title: AI\n",
      "Found pattern,: ,* *\\w*:  : Result= ['surname: ', ', lastname: ', ', title: ']\n",
      "Split ['', 'Ramamurthy', 'Chandrashekar', 'AI']\n",
      "surname: Das, firstname: Alok, title: President\n",
      "Found pattern,: ,* *\\w*:  : Result= ['surname: ', ', firstname: ', ', title: ']\n",
      "Split ['', 'Das', 'Alok', 'President']\n"
     ]
    }
   ],
   "source": [
    "lines = [\"surname: Ramamurthy, lastname: Chandrashekar, title: AI\", \"surname: Das, firstname: Alok, title: President\"]\n",
    "pat = \",* *\\w*: \"\n",
    "for i in lines:\n",
    "    print (i)\n",
    "    print (\"Found pattern,:\", pat, \": Result=\",re.findall(pat, i))\n",
    "    print (\"Split\", re.split(pat, i))\n"
   ]
  },
  {
   "cell_type": "code",
   "execution_count": 53,
   "metadata": {},
   "outputs": [
    {
     "name": "stdout",
     "output_type": "stream",
     "text": [
      "['Th', ' ', ' a test']\n",
      "['This is a test']\n"
     ]
    }
   ],
   "source": [
    "str1= \"This is a test\"\n",
    "print (str1.split(\"is\"))\n",
    "print (str1.split(\"is*\")) #does not recognize * characters"
   ]
  },
  {
   "cell_type": "code",
   "execution_count": null,
   "metadata": {},
   "outputs": [],
   "source": []
  }
 ],
 "metadata": {
  "kernelspec": {
   "display_name": "Python 3",
   "language": "python",
   "name": "python3"
  },
  "language_info": {
   "codemirror_mode": {
    "name": "ipython",
    "version": 3
   },
   "file_extension": ".py",
   "mimetype": "text/x-python",
   "name": "python",
   "nbconvert_exporter": "python",
   "pygments_lexer": "ipython3",
   "version": "3.6.2"
  }
 },
 "nbformat": 4,
 "nbformat_minor": 2
}
