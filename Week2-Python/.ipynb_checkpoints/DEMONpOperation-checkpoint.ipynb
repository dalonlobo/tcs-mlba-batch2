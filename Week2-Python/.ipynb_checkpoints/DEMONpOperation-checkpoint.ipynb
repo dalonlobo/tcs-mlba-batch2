{
 "cells": [
  {
   "cell_type": "code",
   "execution_count": 2,
   "metadata": {},
   "outputs": [
    {
     "name": "stdout",
     "output_type": "stream",
     "text": [
      "a1.shape, b1.shape (2, 3) (2, 3)\n",
      "type of shape = <class 'tuple'> <class 'tuple'>\n",
      "a1+b1= [[ 22  34  66]\n",
      " [ 88  60 666]]\n",
      "a1-b1= [[  0 -10   0]\n",
      " [  0 -50 534]]\n",
      "b1/a1= [[ 1.          1.83333333  1.        ]\n",
      " [ 1.         11.          0.11      ]]\n",
      "[[  121   264  1089]\n",
      " [ 1936   275 39600]]\n",
      "b1%a1 [[ 0 10  0]\n",
      " [ 0  0 66]]\n",
      "b1//a1 [[ 1  1  1]\n",
      " [ 1 11  0]]\n",
      "b1**a1 [[ 1843829075 -1989603328   942687265]\n",
      " [          0   503284375           0]]\n",
      "sqrt(b1) [[3.31662479 4.69041576 5.74456265]\n",
      " [6.63324958 7.41619849 8.1240384 ]]\n",
      "np.inner(a1, b1) [[ 1474  3322]\n",
      " [20394 41811]]\n",
      "[[ 11  12  33]\n",
      " [ 44   5 600]]\n",
      "[[11 22 33]\n",
      " [44 55 66]]\n",
      "a1<=b1 [[ True  True  True]\n",
      " [ True  True False]]\n",
      "a1==b1 [[ True False  True]\n",
      " [ True False False]]\n",
      "[[0 0 0]\n",
      " [0 0 0]]\n"
     ]
    }
   ],
   "source": [
    "#Operations possible in np\n",
    "import numpy as np\n",
    "#Array maths -  operations of numpy +, -, /, *, %, // **,  all in element ops\n",
    "a1 = np.array([[11,12,33], [44,5,600]])\n",
    "b1 = np.array([[11,22,33], [44,55,66]])\n",
    "print (\"a1.shape, b1.shape\", a1.shape, b1.shape)\n",
    "print (\"type of shape =\", type(a1.shape), type(b1.shape))\n",
    "print (\"a1+b1=\", a1+b1)\n",
    "print (\"a1-b1=\", a1-b1)\n",
    "print (\"b1/a1=\", b1/a1)\n",
    "print (a1*b1)\n",
    "print (\"b1%a1\", b1%a1)\n",
    "print (\"b1//a1\", b1//a1)\n",
    "print (\"b1**a1\", b1**a1)\n",
    "print (\"sqrt(b1)\",np.sqrt(b1))\n",
    "\n",
    "#inner product\n",
    "print (\"np.inner(a1, b1)\", np.inner(a1, b1))\n",
    "\n",
    "#Boolean operations\n",
    "print (a1)\n",
    "print (b1)\n",
    "print (\"a1<=b1\", a1<=b1)\n",
    "print (\"a1==b1\", a1==b1)\n",
    "c=  a1\n",
    "c [c>20]=20\n",
    "c [c<=20] = 0\n",
    "print (c)\n",
    "# c[b1>20]= 20\n",
    "# print (c)\n",
    "# c[b1<= 20]=0\n",
    "# print (c)\n",
    "\n",
    "\n",
    "\n",
    "\n",
    "\n",
    "\n"
   ]
  },
  {
   "cell_type": "code",
   "execution_count": null,
   "metadata": {},
   "outputs": [],
   "source": []
  }
 ],
 "metadata": {
  "kernelspec": {
   "display_name": "Python 3",
   "language": "python",
   "name": "python3"
  },
  "language_info": {
   "codemirror_mode": {
    "name": "ipython",
    "version": 3
   },
   "file_extension": ".py",
   "mimetype": "text/x-python",
   "name": "python",
   "nbconvert_exporter": "python",
   "pygments_lexer": "ipython3",
   "version": "3.6.2"
  }
 },
 "nbformat": 4,
 "nbformat_minor": 2
}
