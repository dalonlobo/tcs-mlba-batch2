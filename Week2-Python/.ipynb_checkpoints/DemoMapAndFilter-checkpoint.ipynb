{
 "cells": [
  {
   "cell_type": "code",
   "execution_count": 1,
   "metadata": {},
   "outputs": [
    {
     "name": "stdout",
     "output_type": "stream",
     "text": [
      "[2, 4, 6, 8]\n",
      "[22, 44, 66, 88]\n",
      "lambda mul 3\n",
      "lambda mul 30\n",
      "[2, 4, 6, 20, 50, 100]\n",
      "(2, 4, 6, 20, 50, 100)\n",
      "{2, 4, 100, 6, 50, 20}\n"
     ]
    }
   ],
   "source": [
    "mul = lambda x, y: x * y;\n",
    "def double (x):\n",
    "    return x*2\n",
    "\n",
    "args = [1,2,3,4]\n",
    "\n",
    "l = list(map(double, args)) # Need to enclose in list or tuple\n",
    "print (l)\n",
    "\n",
    "l = list(map(lambda x : x*2, [11, 22, 33, 44]))\n",
    "print (l)\n",
    "\n",
    "print (\"lambda mul\", mul(1,3))\n",
    "print (\"lambda mul\", mul(5,6))\n",
    "\n",
    "#filter only even values\n",
    "arg = [1, 2, 3, 4, 5, 6, 9, 20, 50, 100]\n",
    "print (list(filter(lambda x : x % 2 == 0, arg)) )\n",
    "print (tuple(filter(lambda x : x % 2 == 0, arg)) )\n",
    "print (set(filter(lambda x : x % 2 == 0, arg)) )"
   ]
  },
  {
   "cell_type": "code",
   "execution_count": null,
   "metadata": {},
   "outputs": [],
   "source": []
  }
 ],
 "metadata": {
  "kernelspec": {
   "display_name": "Python 3",
   "language": "python",
   "name": "python3"
  },
  "language_info": {
   "codemirror_mode": {
    "name": "ipython",
    "version": 3
   },
   "file_extension": ".py",
   "mimetype": "text/x-python",
   "name": "python",
   "nbconvert_exporter": "python",
   "pygments_lexer": "ipython3",
   "version": "3.6.2"
  }
 },
 "nbformat": 4,
 "nbformat_minor": 2
}
