{
 "cells": [
  {
   "cell_type": "markdown",
   "metadata": {},
   "source": [
    "# This will explain RE\n",
    "## will cover the following concepts and methods\n",
    "## pattern\n",
    "## match, span\n",
    "## find, span\n",
    "## search\n",
    "## findall\n",
    "## sub"
   ]
  },
  {
   "cell_type": "code",
   "execution_count": 2,
   "metadata": {},
   "outputs": [],
   "source": [
    "import re"
   ]
  },
  {
   "cell_type": "code",
   "execution_count": 27,
   "metadata": {},
   "outputs": [],
   "source": [
    "def myMatchAndReplace(pat, mainStr, repl=None, count=0):\n",
    "    print(\"Enter myMatch\")\n",
    "    result = re.match(pat, mainStr)\n",
    "    if result is not None:\n",
    "        print(\"MATCH  pat=:\", pat, \": mainStr=:\", mainStr, \":     RESULT=:\", result.group(0), \":\", result)\n",
    "    else:\n",
    "        print(\"MATCH  pat=:\", pat, \": mainStr=:\", mainStr, \":     RESULT=:\", result)\n",
    "\n",
    "    result = re.search(pat, mainStr)\n",
    "    if result is not None:\n",
    "        print(\"SEARCH  pat=:\", pat, \": mainStr=:\", mainStr, \":     RESULT=:\", result.group(0), \":\", result)\n",
    "    else:\n",
    "        print(\"SEARCH  pat=:\", pat, \": mainStr=:\", mainStr, \":     RESULT=:\", result)\n",
    "\n",
    "    result = re.findall(pat, mainStr)\n",
    "    if result is not None:\n",
    "        print(\"FINDALL pat=:\", pat, \": mainStr=:\", mainStr, \":     RESULT=:\", result, \":\")\n",
    "\n",
    "    result = re.split(pat, mainStr)\n",
    "    if result is not None:\n",
    "        print(\"SPLIT pat=:\", pat, \": mainStr=:\", mainStr, \":\\n     RESULT=:\", result, \":\")\n",
    "    else:\n",
    "        print(\"SPLIT  pat=:\", pat, \": mainStr=:\", mainStr, \":     RESULT=:\", result)\n",
    "    if(repl is not None):\n",
    "        result = re.sub(pat,  repl, mainStr, count)\n",
    "        print(\"SUB pat=:\", pat, \": REPL=:\", repl, \": mainStr=:\", mainStr, \":     RESULT=:\", result, \":\")\n",
    "    print(\"Exit myMatch\\n\")\n"
   ]
  },
  {
   "cell_type": "code",
   "execution_count": 28,
   "metadata": {},
   "outputs": [
    {
     "name": "stdout",
     "output_type": "stream",
     "text": [
      "Enter myMatch\n",
      "MATCH  pat=: ab : mainStr=: bcabcbab :     RESULT=: None\n",
      "SEARCH  pat=: ab : mainStr=: bcabcbab :     RESULT=: ab : <_sre.SRE_Match object; span=(2, 4), match='ab'>\n",
      "FINDALL pat=: ab : mainStr=: bcabcbab :     RESULT=: ['ab', 'ab'] :\n",
      "SPLIT pat=: ab : mainStr=: bcabcbab :\n",
      "     RESULT=: ['bc', 'cb', ''] :\n",
      "Exit myMatch\n",
      "\n"
     ]
    }
   ],
   "source": [
    "pat = \"ab\"\n",
    "myStr= \"bcabcbab\"\n",
    "replc=None\n",
    "myMatchAndReplace(pat, myStr)"
   ]
  },
  {
   "cell_type": "code",
   "execution_count": 29,
   "metadata": {},
   "outputs": [
    {
     "name": "stdout",
     "output_type": "stream",
     "text": [
      "Enter myMatch\n",
      "MATCH  pat=: abc : mainStr=: bcabcbab :     RESULT=: None\n",
      "SEARCH  pat=: abc : mainStr=: bcabcbab :     RESULT=: abc : <_sre.SRE_Match object; span=(2, 5), match='abc'>\n",
      "FINDALL pat=: abc : mainStr=: bcabcbab :     RESULT=: ['abc'] :\n",
      "SPLIT pat=: abc : mainStr=: bcabcbab :\n",
      "     RESULT=: ['bc', 'bab'] :\n",
      "Exit myMatch\n",
      "\n"
     ]
    }
   ],
   "source": [
    "pat = \"abc\"\n",
    "myMatchAndReplace(pat, myStr, replc)"
   ]
  },
  {
   "cell_type": "code",
   "execution_count": 30,
   "metadata": {},
   "outputs": [
    {
     "name": "stdout",
     "output_type": "stream",
     "text": [
      "Enter myMatch\n",
      "MATCH  pat=: ba : mainStr=: bcabcbab :     RESULT=: None\n",
      "SEARCH  pat=: ba : mainStr=: bcabcbab :     RESULT=: ba : <_sre.SRE_Match object; span=(5, 7), match='ba'>\n",
      "FINDALL pat=: ba : mainStr=: bcabcbab :     RESULT=: ['ba'] :\n",
      "SPLIT pat=: ba : mainStr=: bcabcbab :\n",
      "     RESULT=: ['bcabc', 'b'] :\n",
      "Exit myMatch\n",
      "\n"
     ]
    }
   ],
   "source": [
    "pat = \"ba\"\n",
    "myMatchAndReplace(pat, myStr, replc)"
   ]
  },
  {
   "cell_type": "code",
   "execution_count": 22,
   "metadata": {},
   "outputs": [
    {
     "name": "stdout",
     "output_type": "stream",
     "text": [
      "Enter myMatch\n",
      "MATCH  pat=: abc : mainStr=: I abcloveabc python :     RESULT=: None\n",
      "SEARCH  pat=: abc : mainStr=: I abcloveabc python :     RESULT=: abc : <_sre.SRE_Match object; span=(2, 5), match='abc'>\n",
      "FINDALL pat=: abc : mainStr=: I abcloveabc python :     RESULT=: ['abc', 'abc'] :\n",
      "SPLIT pat=: abc : mainStr=: I abcloveabc python :\n",
      "     RESULT=: ['I ', 'love', ' python'] :\n",
      "SUB pat=: abc : REPL=: COOL : mainStr=: I abcloveabc python :     RESULT=: I COOLloveCOOL python :\n",
      "Exit myMatch\n",
      "\n"
     ]
    }
   ],
   "source": [
    "pat =\"abc\" #no leading or trailing space\n",
    "myStr = \"I abcloveabc python\"\n",
    "replc = \"COOL\"\n",
    "myMatchAndReplace(pat, myStr, replc)"
   ]
  },
  {
   "cell_type": "code",
   "execution_count": 23,
   "metadata": {},
   "outputs": [
    {
     "name": "stdout",
     "output_type": "stream",
     "text": [
      "Enter myMatch\n",
      "MATCH  pat=:  abc : mainStr=: I abcloveabc python :     RESULT=: None\n",
      "SEARCH  pat=:  abc : mainStr=: I abcloveabc python :     RESULT=:  abc : <_sre.SRE_Match object; span=(1, 5), match=' abc'>\n",
      "FINDALL pat=:  abc : mainStr=: I abcloveabc python :     RESULT=: [' abc'] :\n",
      "SPLIT pat=:  abc : mainStr=: I abcloveabc python :\n",
      "     RESULT=: ['I', 'loveabc python'] :\n",
      "SUB pat=:  abc : REPL=: COOL : mainStr=: I abcloveabc python :     RESULT=: ICOOLloveabc python :\n",
      "Exit myMatch\n",
      "\n"
     ]
    }
   ],
   "source": [
    "pat =\" abc\" #leaning space\n",
    "myStr = \"I abcloveabc python\"\n",
    "replc = \"COOL\"\n",
    "myMatchAndReplace(pat, myStr, replc)"
   ]
  },
  {
   "cell_type": "code",
   "execution_count": 24,
   "metadata": {},
   "outputs": [
    {
     "name": "stdout",
     "output_type": "stream",
     "text": [
      "Enter myMatch\n",
      "MATCH  pat=:  abc  : mainStr=: I abcloveabc python :     RESULT=: None\n",
      "SEARCH  pat=:  abc  : mainStr=: I abcloveabc python :     RESULT=: None\n",
      "FINDALL pat=:  abc  : mainStr=: I abcloveabc python :     RESULT=: [] :\n",
      "SPLIT pat=:  abc  : mainStr=: I abcloveabc python :\n",
      "     RESULT=: ['I abcloveabc python'] :\n",
      "SUB pat=:  abc  : REPL=: COOL : mainStr=: I abcloveabc python :     RESULT=: I abcloveabc python :\n",
      "Exit myMatch\n",
      "\n"
     ]
    }
   ],
   "source": [
    "pat =\" abc \" #leading and trailing space. Split will split the whole string as there is no matching patter\n",
    "myStr = \"I abcloveabc python\"\n",
    "replc = \"COOL\"\n",
    "myMatchAndReplace(pat, myStr, replc)"
   ]
  },
  {
   "cell_type": "code",
   "execution_count": 9,
   "metadata": {},
   "outputs": [
    {
     "name": "stdout",
     "output_type": "stream",
     "text": [
      "Enter myMatch\n",
      "MATCH  pat=: ab : mainStr=: bcabcbab :     RESULT=: None\n",
      "SEARCH  pat=: ab : mainStr=: bcabcbab :     RESULT=: ab : <_sre.SRE_Match object; span=(2, 4), match='ab'>\n",
      "FINDALL pat=: ab : mainStr=: bcabcbab :     RESULT=: ['ab', 'ab'] :\n",
      "SPLIT pat=: ab : mainStr=: bcabcbab :     RESULT=: ['bc', 'cb', ''] :\n",
      "SUB pat=: ab : REPL=: AB : mainStr=: bcabcbab :     RESULT=: bcABcbAB :\n",
      "Exit myMatch\n",
      "\n"
     ]
    }
   ],
   "source": [
    "replc = \"AB\"\n",
    "pat = \"ab\"\n",
    "mainStr = \"bcabcbab\"\n",
    "\n",
    "myMatchAndReplace(pat, mainStr, replc)"
   ]
  },
  {
   "cell_type": "code",
   "execution_count": 10,
   "metadata": {},
   "outputs": [
    {
     "name": "stdout",
     "output_type": "stream",
     "text": [
      "Enter myMatch\n",
      "MATCH  pat=: ab* : mainStr=: bbbbcabbbbcbab abbabbcaab :     RESULT=: None\n",
      "SEARCH  pat=: ab* : mainStr=: bbbbcabbbbcbab abbabbcaab :     RESULT=: abbbb : <_sre.SRE_Match object; span=(5, 10), match='abbbb'>\n",
      "FINDALL pat=: ab* : mainStr=: bbbbcabbbbcbab abbabbcaab :     RESULT=: ['abbbb', 'ab', 'abb', 'abb', 'a', 'ab'] :\n",
      "SPLIT pat=: ab* : mainStr=: bbbbcabbbbcbab abbabbcaab :     RESULT=: ['bbbbc', 'cb', ' ', '', 'c', '', ''] :\n",
      "SUB pat=: ab* : REPL=: AB : mainStr=: bbbbcabbbbcbab abbabbcaab :     RESULT=: bbbbcABcbAB ABABcABAB :\n",
      "Exit myMatch\n",
      "\n"
     ]
    }
   ],
   "source": [
    "mainStr = \"bbbbcabbbbcbab abbabbcaab\"\n",
    "pat = \"ab*\"\n",
    "myMatchAndReplace(pat, mainStr, replc)"
   ]
  },
  {
   "cell_type": "code",
   "execution_count": 11,
   "metadata": {},
   "outputs": [
    {
     "name": "stdout",
     "output_type": "stream",
     "text": [
      "Enter myMatch\n",
      "MATCH  pat=: ab.* : mainStr=: bbbbcabbbbcbab abbabbcaab :     RESULT=: None\n",
      "SEARCH  pat=: ab.* : mainStr=: bbbbcabbbbcbab abbabbcaab :     RESULT=: abbbbcbab abbabbcaab : <_sre.SRE_Match object; span=(5, 25), match='abbbbcbab abbabbcaab'>\n",
      "FINDALL pat=: ab.* : mainStr=: bbbbcabbbbcbab abbabbcaab :     RESULT=: ['abbbbcbab abbabbcaab'] :\n",
      "SPLIT pat=: ab.* : mainStr=: bbbbcabbbbcbab abbabbcaab :     RESULT=: ['bbbbc', ''] :\n",
      "SUB pat=: ab.* : REPL=: AB : mainStr=: bbbbcabbbbcbab abbabbcaab :     RESULT=: bbbbcAB :\n",
      "Exit myMatch\n",
      "\n"
     ]
    }
   ],
   "source": [
    "pat = \"ab.*\"\n",
    "myMatchAndReplace(pat, mainStr, replc)"
   ]
  },
  {
   "cell_type": "code",
   "execution_count": 12,
   "metadata": {},
   "outputs": [
    {
     "name": "stdout",
     "output_type": "stream",
     "text": [
      "Enter myMatch\n",
      "MATCH  pat=: (ab)+ : mainStr=: bbbbcabbbbcbab abbabbcaab :     RESULT=: None\n",
      "SEARCH  pat=: (ab)+ : mainStr=: bbbbcabbbbcbab abbabbcaab :     RESULT=: ab : <_sre.SRE_Match object; span=(5, 7), match='ab'>\n",
      "FINDALL pat=: (ab)+ : mainStr=: bbbbcabbbbcbab abbabbcaab :     RESULT=: ['ab', 'ab', 'ab', 'ab', 'ab'] :\n",
      "SPLIT pat=: (ab)+ : mainStr=: bbbbcabbbbcbab abbabbcaab :     RESULT=: ['bbbbc', 'ab', 'bbbcb', 'ab', ' ', 'ab', 'b', 'ab', 'bca', 'ab', ''] :\n",
      "SUB pat=: (ab)+ : REPL=: AB : mainStr=: bbbbcabbbbcbab abbabbcaab :     RESULT=: bbbbcABbbbcbAB ABbABbcaAB :\n",
      "Exit myMatch\n",
      "\n"
     ]
    }
   ],
   "source": [
    "mainStr = \"bbbbcabbbbcbab abbabbcaab\"\n",
    "pat = \"(ab)+\"\n",
    "myMatchAndReplace(pat, mainStr, replc)"
   ]
  },
  {
   "cell_type": "code",
   "execution_count": null,
   "metadata": {},
   "outputs": [],
   "source": []
  }
 ],
 "metadata": {
  "kernelspec": {
   "display_name": "Python 3",
   "language": "python",
   "name": "python3"
  },
  "language_info": {
   "codemirror_mode": {
    "name": "ipython",
    "version": 3
   },
   "file_extension": ".py",
   "mimetype": "text/x-python",
   "name": "python",
   "nbconvert_exporter": "python",
   "pygments_lexer": "ipython3",
   "version": "3.6.2"
  }
 },
 "nbformat": 4,
 "nbformat_minor": 2
}
