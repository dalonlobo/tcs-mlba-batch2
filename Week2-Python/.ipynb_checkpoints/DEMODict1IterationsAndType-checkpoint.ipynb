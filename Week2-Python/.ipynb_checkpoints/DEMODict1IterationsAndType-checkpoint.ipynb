{
 "cells": [
  {
   "cell_type": "markdown",
   "metadata": {},
   "source": [
    "# THis will demonstrate about dicts and how to create them, and use various iterating ways of dict"
   ]
  },
  {
   "cell_type": "code",
   "execution_count": null,
   "metadata": {},
   "outputs": [],
   "source": [
    "#Create Dictionary. Many types of keys"
   ]
  },
  {
   "cell_type": "code",
   "execution_count": 23,
   "metadata": {},
   "outputs": [],
   "source": [
    "def funIter(d):\n",
    "    print (\"funIter::\", d)\n",
    "    print (\"funIter:: keys = \", d.keys(), type(d.keys()))\n",
    "    print (\"funIter:: values = \", d.values(), type(d.values()))\n",
    "    #iterate through all keys using keys()\n",
    "    for k in d.keys():\n",
    "        print (\"funIter::for d.keys\", k, type(k))\n",
    "    #iterate through all values using values()\n",
    "    for v in d.values():\n",
    "        print (\"funIter:: for d.values\", v, type(v))\n",
    "    #iterate through keys and values together using items()\n",
    "    for k,v in d.items():\n",
    "        print (\"funIter:: for d.items\", k, type(k), v, type(v))\n",
    "    print (\"funIter::Exit\\n\")"
   ]
  },
  {
   "cell_type": "code",
   "execution_count": 24,
   "metadata": {},
   "outputs": [
    {
     "name": "stdout",
     "output_type": "stream",
     "text": [
      "funIter:: {1: 234, 2: 'abc', 3: 3}\n",
      "funIter:: keys =  dict_keys([1, 2, 3]) <class 'dict_keys'>\n",
      "funIter:: values =  dict_values([234, 'abc', 3]) <class 'dict_values'>\n",
      "funIter::for d.keys 1 <class 'int'>\n",
      "funIter::for d.keys 2 <class 'int'>\n",
      "funIter::for d.keys 3 <class 'int'>\n",
      "funIter:: for d.values 234 <class 'int'>\n",
      "funIter:: for d.values abc <class 'str'>\n",
      "funIter:: for d.values 3 <class 'int'>\n",
      "funIter:: for d.items 1 <class 'int'> 234 <class 'int'>\n",
      "funIter:: for d.items 2 <class 'int'> abc <class 'str'>\n",
      "funIter:: for d.items 3 <class 'int'> 3 <class 'int'>\n",
      "funIter::Exit\n",
      "\n"
     ]
    }
   ],
   "source": [
    "d1={1:234, 2:\"abc\", 3:3}\n",
    "funIter(d1)"
   ]
  },
  {
   "cell_type": "code",
   "execution_count": 25,
   "metadata": {},
   "outputs": [
    {
     "name": "stdout",
     "output_type": "stream",
     "text": [
      "funIter:: {'abc': 'abc', 'bcd': 1234, 'efg': (1, 2, 3)}\n",
      "funIter:: keys =  dict_keys(['abc', 'bcd', 'efg']) <class 'dict_keys'>\n",
      "funIter:: values =  dict_values(['abc', 1234, (1, 2, 3)]) <class 'dict_values'>\n",
      "funIter::for d.keys abc <class 'str'>\n",
      "funIter::for d.keys bcd <class 'str'>\n",
      "funIter::for d.keys efg <class 'str'>\n",
      "funIter:: for d.values abc <class 'str'>\n",
      "funIter:: for d.values 1234 <class 'int'>\n",
      "funIter:: for d.values (1, 2, 3) <class 'tuple'>\n",
      "funIter:: for d.items abc <class 'str'> abc <class 'str'>\n",
      "funIter:: for d.items bcd <class 'str'> 1234 <class 'int'>\n",
      "funIter:: for d.items efg <class 'str'> (1, 2, 3) <class 'tuple'>\n",
      "funIter::Exit\n",
      "\n"
     ]
    }
   ],
   "source": [
    "d2  = {\"abc\": \"abc\", \"bcd\": 1234, \"efg\": (1,2,3)}\n",
    "funIter(d2)\n"
   ]
  },
  {
   "cell_type": "code",
   "execution_count": 26,
   "metadata": {},
   "outputs": [
    {
     "name": "stdout",
     "output_type": "stream",
     "text": [
      "funIter:: {(1, 2, 3): 'abc', 1.2: 1000, '11-08-2018': [1, 2, 3]}\n",
      "funIter:: keys =  dict_keys([(1, 2, 3), 1.2, '11-08-2018']) <class 'dict_keys'>\n",
      "funIter:: values =  dict_values(['abc', 1000, [1, 2, 3]]) <class 'dict_values'>\n",
      "funIter::for d.keys (1, 2, 3) <class 'tuple'>\n",
      "funIter::for d.keys 1.2 <class 'float'>\n",
      "funIter::for d.keys 11-08-2018 <class 'str'>\n",
      "funIter:: for d.values abc <class 'str'>\n",
      "funIter:: for d.values 1000 <class 'int'>\n",
      "funIter:: for d.values [1, 2, 3] <class 'list'>\n",
      "funIter:: for d.items (1, 2, 3) <class 'tuple'> abc <class 'str'>\n",
      "funIter:: for d.items 1.2 <class 'float'> 1000 <class 'int'>\n",
      "funIter:: for d.items 11-08-2018 <class 'str'> [1, 2, 3] <class 'list'>\n",
      "funIter::Exit\n",
      "\n"
     ]
    }
   ],
   "source": [
    "d3 = {(1,2,3): \"abc\", 1.2: 1000, \"11-08-2018\": [1,2,3]}\n",
    "funIter(d3)"
   ]
  },
  {
   "cell_type": "code",
   "execution_count": 27,
   "metadata": {},
   "outputs": [
    {
     "name": "stdout",
     "output_type": "stream",
     "text": [
      "funIter:: {1: {1, 2, 3}, 2: {1: 11, 2: 22}, 3: 'abc'}\n",
      "funIter:: keys =  dict_keys([1, 2, 3]) <class 'dict_keys'>\n",
      "funIter:: values =  dict_values([{1, 2, 3}, {1: 11, 2: 22}, 'abc']) <class 'dict_values'>\n",
      "funIter::for d.keys 1 <class 'int'>\n",
      "funIter::for d.keys 2 <class 'int'>\n",
      "funIter::for d.keys 3 <class 'int'>\n",
      "funIter:: for d.values {1, 2, 3} <class 'set'>\n",
      "funIter:: for d.values {1: 11, 2: 22} <class 'dict'>\n",
      "funIter:: for d.values abc <class 'str'>\n",
      "funIter:: for d.items 1 <class 'int'> {1, 2, 3} <class 'set'>\n",
      "funIter:: for d.items 2 <class 'int'> {1: 11, 2: 22} <class 'dict'>\n",
      "funIter:: for d.items 3 <class 'int'> abc <class 'str'>\n",
      "funIter::Exit\n",
      "\n"
     ]
    }
   ],
   "source": [
    "d4 = {1:{1,2,3}, 2:{1:11, 2:22}, 3: \"abc\"}\n",
    "funIter(d4)"
   ]
  },
  {
   "cell_type": "code",
   "execution_count": 30,
   "metadata": {},
   "outputs": [
    {
     "name": "stdout",
     "output_type": "stream",
     "text": [
      "funIter:: {b'1234': 1, range(1, 2): 10}\n",
      "funIter:: keys =  dict_keys([b'1234', range(1, 2)]) <class 'dict_keys'>\n",
      "funIter:: values =  dict_values([1, 10]) <class 'dict_values'>\n",
      "funIter::for d.keys b'1234' <class 'bytes'>\n",
      "funIter::for d.keys range(1, 2) <class 'range'>\n",
      "funIter:: for d.values 1 <class 'int'>\n",
      "funIter:: for d.values 10 <class 'int'>\n",
      "funIter:: for d.items b'1234' <class 'bytes'> 1 <class 'int'>\n",
      "funIter:: for d.items range(1, 2) <class 'range'> 10 <class 'int'>\n",
      "funIter::Exit\n",
      "\n"
     ]
    }
   ],
   "source": [
    "#can have range objectes, and byte as keys\n",
    "d6= {b\"1234\": 1, range(1,2,1): 10}\n",
    "funIter(d6)"
   ]
  },
  {
   "cell_type": "code",
   "execution_count": 35,
   "metadata": {},
   "outputs": [
    {
     "name": "stdout",
     "output_type": "stream",
     "text": [
      "Got TypeError Exception unhashable type: 'set'\n",
      "Got TypeError Exception 'dict_keys' object does not support indexing\n",
      "1\n",
      "4\n"
     ]
    }
   ],
   "source": [
    "#Cannot have set as keys. Can have only tuple, and other primitive types\n",
    "try:\n",
    "    d5={{1,2,3}: 5, (1,2,3):7}\n",
    "except TypeError as te:\n",
    "    print (\"Got TypeError Exception\", te)\n",
    "    pass\n",
    "try:\n",
    "    d5 = {1: 2, 3:4, 5:6}\n",
    "    print (d5.keys()[0])\n",
    "except TypeError as te:\n",
    "    print (\"Got TypeError Exception\", te)\n",
    "    print ((list)(d5.keys())[0])\n",
    "    print ((list)(d5.values())[1])\n",
    "    \n",
    "#print ((list)(k)[2])"
   ]
  },
  {
   "cell_type": "code",
   "execution_count": 1,
   "metadata": {},
   "outputs": [
    {
     "data": {
      "text/plain": [
       "True"
      ]
     },
     "execution_count": 1,
     "metadata": {},
     "output_type": "execute_result"
    }
   ],
   "source": [
    "#Check for equality of two dicts, order does not matter\n",
    "d1= {1:2, 2:3, 4:5}\n",
    "d2 = {4:5, 2:3, 1:2}\n",
    "d1==d2"
   ]
  },
  {
   "cell_type": "code",
   "execution_count": null,
   "metadata": {},
   "outputs": [],
   "source": []
  }
 ],
 "metadata": {
  "kernelspec": {
   "display_name": "Python 3",
   "language": "python",
   "name": "python3"
  },
  "language_info": {
   "codemirror_mode": {
    "name": "ipython",
    "version": 3
   },
   "file_extension": ".py",
   "mimetype": "text/x-python",
   "name": "python",
   "nbconvert_exporter": "python",
   "pygments_lexer": "ipython3",
   "version": "3.6.2"
  }
 },
 "nbformat": 4,
 "nbformat_minor": 2
}
