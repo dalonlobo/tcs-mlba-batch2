{
 "cells": [
  {
   "cell_type": "code",
   "execution_count": 1,
   "metadata": {},
   "outputs": [],
   "source": [
    "import numpy as np\n",
    "import pandas as pd"
   ]
  },
  {
   "cell_type": "code",
   "execution_count": 2,
   "metadata": {},
   "outputs": [],
   "source": [
    "'''\n",
    "Now you will read a dataset for Machine Learning using pandas\n",
    "'''\n",
    "def readData (filename, col, outputColIndex, delim=\"\\t\"):\n",
    "    '''\n",
    "    input: filename to read\n",
    "            columns to read\n",
    "            outputColIndex\n",
    "            delimiter\n",
    "    Task: Read the csv file, and store them dataframes\n",
    "            Convert the data to numpy\n",
    "    Output: x_train, y_train\n",
    "    \n",
    "    '''\n",
    "    ### Write your code here. 6 lines of code\n",
    "    # read the csv file\n",
    "    # create separate data set for features, and separate for Y. The features column has been given\n",
    "    # let the feature vector be x_train, and yval be y_train\n",
    "    #Return x_train, y_train\n",
    "    features = col[: len(col)-1]\n",
    "    dfFull = pd.read_csv(filename, names = col, delimiter = delim)\n",
    "    \n",
    "    Y = col[outputColIndex]\n",
    "    dfX = dfFull[features]\n",
    "    dfY = dfFull [Y]\n",
    "    x_train, y_train = np.array(dfX), np.array(dfY)\n",
    "    print (x_train.shape)\n",
    "    return x_train, y_train\n",
    "    "
   ]
  },
  {
   "cell_type": "code",
   "execution_count": 3,
   "metadata": {},
   "outputs": [
    {
     "name": "stdout",
     "output_type": "stream",
     "text": [
      "(1503, 5)\n"
     ]
    },
    {
     "data": {
      "text/plain": [
       "(array([[8.00000e+02, 0.00000e+00, 3.04800e-01, 7.13000e+01, 2.66337e-03],\n",
       "        [1.00000e+03, 0.00000e+00, 3.04800e-01, 7.13000e+01, 2.66337e-03],\n",
       "        [1.25000e+03, 0.00000e+00, 3.04800e-01, 7.13000e+01, 2.66337e-03],\n",
       "        ...,\n",
       "        [4.00000e+03, 1.56000e+01, 1.01600e-01, 3.96000e+01, 5.28487e-02],\n",
       "        [5.00000e+03, 1.56000e+01, 1.01600e-01, 3.96000e+01, 5.28487e-02],\n",
       "        [6.30000e+03, 1.56000e+01, 1.01600e-01, 3.96000e+01, 5.28487e-02]]),\n",
       " array([126.201, 125.201, 125.951, ..., 106.604, 106.224, 104.204]))"
      ]
     },
     "execution_count": 3,
     "metadata": {},
     "output_type": "execute_result"
    }
   ],
   "source": [
    "cols = ['Frequency', 'AngleOfAttack', 'ChordLength', 'FreeStreamVelocity', 'SuctionSideDisplacementThickness', \n",
    "        'ScaledSoundPressureLevel']\n",
    "filename='airfoil_self_noise.dat.txt'\n",
    "readData(filename, cols, 5)"
   ]
  },
  {
   "cell_type": "code",
   "execution_count": null,
   "metadata": {},
   "outputs": [],
   "source": []
  },
  {
   "cell_type": "code",
   "execution_count": null,
   "metadata": {},
   "outputs": [],
   "source": []
  }
 ],
 "metadata": {
  "kernelspec": {
   "display_name": "Python 3",
   "language": "python",
   "name": "python3"
  },
  "language_info": {
   "codemirror_mode": {
    "name": "ipython",
    "version": 3
   },
   "file_extension": ".py",
   "mimetype": "text/x-python",
   "name": "python",
   "nbconvert_exporter": "python",
   "pygments_lexer": "ipython3",
   "version": "3.6.2"
  }
 },
 "nbformat": 4,
 "nbformat_minor": 2
}
