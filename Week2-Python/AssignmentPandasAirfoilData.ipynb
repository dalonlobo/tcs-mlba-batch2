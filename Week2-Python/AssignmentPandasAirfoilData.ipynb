{
 "cells": [
  {
   "cell_type": "code",
   "execution_count": 1,
   "metadata": {},
   "outputs": [],
   "source": [
    "import numpy as np\n",
    "import pandas as pd"
   ]
  },
  {
   "cell_type": "code",
   "execution_count": 4,
   "metadata": {},
   "outputs": [],
   "source": [
    "'''\n",
    "Now you will read a dataset for Machine Learning using pandas\n",
    "'''\n",
    "def readData (filename, col, outputColIndex, delim=\"\\t\"):\n",
    "    '''\n",
    "    input: filename to read\n",
    "            columns to read\n",
    "            outputColIndex\n",
    "            delimiter\n",
    "    Task: Read the csv file, and store them dataframes\n",
    "            Convert the data to numpy\n",
    "    Output: x_train, y_train\n",
    "    \n",
    "    '''\n",
    "    ### Write your code here. 6 lines of code\n",
    "    # read the csv file using the col as names\n",
    "    # create separate data set for features, and separate for Y. The features column has been given\n",
    "    # let the feature vector be x_train, and yval be y_train\n",
    "    #Return x_train, y_train\n",
    "    features = col[: len(col)-1]\n",
    "\n",
    "    print (x_train.shape)\n",
    "    return #x_train, y_train\n",
    "    "
   ]
  },
  {
   "cell_type": "code",
   "execution_count": 5,
   "metadata": {},
   "outputs": [
    {
     "name": "stdout",
     "output_type": "stream",
     "text": [
      "(1503, 5)\n"
     ]
    }
   ],
   "source": [
    "cols = ['Frequency', 'AngleOfAttack', 'ChordLength', 'FreeStreamVelocity', 'SuctionSideDisplacementThickness', \n",
    "        'ScaledSoundPressureLevel']\n",
    "filename='airfoil_self_noise.dat.txt'\n",
    "readData(filename, cols, 5)"
   ]
  },
  {
   "cell_type": "code",
   "execution_count": null,
   "metadata": {},
   "outputs": [],
   "source": []
  }
 ],
 "metadata": {
  "kernelspec": {
   "display_name": "Python 3",
   "language": "python",
   "name": "python3"
  },
  "language_info": {
   "codemirror_mode": {
    "name": "ipython",
    "version": 3
   },
   "file_extension": ".py",
   "mimetype": "text/x-python",
   "name": "python",
   "nbconvert_exporter": "python",
   "pygments_lexer": "ipython3",
   "version": "3.6.2"
  }
 },
 "nbformat": 4,
 "nbformat_minor": 2
}
