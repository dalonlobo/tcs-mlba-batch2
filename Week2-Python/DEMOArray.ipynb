{
 "cells": [
  {
   "cell_type": "code",
   "execution_count": 1,
   "metadata": {},
   "outputs": [
    {
     "name": "stdout",
     "output_type": "stream",
     "text": [
      "len(b) 16\n",
      "len(b[0]) 5\n",
      "b[1::2]= [[11, 22, 33, 44, 55], [100, 200, 300, 400, 500], [20, 30, 40, 50, 60], [77, 88, 99, 100, 1100], [71, 81, 91, 101, 111], [1011, 2011, 3011, 401, 5011], [1, 2, 3, 4, 5], [151, 251, 351, 451, 551]]\n",
      "b[1:: 2][2:7:2]= [[20, 30, 40, 50, 60], [71, 81, 91, 101, 111], [1, 2, 3, 4, 5]]\n",
      "b[1:: 2][2:7:2][1]= [71, 81, 91, 101, 111]\n"
     ]
    }
   ],
   "source": [
    "'''\n",
    "Python array.\n",
    "Supports splicing in 1 dimension only\n",
    "For multi dimension axis splicing use np\n",
    "'''\n",
    "b =   [\n",
    "                [1,2,3,4,5],\n",
    "                [11,22,33,44,55],\n",
    "                [111,222,333,444,555],\n",
    "                [100,200,300,400,500],\n",
    "                [1000,2000,3000,4000,5000],\n",
    "                [20,30,40,50,60],\n",
    "                [7,8,9,10,11],\n",
    "                [77,88,99,100,1100],\n",
    "                [101,201,301,401,501],\n",
    "                [71, 81, 91, 101, 111],\n",
    "                [771, 881, 991, 1001, 11001],\n",
    "                [1011, 2011, 3011, 401, 5011],\n",
    "                [10111, 20111, 30111, 4011, 50111],\n",
    "                [1, 2, 3, 4, 5],\n",
    "                [15, 25, 35, 45, 55],\n",
    "                [151, 251, 351, 451, 551],\n",
    "]\n",
    "print (\"len(b)\", len(b))\n",
    "print (\"len(b[0])\", len(b[0]))\n",
    "print (\"b[1::2]=\", b[1::2])\n",
    "print(\"b[1:: 2][2:7:2]=\", b[1:: 2][2:7:2])\n",
    "print(\"b[1:: 2][2:7:2][1]=\", b[1:: 2][2:7:2][1])"
   ]
  },
  {
   "cell_type": "code",
   "execution_count": null,
   "metadata": {},
   "outputs": [],
   "source": []
  }
 ],
 "metadata": {
  "kernelspec": {
   "display_name": "Python 3",
   "language": "python",
   "name": "python3"
  },
  "language_info": {
   "codemirror_mode": {
    "name": "ipython",
    "version": 3
   },
   "file_extension": ".py",
   "mimetype": "text/x-python",
   "name": "python",
   "nbconvert_exporter": "python",
   "pygments_lexer": "ipython3",
   "version": "3.6.2"
  }
 },
 "nbformat": 4,
 "nbformat_minor": 2
}
