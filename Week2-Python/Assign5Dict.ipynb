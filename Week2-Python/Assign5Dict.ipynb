{
 "cells": [
  {
   "cell_type": "code",
   "execution_count": null,
   "metadata": {},
   "outputs": [],
   "source": [
    "#ANother example in working with dictionary"
   ]
  },
  {
   "cell_type": "code",
   "execution_count": null,
   "metadata": {},
   "outputs": [],
   "source": [
    "#Write a function which will return a string based on the type of the parameter' type\n",
    "#Use the following conditions:\n",
    "#int=>\"I have the biggest number\"\n",
    "#float=> \"I can do all divisions\"\n",
    "#str=>\"I am the most powerful string\"\n",
    "#complex => \" I have a complex personality\"\n",
    "#others=> \"I am an unknown type\"\n",
    "# Can you do this using dictionary?"
   ]
  },
  {
   "cell_type": "code",
   "execution_count": null,
   "metadata": {},
   "outputs": [],
   "source": [
    "def whoAmIUsingDict(a):\n",
    "    returnStr = \"\"\n",
    "    #How do you determine the type of a variable? \n",
    "    # Create a dictionary variable with these values stored\n",
    "    \n",
    "    ### Code to create a dictionary with 5 keys and 5 values \n",
    "    \n",
    "    ### Code to create a dictionary with 5 keys and 5 values \n",
    "\n",
    "    \n",
    "    ### Write  1 line of code to get the correct string\n",
    "    \n",
    "    ### Write  1 line of code to get the correct string\n",
    "    \n",
    "    return returnStr"
   ]
  },
  {
   "cell_type": "code",
   "execution_count": null,
   "metadata": {},
   "outputs": [],
   "source": [
    "print(whoAmIUsingDict(\"Hello\"))\n",
    "print(whoAmIUsingDict(\"123\"))\n",
    "print(whoAmIUsingDict(12))\n",
    "print(whoAmIUsingDict(145.32))\n",
    "print(whoAmIUsingDict(10+3j))\n",
    "print(whoAmIUsingDict((1,2,3)))"
   ]
  }
 ],
 "metadata": {
  "kernelspec": {
   "display_name": "Python 3",
   "language": "python",
   "name": "python3"
  },
  "language_info": {
   "codemirror_mode": {
    "name": "ipython",
    "version": 3
   },
   "file_extension": ".py",
   "mimetype": "text/x-python",
   "name": "python",
   "nbconvert_exporter": "python",
   "pygments_lexer": "ipython3",
   "version": "3.6.2"
  }
 },
 "nbformat": 4,
 "nbformat_minor": 2
}
