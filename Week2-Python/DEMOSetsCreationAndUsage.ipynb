{
 "cells": [
  {
   "cell_type": "markdown",
   "metadata": {},
   "source": [
    "# This demonstrated the Sets, its creation, and functions"
   ]
  },
  {
   "cell_type": "code",
   "execution_count": 3,
   "metadata": {},
   "outputs": [],
   "source": [
    "def funIter(s):\n",
    "    print (\"funIter::\", s)\n",
    "    for i in s:\n",
    "        print (\"funIter::\", i, type(i))\n",
    "    print (\"funIter::Exit\\n\")"
   ]
  },
  {
   "cell_type": "code",
   "execution_count": 7,
   "metadata": {},
   "outputs": [
    {
     "name": "stdout",
     "output_type": "stream",
     "text": [
      "funIter:: {100, (1+2j), (123, 456, 789), b'Hi', 123.4, 'Hello'}\n",
      "funIter:: 100 <class 'int'>\n",
      "funIter:: (1+2j) <class 'complex'>\n",
      "funIter:: (123, 456, 789) <class 'tuple'>\n",
      "funIter:: b'Hi' <class 'bytes'>\n",
      "funIter:: 123.4 <class 'float'>\n",
      "funIter:: Hello <class 'str'>\n",
      "funIter::Exit\n",
      "\n"
     ]
    }
   ],
   "source": [
    "s ={1+2j, 100, (123,456,789), 123.4, \"Hello\", b\"Hi\", b\"Hello\"}\n",
    "funIter(s)\n"
   ]
  },
  {
   "cell_type": "code",
   "execution_count": 22,
   "metadata": {},
   "outputs": [
    {
     "name": "stdout",
     "output_type": "stream",
     "text": [
      "s1 after adding 10 {10} 1\n",
      "s1 after adding 20 {10, 20} 2\n",
      "s1 after adding 20 again {10, 20} 2\n"
     ]
    }
   ],
   "source": [
    "#Adding elements to a set\n",
    "s1 =set() #Initializing\n",
    "s1.add(10)\n",
    "print (\"s1 after adding 10\", s1, len (s1))\n",
    "s1.add(20)\n",
    "print (\"s1 after adding 20\", s1, len(s1))\n",
    "s1.add(20)\n",
    "print (\"s1 after adding 20 again\", s1, len(s1))"
   ]
  },
  {
   "cell_type": "code",
   "execution_count": 19,
   "metadata": {},
   "outputs": [],
   "source": [
    "def funTestSetByAdding(e):\n",
    "    try:\n",
    "        s1 = {e}\n",
    "    except TypeError as te:\n",
    "        print (\"Got error\", te, \"while adding\", e,  \"of type\", type(e), \"to set\")\n",
    "        pass\n",
    "#can a set contain set, dict, list?\n"
   ]
  },
  {
   "cell_type": "code",
   "execution_count": 20,
   "metadata": {},
   "outputs": [
    {
     "name": "stdout",
     "output_type": "stream",
     "text": [
      "Got error unhashable type: 'list' while adding [1, 2, 3] of type <class 'list'> to set\n",
      "Got error unhashable type: 'set' while adding {1, 2, 3} of type <class 'set'> to set\n",
      "Got error unhashable type: 'dict' while adding {1: [1, 2, 3]} of type <class 'dict'> to set\n"
     ]
    }
   ],
   "source": [
    "funTestSetByAdding([1,2,3])\n",
    "funTestSetByAdding({1,2,3})\n",
    "funTestSetByAdding({1:[1,2,3]})"
   ]
  },
  {
   "cell_type": "code",
   "execution_count": null,
   "metadata": {},
   "outputs": [],
   "source": [
    "s ={1+2j, 100, (123,456,789), 123.4, \"Hello\", b\"Hi\", b\"Hello\".decode(\"ASCII\")"
   ]
  },
  {
   "cell_type": "code",
   "execution_count": 47,
   "metadata": {},
   "outputs": [
    {
     "name": "stdout",
     "output_type": "stream",
     "text": [
      "s1 ==s2 True s1 ==s3 True s1 ==s4 True s2==s4 True\n",
      "s1 ==s2 True\n",
      "s1 ==s3 True\n",
      "s1 ==s4 True\n",
      "s2 ==s4 True\n"
     ]
    }
   ],
   "source": [
    "s1 = {1,2,3}\n",
    "s2 = { 2, 3, 1, 2, 1}\n",
    "s3 = {1,2,3}\n",
    "s4=s2\n",
    "print (\"s1 ==s2\", s1 ==s2, \"s1 ==s3\", s1 ==s3, \"s1 ==s4\", s1 ==s4, \"s2==s4\", s2==s4)\n",
    "d = {\"s1 ==s2\": s1 ==s2, \"s1 ==s3\": s1 ==s3,\"s1 ==s4\": s1 ==s4,\"s2 ==s4\": s4 ==s2 }\n",
    "for i,v in d.items():\n",
    "    print (i, v)\n"
   ]
  },
  {
   "cell_type": "code",
   "execution_count": 31,
   "metadata": {},
   "outputs": [
    {
     "name": "stdout",
     "output_type": "stream",
     "text": [
      "True False True\n"
     ]
    }
   ],
   "source": [
    "#Check whether an element is in set\n",
    "print (2 in s1, 4 in s1, 5 not in s1)"
   ]
  },
  {
   "cell_type": "code",
   "execution_count": 48,
   "metadata": {},
   "outputs": [
    {
     "name": "stdout",
     "output_type": "stream",
     "text": [
      "{1, 2, 3, 5, 6}\n"
     ]
    }
   ],
   "source": [
    "s1.add(5)\n",
    "s1.add(6)\n",
    "print (s1)"
   ]
  },
  {
   "cell_type": "code",
   "execution_count": 50,
   "metadata": {},
   "outputs": [],
   "source": [
    "s2 = {2,6,7,8,9,10}"
   ]
  },
  {
   "cell_type": "code",
   "execution_count": 53,
   "metadata": {},
   "outputs": [
    {
     "name": "stdout",
     "output_type": "stream",
     "text": [
      "s1= {1, 2, 3, 5, 6} s2= {2, 6, 7, 8, 9, 10} s3= {2, 6, 7, 8, 9, 10}\n",
      "u1= {1, 2, 3, 5, 6, 7, 8, 9, 10} u2= {1, 2, 3, 5, 6, 7, 8, 9, 10} ui==u2 True\n"
     ]
    }
   ],
   "source": [
    "#Union\n",
    "u1=set()\n",
    "u1 = s1.union(s2)\n",
    "s3=set()\n",
    "u2=set()\n",
    "u2 = s1|s2\n",
    "s3 |= s2\n",
    "print (\"s1=\", s1, \"s2=\", s2, \"s3=\",s3)\n",
    "print (\"u1=\", u1, \"u2=\", u2, \"ui==u2\", u1==u2)"
   ]
  },
  {
   "cell_type": "code",
   "execution_count": 57,
   "metadata": {},
   "outputs": [
    {
     "name": "stdout",
     "output_type": "stream",
     "text": [
      "{2, 6}\n",
      "{2, 6}\n"
     ]
    }
   ],
   "source": [
    "#Intersection\n",
    "i1 = s1&s2\n",
    "print (i1)\n",
    "i2 = s1.intersection(s2)\n",
    "print (i2)"
   ]
  },
  {
   "cell_type": "code",
   "execution_count": 58,
   "metadata": {},
   "outputs": [
    {
     "name": "stdout",
     "output_type": "stream",
     "text": [
      "s1 {1, 2, 3, 5, 6}\n",
      "s2 {2, 6, 7, 8, 9, 10}\n",
      "{2, 6}\n"
     ]
    }
   ],
   "source": [
    "s11 =s1.copy()\n",
    "s22=s2.copy()\n",
    "print (\"s1\", s1)\n",
    "print (\"s2\", s2)\n",
    "s1 &= s2\n",
    "print (s1)\n"
   ]
  },
  {
   "cell_type": "code",
   "execution_count": 59,
   "metadata": {},
   "outputs": [
    {
     "name": "stdout",
     "output_type": "stream",
     "text": [
      "{1, 2, 3, 5, 6} {2, 6, 7, 8, 9, 10}\n"
     ]
    }
   ],
   "source": [
    "print (s11, s22)"
   ]
  },
  {
   "cell_type": "code",
   "execution_count": 60,
   "metadata": {},
   "outputs": [
    {
     "name": "stdout",
     "output_type": "stream",
     "text": [
      "{1, 2, 3, 5, 6} {2, 6, 7, 8, 9, 10} {1, 3, 5}\n"
     ]
    }
   ],
   "source": [
    "s1 = s11.copy()\n",
    "s2 = s22.copy()\n",
    "print (s1, s2, s1-s2)#s1-s2, == s1 - s1&s2"
   ]
  },
  {
   "cell_type": "code",
   "execution_count": 65,
   "metadata": {},
   "outputs": [
    {
     "name": "stdout",
     "output_type": "stream",
     "text": [
      "s1<s2 True\n",
      "s1<s3 False\n",
      "s2>s1 True\n",
      "s3>s1 False\n"
     ]
    }
   ],
   "source": [
    "#Do not change values of s1, s2, s3 in this cell\n",
    "s1 = {1,2,3}\n",
    "s2= {1,2,3,4}\n",
    "s3 = {1,2,3}\n",
    "print (\"s1<s2\", s1<s2)#True s1 is proper subset of s2, as s2 has element 4 which is not in s1\n",
    "print (\"s1<s3\", s1<s3)#False It is not propersubset, but ==\n",
    "print (\"s2>s1\", s2>s1) #True\n",
    "print (\"s3>s1\", s3>s1) #False"
   ]
  },
  {
   "cell_type": "code",
   "execution_count": 68,
   "metadata": {},
   "outputs": [
    {
     "name": "stdout",
     "output_type": "stream",
     "text": [
      "s11 {1, 2, 3, 5, 6}\n",
      "s22 {2, 6, 7, 8, 9, 10}\n",
      "s11^s21 {1, 3, 5, 7, 8, 9, 10}\n"
     ]
    }
   ],
   "source": [
    "print (\"s11\", s11)\n",
    "print (\"s22\", s22)\n",
    "print (\"s11^s21\", s11^s22) # s1|s2 - s1&s2 == union (s1, s2)-Intersection(s1,s2)"
   ]
  },
  {
   "cell_type": "code",
   "execution_count": null,
   "metadata": {},
   "outputs": [],
   "source": []
  }
 ],
 "metadata": {
  "kernelspec": {
   "display_name": "Python 3",
   "language": "python",
   "name": "python3"
  },
  "language_info": {
   "codemirror_mode": {
    "name": "ipython",
    "version": 3
   },
   "file_extension": ".py",
   "mimetype": "text/x-python",
   "name": "python",
   "nbconvert_exporter": "python",
   "pygments_lexer": "ipython3",
   "version": "3.6.2"
  }
 },
 "nbformat": 4,
 "nbformat_minor": 2
}
