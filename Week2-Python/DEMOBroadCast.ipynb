{
 "cells": [
  {
   "cell_type": "code",
   "execution_count": 1,
   "metadata": {},
   "outputs": [
    {
     "name": "stdout",
     "output_type": "stream",
     "text": [
      "d.shape=\n",
      " (1,)\n",
      "b= [[1 2 3]\n",
      " [4 5 6]] \n",
      " [1] \n",
      " b + d [[2 3 4]\n",
      " [5 6 7]]\n",
      "\n",
      "d.shape= (3,)\n",
      "b= [[1 2 3]\n",
      " [4 5 6]] \n",
      " [1 2 3] \n",
      " b + d [[2 4 6]\n",
      " [5 7 9]]\n",
      "\n",
      "d.shape=\n",
      " (2, 1)\n",
      "b= [[1 2 3]\n",
      " [4 5 6]] \n",
      " [[1]\n",
      " [2]] \n",
      " b + d [[2 3 4]\n",
      " [6 7 8]]\n"
     ]
    }
   ],
   "source": [
    "import numpy as np\n",
    "b = np.array ([[1, 2, 3],[4, 5, 6]])\n",
    "d = np.array([1])\n",
    "print (\"d.shape=\\n\", d.shape)\n",
    "c= b + d\n",
    "print (\"b=\", b, \"\\n\", d, \"\\n\", \"b + d\", c)\n",
    "\n",
    "\n",
    "d = np.array([1, 2, 3])\n",
    "print (\"\\nd.shape=\", d.shape)\n",
    "c= b + d\n",
    "print (\"b=\", b, \"\\n\", d, \"\\n\", \"b + d\", c)\n",
    "\n",
    "d =np.array([[1], [2] ])\n",
    "print (\"\\nd.shape=\\n\", d.shape)\n",
    "c= b + d\n",
    "print (\"b=\", b, \"\\n\", d, \"\\n\", \"b + d\", c)\n"
   ]
  },
  {
   "cell_type": "code",
   "execution_count": null,
   "metadata": {},
   "outputs": [],
   "source": []
  }
 ],
 "metadata": {
  "kernelspec": {
   "display_name": "Python 3",
   "language": "python",
   "name": "python3"
  },
  "language_info": {
   "codemirror_mode": {
    "name": "ipython",
    "version": 3
   },
   "file_extension": ".py",
   "mimetype": "text/x-python",
   "name": "python",
   "nbconvert_exporter": "python",
   "pygments_lexer": "ipython3",
   "version": "3.6.2"
  }
 },
 "nbformat": 4,
 "nbformat_minor": 2
}
