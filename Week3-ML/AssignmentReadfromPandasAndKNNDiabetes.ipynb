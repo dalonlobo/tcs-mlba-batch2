{
 "cells": [
  {
   "cell_type": "code",
   "execution_count": null,
   "metadata": {},
   "outputs": [],
   "source": [
    "## Welcome to the first ML project\n",
    "## In this project you will read the diabetes data set and predict the likelihood of someone having diabetes using KNN\n",
    "##Following are the steps:\n",
    "## Read the file using pandas into dataframe and return a numpy array (TBD by you)\n",
    "## Pass the filename and features to read (TBD by you)\n",
    "##Use sklearn KNN to train, classify and predict accuracy"
   ]
  },
  {
   "cell_type": "code",
   "execution_count": null,
   "metadata": {},
   "outputs": [],
   "source": [
    "import numpy as np\n",
    "import pandas as pd\n",
    "from sklearn.model_selection import  train_test_split"
   ]
  },
  {
   "cell_type": "code",
   "execution_count": null,
   "metadata": {},
   "outputs": [],
   "source": [
    "## Write a generic function using pandas that will take a filename and columns and use pandas to read the file,\n",
    "## normalize the data, and return the numpy array of training and test data\n",
    "## Complete this function which will take the filename and the columns, read the data into dataframes\n",
    "\n",
    "def LoadData(filename, cols, delim=\",\"):\n",
    "    ##Please fill the features list they are all the elements of colsexcept the last one\n",
    "    features = \"\" \n",
    "    ##Please fill the y_class  they are  the last elements of cols Remember to enclose that in a list\n",
    "    y_class = \"\"\n",
    "\n",
    "    ## Write the code to read from csv file\n",
    "    df = \"\"\n",
    "    \n",
    "    #now assign only features to x_df\n",
    "    x_df = df\n",
    "    #Now assign only y_class to df\n",
    "    y_df = df\n",
    "    \n",
    "    #Now convert to numpy and store in x_data, y_data\n",
    "    x_data = \"\"\n",
    "    y_data = \"\"\n",
    "\n",
    "    #find mean and median\n",
    "    #THis is called normalization and feature scaling\n",
    "    for i in range(x_data.shape[1]):\n",
    "        mean = np.mean(x_data[:,i])\n",
    "        x_data[:,i] -= mean\n",
    "        stddev = np.std(x_data[:, i])\n",
    "        if (stddev != 0):\n",
    "            x_data[:,i] /= stddev\n",
    "\n",
    "    x_data_train, x_data_test, y_data_train, y_data_test = \\\n",
    "        train_test_split(x_data, y_data, test_size=0.2, shuffle=False)\n",
    "    return x_data_train, y_data_train, x_data_test, y_data_test\n"
   ]
  },
  {
   "cell_type": "code",
   "execution_count": null,
   "metadata": {},
   "outputs": [],
   "source": [
    "##Write code to get the filename for \"diabetes.csv\" and columns to pass to this function and call the function\n",
    "## Print the shape of x_data_train, y_data_train, x_data_test, y_data_test"
   ]
  },
  {
   "cell_type": "code",
   "execution_count": null,
   "metadata": {},
   "outputs": [],
   "source": [
    "### Now write code to use K Nearest Neighbor with various model\n",
    "## Use the following model weights = \"distance\", \"uniform\"\n",
    "## Use the following values of k: k= 3, k = 5, k=7, k= 9, k= 11, k = 13, k=15, k=17, k=19 \n",
    "## totally create 18 models and calculate the accuracy for each.\n",
    "## Choose the k that is most accurate with the test data\n",
    "### hint create all these models and store them in a sequential object - tuple, list\n",
    "### then iterate through each item and call the relevant methods (fit, predict, accuracy) to get the score, and store them\n",
    "## Then find the k, and weight that gives the best accuracy on test data"
   ]
  }
 ],
 "metadata": {
  "kernelspec": {
   "display_name": "Python 3",
   "language": "python",
   "name": "python3"
  },
  "language_info": {
   "codemirror_mode": {
    "name": "ipython",
    "version": 3
   },
   "file_extension": ".py",
   "mimetype": "text/x-python",
   "name": "python",
   "nbconvert_exporter": "python",
   "pygments_lexer": "ipython3",
   "version": "3.6.2"
  }
 },
 "nbformat": 4,
 "nbformat_minor": 2
}
