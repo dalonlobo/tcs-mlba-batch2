{
 "cells": [
  {
   "cell_type": "code",
   "execution_count": null,
   "metadata": {},
   "outputs": [],
   "source": [
    "## Write a Credit Card approver which will process the data given here, and given K will return good or bad\n",
    "''''\n",
    "Credit Card Loan Approver\n",
    "2 classes: Good Credit, Bad Credit\n",
    "2 Features: Average Monthly Spend, NumLatePayments\n",
    "We have scaled all the features so that Average Monthly Spend is between 1, and 12, and\n",
    "NumLatePayments is between 1 and 12\n",
    "X axis = NumLatePayments in last 2 years,\n",
    "Y Axis = Avg MonthlySpend in Last2 years\n",
    "TrainingData:\n",
    "{\"Good\": [ (0, 1), (0,2), (0,3), (0,4), (0, 5), (0, 6), (0, 7), (1, 7), (2,7), (2, 10), (3, 10), (4, 12), (1,8), (2, 9), (1, 5), (1,6)],\n",
    "\"Bad\": [ ( 0, 0), (1,1), (1, 2), (1,3), (2,3), (2,4), (3, 4), (3, 5), (3,6), (3,7), (4, 8), (5,6), (5,8), (6, 9), (6,10), (6, 12), (7,12)]\n",
    "\n",
    "'''"
   ]
  },
  {
   "cell_type": "code",
   "execution_count": null,
   "metadata": {},
   "outputs": [],
   "source": [
    "import math\n"
   ]
  },
  {
   "cell_type": "code",
   "execution_count": null,
   "metadata": {},
   "outputs": [],
   "source": [
    "class KNearest(object):\n",
    "    ### Complete this function which will use euclidean distance\n",
    "    def KNearestClassify(self, training_data, test_data_point, k=4):\n",
    "        distance = []\n",
    "        for cls in training_data:\n",
    "            for f in training_data[cls]:\n",
    "                ## Fill the euclid_distance\n",
    "                euclid_dis = 0\n",
    "                ##Now add this to the distance\n",
    "                \n",
    "        ##Now sort the distance and extract k top rows\n",
    "        \n",
    "        \n",
    "        freqGood = 0\n",
    "        freqBad = 0\n",
    "        ###Find the majority class by iterating through each item in distance\n",
    "        for d in distance:\n",
    "            ##Write code here for this\n",
    "            pass\n",
    "        if freqGood > freqBad:\n",
    "            return \"Good\"\n",
    "        else: \n",
    "            return \"Bad\"\n"
   ]
  },
  {
   "cell_type": "code",
   "execution_count": null,
   "metadata": {},
   "outputs": [],
   "source": [
    "TrainingData = {\n",
    "    \"Good\": [ (0, 1), (0,2), (0,3), (0,4), (0, 5), (0, 6), (0, 7), (1, 7), (2,7), (2, 10), (3, 10), (4, 12), (1,8), (2, 9), (1, 5), (1,6)],\n",
    "    \"Bad\": [ ( 0, 0), (1,1), (1, 2), (1,3), (2,3), (2,4), (3, 4), (3, 5), (3,6), (3,7), (4, 8), (5,6), (5,8), (6, 9), (6,10), (6, 12), (7,12)]\n",
    "    }\n",
    "\n",
    "TestData = (5, 2)\n",
    "k = 5\n",
    "KNN = KNearest()\n",
    "clsNearest = KNN.KNearestClassify(TrainingData, TestData, k)\n",
    "print(\"The test point:\", TestData, \"K value = \", k, \"Credit Rating \", clsNearest)\n",
    "k = 9\n",
    "clsNearest = KNN.KNearestClassify(TrainingData, TestData, k)\n",
    "print(\"The test point:\", TestData, \"K value = \", k, \"Credit Rating \", clsNearest)\n"
   ]
  },
  {
   "cell_type": "code",
   "execution_count": null,
   "metadata": {},
   "outputs": [],
   "source": []
  }
 ],
 "metadata": {
  "kernelspec": {
   "display_name": "Python 3",
   "language": "python",
   "name": "python3"
  },
  "language_info": {
   "codemirror_mode": {
    "name": "ipython",
    "version": 3
   },
   "file_extension": ".py",
   "mimetype": "text/x-python",
   "name": "python",
   "nbconvert_exporter": "python",
   "pygments_lexer": "ipython3",
   "version": "3.6.3"
  }
 },
 "nbformat": 4,
 "nbformat_minor": 2
}
