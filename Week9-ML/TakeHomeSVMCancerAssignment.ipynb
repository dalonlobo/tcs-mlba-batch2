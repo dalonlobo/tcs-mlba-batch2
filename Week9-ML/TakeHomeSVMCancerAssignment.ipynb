{
 "cells": [
  {
   "cell_type": "code",
   "execution_count": 1,
   "metadata": {},
   "outputs": [],
   "source": [
    "#import appropriate data sets in sklearn, and use sklearn' svm to fit and predict\n",
    "# Try using linear, rbf, and sigmoid kernel to predict the cancer\n",
    "# Steps:\n",
    "# Import necessary sklearn library\n",
    "# Data set is given to you\n",
    "# That has missing data. Use desriptive methos (from pandas) to find #missing values, and \n",
    "# then fill them\n",
    "# Use appropriate support vector machine classifier and get the prediction and testing accuracy\n"
   ]
  },
  {
   "cell_type": "code",
   "execution_count": null,
   "metadata": {},
   "outputs": [],
   "source": []
  }
 ],
 "metadata": {
  "kernelspec": {
   "display_name": "Python 3",
   "language": "python",
   "name": "python3"
  },
  "language_info": {
   "codemirror_mode": {
    "name": "ipython",
    "version": 3
   },
   "file_extension": ".py",
   "mimetype": "text/x-python",
   "name": "python",
   "nbconvert_exporter": "python",
   "pygments_lexer": "ipython3",
   "version": "3.6.2"
  }
 },
 "nbformat": 4,
 "nbformat_minor": 2
}
