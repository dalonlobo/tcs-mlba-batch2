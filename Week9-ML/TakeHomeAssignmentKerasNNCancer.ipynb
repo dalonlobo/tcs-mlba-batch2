{
 "cells": [
  {
   "cell_type": "code",
   "execution_count": null,
   "metadata": {},
   "outputs": [],
   "source": [
    "'''\n",
    "Take home assignment\n",
    "Objective of this assignment is to use Keras to fit a NN and also play around with data. \n",
    "IN this data some rows have a)missing data, b) wrong data (with maybe a decimal missing causing its\n",
    "value to explode). You will have to process the missing data, handle them by methods taught to you.\n",
    "Use descriptive methos to find #missing drows etc. \n",
    "I have given lung cancer prediction data set. Create a neural network architecture so that you get\n",
    "an accuracy of >93% on the test data. USE KERAS FOR THIS.\n",
    "\n",
    "This dataset has 33 columns. You need to figure out which columns are needed and which not.\n",
    "Use Pandas to read this csv file and create features and output column.\n",
    "Read this data set, use the inclass assignment work where you have created a neural network from\n",
    "the hyper parameter given to construct the neural network, and fit it\n",
    "Figure out what is the loss function, what is the activation function and show case the accuracy.\n",
    "In my test run I got a test accuracy of ~~ 0.95, and training accuracy of ~~ 0.99\n",
    "\n",
    "Please choose your own hyper parameter set: like num epochs, optimizer, loss function, \n",
    "activation function, #Neurons, etc.\n",
    "The name of the file is cancerfile = \"wdbcMissingData.csv\". I have uploaded this file. \n",
    "This is a csv file\n",
    "\n",
    "'''"
   ]
  },
  {
   "cell_type": "code",
   "execution_count": null,
   "metadata": {},
   "outputs": [],
   "source": [
    "cancerfile = \"wdbcMissing.csv\"\n",
    "cols = []\n",
    "#First handle the missing values, and then write the LoadData function\n",
    "x_train, y_train, x_test, y_test =LoadData(cancerfile, 0, cols, delim=\",\", normalize=True)\n",
    "print (x_train.shape, y_train.shape, x_test.shape, y_test.shape)\n"
   ]
  },
  {
   "cell_type": "code",
   "execution_count": null,
   "metadata": {},
   "outputs": [],
   "source": [
    "#Complete this function\n",
    "def CreateModelGeneric(x_train, y_train, hyperParam):\n",
    "    pass"
   ]
  },
  {
   "cell_type": "code",
   "execution_count": null,
   "metadata": {},
   "outputs": [],
   "source": [
    "#Sample hyper parameter\n",
    "hyperParam = {\n",
    "              \"loss\" : \"binary_crossentropy\", \n",
    "              \"metrics\" : \"accuracy\",\n",
    "              \"model_name\": \"CancerModel1\", \n",
    "              \"optimizer\": optimizers.RMSprop,\n",
    "              \"epochs\": 5,\n",
    "              \"learning_rate\": 0.01,\n",
    "              \"batch_size\": 500,\n",
    "              \"inputN\": x_train.shape[1],\n",
    "              \"network\": [{\"layer_name\": \"Input_lay1\", \"neurons\": 50, \"activation\": \"relu\"},\n",
    "                         {\"layer_name\": \"HiddenLayer1\", \"neurons\": 40, \"activation\": \"relu\"},\n",
    "                         {\"layer_name\": \"OutputLayer4\", \"neurons\": 1, \"activation\": \"sigmoid\"}\n",
    "                         ]\n",
    "             }\n",
    "network = CreateModelGeneric(x_train, y_train, hyperParam)\n",
    "#NOw set the appropriate parameters and run this model"
   ]
  }
 ],
 "metadata": {
  "kernelspec": {
   "display_name": "Python 3",
   "language": "python",
   "name": "python3"
  },
  "language_info": {
   "codemirror_mode": {
    "name": "ipython",
    "version": 3
   },
   "file_extension": ".py",
   "mimetype": "text/x-python",
   "name": "python",
   "nbconvert_exporter": "python",
   "pygments_lexer": "ipython3",
   "version": "3.6.2"
  }
 },
 "nbformat": 4,
 "nbformat_minor": 2
}
