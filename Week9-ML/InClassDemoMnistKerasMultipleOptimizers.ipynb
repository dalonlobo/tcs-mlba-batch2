{
 "cells": [
  {
   "cell_type": "code",
   "execution_count": 1,
   "metadata": {},
   "outputs": [
    {
     "name": "stderr",
     "output_type": "stream",
     "text": [
      "c:\\python36\\lib\\site-packages\\h5py\\__init__.py:36: FutureWarning: Conversion of the second argument of issubdtype from `float` to `np.floating` is deprecated. In future, it will be treated as `np.float64 == np.dtype(float).type`.\n",
      "  from ._conv import register_converters as _register_converters\n",
      "Using TensorFlow backend.\n"
     ]
    }
   ],
   "source": [
    "import numpy as np\n",
    "import matplotlib.pyplot as plt \n",
    "import tensorflow as tf\n",
    "import keras\n",
    "from keras  import models, layers, optimizers"
   ]
  },
  {
   "cell_type": "code",
   "execution_count": 2,
   "metadata": {},
   "outputs": [],
   "source": [
    "def mainDriverMNistKeras(opt):\n",
    "    (x_train, y_train), (x_test, y_test) = tf.keras.datasets.mnist.load_data()\n",
    "    x_train = x_train.reshape(x_train.shape[0], x_train.shape[1]*x_train.shape[2])\n",
    "    x_train = x_train/255\n",
    "    x_test = x_test.reshape(x_test.shape[0], x_test.shape[1]*x_test.shape[2])\n",
    "    x_test = x_test/255\n",
    "\n",
    "    y_train_cat = keras.utils.to_categorical(y_train, num_classes=10)\n",
    "    y_test_cat = keras.utils.to_categorical(y_test, num_classes=10)\n",
    "\n",
    "    #Assume you have 3 layers, with 600 units inlayer1, 40 in layer 2, and 10 in layer 3, act=relu, relu, softmax, input shape same\n",
    "    ## Write code to create this model (4 lines of code)\n",
    "    network = models.Sequential()\n",
    "    network.add(layers.Dense(500, activation=\"relu\", input_shape =(28*28,)))\n",
    "    network.add(layers.Dense(30, activation=\"relu\"))\n",
    "    network.add(layers.Dense(10, activation=\"softmax\"))\n",
    "    ## Write code to create this model (4 lines of code)\n",
    "    ## Now take each optimizer passed in the parameter opt and run the model.\n",
    "    ## We need to get the optimizer used and the accuracy for that optimzer\n",
    "    ## Store the performance in a dictionary\n",
    "    OptPerf = {}\n",
    "    for i in opt:\n",
    "        network.compile(optimizer= i[0], loss = \"categorical_crossentropy\", metrics = [\"accuracy\"])\n",
    "        network.fit(x_train, y_train_cat, epochs=3, batch_size=1024)\n",
    "\n",
    "        y_pred_train = network.predict(x_train)\n",
    "        y_pred_train_val = np.argmax(y_pred_train, axis=1)\n",
    "        result_train=(y_pred_train_val == y_train)\n",
    "        y_pred_test = network.predict(x_test)\n",
    "        y_pred_test_val = np.argmax(y_pred_test, axis=1)\n",
    "        result_test=(y_pred_test_val == y_test)\n",
    "        OptPerf[i[1]] = [( np.sum(result_train), np.sum(result_train)/len(result_train)),\n",
    "                         ( np.sum(result_test), np.sum(result_test)/len(result_test))]\n",
    "    print (\"Over RESULTS\", OptPerf)\n",
    "    return OptPerf"
   ]
  },
  {
   "cell_type": "code",
   "execution_count": 3,
   "metadata": {},
   "outputs": [
    {
     "name": "stdout",
     "output_type": "stream",
     "text": [
      "WARNING:tensorflow:From c:\\python36\\lib\\site-packages\\keras\\backend\\tensorflow_backend.py:2755: calling reduce_sum (from tensorflow.python.ops.math_ops) with keep_dims is deprecated and will be removed in a future version.\n",
      "Instructions for updating:\n",
      "keep_dims is deprecated, use keepdims instead\n",
      "WARNING:tensorflow:From c:\\python36\\lib\\site-packages\\keras\\backend\\tensorflow_backend.py:1290: calling reduce_mean (from tensorflow.python.ops.math_ops) with keep_dims is deprecated and will be removed in a future version.\n",
      "Instructions for updating:\n",
      "keep_dims is deprecated, use keepdims instead\n",
      "Epoch 1/3\n",
      "60000/60000 [==============================] - 2s - loss: 0.6339 - acc: 0.8115     \n",
      "Epoch 2/3\n",
      "60000/60000 [==============================] - 2s - loss: 0.2533 - acc: 0.9265     \n",
      "Epoch 3/3\n",
      "60000/60000 [==============================] - 2s - loss: 0.1791 - acc: 0.9474     \n",
      "Over RESULTS {'Rmsprop': [(57599, 0.9599833333333333), (9569, 0.9569)]}\n"
     ]
    }
   ],
   "source": [
    "OptPerf = mainDriverMNistKeras([(optimizers.RMSprop(lr=0.001),  \"Rmsprop\")])"
   ]
  },
  {
   "cell_type": "code",
   "execution_count": 4,
   "metadata": {},
   "outputs": [
    {
     "name": "stdout",
     "output_type": "stream",
     "text": [
      "Epoch 1/3\n",
      "60000/60000 [==============================] - 2s - loss: 0.6102 - acc: 0.8190     \n",
      "Epoch 2/3\n",
      "60000/60000 [==============================] - 2s - loss: 0.2491 - acc: 0.9266     \n",
      "Epoch 3/3\n",
      "60000/60000 [==============================] - 2s - loss: 0.1778 - acc: 0.9480     \n",
      "Epoch 1/3\n",
      "60000/60000 [==============================] - 2s - loss: 0.1223 - acc: 0.9657     \n",
      "Epoch 2/3\n",
      "60000/60000 [==============================] - 3s - loss: 0.1105 - acc: 0.9691     \n",
      "Epoch 3/3\n",
      "60000/60000 [==============================] - 2s - loss: 0.1017 - acc: 0.9715     - ETA: 0s - loss: 0.1023 \n",
      "Epoch 1/3\n",
      "60000/60000 [==============================] - 2s - loss: 0.3015 - acc: 0.9384     \n",
      "Epoch 2/3\n",
      "60000/60000 [==============================] - 2s - loss: 0.0906 - acc: 0.9746     \n",
      "Epoch 3/3\n",
      "60000/60000 [==============================] - 2s - loss: 0.0763 - acc: 0.9784     \n",
      "Epoch 1/3\n",
      "60000/60000 [==============================] - 2s - loss: 0.0713 - acc: 0.9792     \n",
      "Epoch 2/3\n",
      "60000/60000 [==============================] - 2s - loss: 0.0518 - acc: 0.9856     \n",
      "Epoch 3/3\n",
      "60000/60000 [==============================] - 2s - loss: 0.0407 - acc: 0.9888     \n",
      "Epoch 1/3\n",
      "60000/60000 [==============================] - 2s - loss: 0.0374 - acc: 0.9892     \n",
      "Epoch 2/3\n",
      "60000/60000 [==============================] - 2s - loss: 0.0253 - acc: 0.9939     \n",
      "Epoch 3/3\n",
      "60000/60000 [==============================] - 2s - loss: 0.0220 - acc: 0.9947     \n",
      "Epoch 1/3\n",
      "60000/60000 [==============================] - 2s - loss: 0.0727 - acc: 0.9816     \n",
      "Epoch 2/3\n",
      "60000/60000 [==============================] - 2s - loss: 0.0260 - acc: 0.9930     \n",
      "Epoch 3/3\n",
      "60000/60000 [==============================] - 2s - loss: 0.0163 - acc: 0.9960     \n",
      "Epoch 1/3\n",
      "60000/60000 [==============================] - 2s - loss: 0.0115 - acc: 0.9981     \n",
      "Epoch 2/3\n",
      "60000/60000 [==============================] - 2s - loss: 0.0109 - acc: 0.9984     \n",
      "Epoch 3/3\n",
      "60000/60000 [==============================] - 3s - loss: 0.0106 - acc: 0.9985     \n",
      "Over RESULTS {'Rmsprop': [(57514, 0.9585666666666667), (9557, 0.9557)], 'adadelta': [(58449, 0.97415), (9659, 0.9659)], 'adagrad': [(58864, 0.9810666666666666), (9733, 0.9733)], 'adam': [(59441, 0.9906833333333334), (9773, 0.9773)], 'adamax': [(59784, 0.9964), (9814, 0.9814)], 'nadam': [(59872, 0.9978666666666667), (9818, 0.9818)], 'sgd': [(59908, 0.9984666666666666), (9826, 0.9826)]}\n"
     ]
    }
   ],
   "source": [
    "#Good practice to have this protection block to accidentally prevent executing main code\n",
    "if __name__ == \"__main__\":\n",
    "    ## Now set the parameters for opt, and call the keras model to predict and store the prediction accuracy\n",
    "    opt = [(optimizers.RMSprop(lr=0.001),  \"Rmsprop\"), (optimizers.adadelta(), \"adadelta\"),\n",
    "           (optimizers.adagrad(),\"adagrad\" ),\n",
    "           (optimizers.adam(), \"adam\",),\n",
    "           (optimizers.adamax(), \"adamax\"),\n",
    "           (optimizers.nadam(), \"nadam\"),\n",
    "           (optimizers.sgd(), \"sgd\")]\n",
    "    OptPerf = mainDriverMNistKeras(opt)"
   ]
  },
  {
   "cell_type": "code",
   "execution_count": null,
   "metadata": {},
   "outputs": [],
   "source": []
  }
 ],
 "metadata": {
  "kernelspec": {
   "display_name": "Python 3",
   "language": "python",
   "name": "python3"
  },
  "language_info": {
   "codemirror_mode": {
    "name": "ipython",
    "version": 3
   },
   "file_extension": ".py",
   "mimetype": "text/x-python",
   "name": "python",
   "nbconvert_exporter": "python",
   "pygments_lexer": "ipython3",
   "version": "3.6.2"
  }
 },
 "nbformat": 4,
 "nbformat_minor": 2
}
