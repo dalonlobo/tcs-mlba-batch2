{
 "cells": [
  {
   "cell_type": "code",
   "execution_count": null,
   "metadata": {},
   "outputs": [],
   "source": [
    "import sklearn\n",
    "from sklearn import tree\n",
    "from sklearn.tree import DecisionTreeRegressor, DecisionTreeClassifier\n",
    "import numpy as np\n",
    "from sklearn.metrics import accuracy_score"
   ]
  },
  {
   "cell_type": "code",
   "execution_count": null,
   "metadata": {},
   "outputs": [],
   "source": [
    "import LoadData as ld\n",
    "print(ld)"
   ]
  },
  {
   "cell_type": "code",
   "execution_count": null,
   "metadata": {},
   "outputs": [],
   "source": [
    "filename = \"bill_authentication.csv\"\n",
    "cols = [\"Variance\", \"Skewness\", \"Curtosis\", \"Entropy\", \"Class\"]\n",
    "x_train,y_train,x_test,y_test = ld.LoadData(filename, cols, normalize=False)\n",
    "print (x_train.shape, x_test.shape)"
   ]
  },
  {
   "cell_type": "code",
   "execution_count": 18,
   "metadata": {},
   "outputs": [
    {
     "name": "stdout",
     "output_type": "stream",
     "text": [
      "Test data accuracy 0.9854545454545455\n",
      "Train data accuracy 1.0\n",
      "Train Data score 1.0\n"
     ]
    }
   ],
   "source": [
    "## DecisionTreeClassifier gini\n",
    "model = DecisionTreeClassifier(criterion = \"gini\", splitter = \"best\")\n",
    "model.fit(x_train, y_train)\n",
    "y_pred_test = model.predict(x_test)\n",
    "y_pred_train = model.predict(x_train)\n",
    "print (\"Test data accuracy\", accuracy_score(y_test, y_pred_test))\n",
    "print (\"Train data accuracy\", accuracy_score(y_train, y_pred_train))\n",
    "print (\"Train Data score\", model.score(x_train, y_train))"
   ]
  },
  {
   "cell_type": "code",
   "execution_count": 17,
   "metadata": {},
   "outputs": [
    {
     "name": "stdout",
     "output_type": "stream",
     "text": [
      "Train Data score 1.0\n",
      "Train Data score 0.9818181818181818\n"
     ]
    }
   ],
   "source": [
    "print (\"Train Data score\", model.score(x_train, y_train)) #Returns mean accuracy of test samples\n",
    "print (\"Train Data score\", model.score(x_test, y_test))"
   ]
  },
  {
   "cell_type": "code",
   "execution_count": 20,
   "metadata": {},
   "outputs": [
    {
     "name": "stdout",
     "output_type": "stream",
     "text": [
      "Test data accuracy 0.9927272727272727\n",
      "Train data accuracy 1.0\n",
      "Train Data score 1.0\n",
      "Train Data score 0.9927272727272727\n"
     ]
    }
   ],
   "source": [
    "model.set_params(splitter=\"random\")\n",
    "model.fit(x_train, y_train)\n",
    "y_pred_test = model.predict(x_test)\n",
    "y_pred_train = model.predict(x_train)\n",
    "print (\"Test data accuracy\", accuracy_score(y_test, y_pred_test))\n",
    "print (\"Train data accuracy\", accuracy_score(y_train, y_pred_train))\n",
    "print (\"Train Data score\", model.score(x_train, y_train))\n",
    "print (\"Train Data score\", model.score(x_test, y_test))"
   ]
  },
  {
   "cell_type": "code",
   "execution_count": null,
   "metadata": {},
   "outputs": [],
   "source": [
    "models = [(DecisionTreeClassifier(criterion = \"gini\", splitter = \"best\"), \"gini\"),\n",
    "             (DecisionTreeClassifier(criterion=\"entropy\"), \"entropy\")\n",
    "         ]\n",
    "for m in models:\n",
    "    m[0].fit(x_train, y_train)\n",
    "    y_pred_train = (m[0].predict(x_train))\n",
    "    y_pred_test = (m[0].predict(x_test))\n",
    "    print (\"Testing data set, using =  \", m[1], \"Accuracy= \",  accuracy_score(y_test, y_pred_test))\n",
    "    print (\"Training data set, using =  \", m[1], \"Accuracy= \", accuracy_score(y_train, y_pred_train))"
   ]
  },
  {
   "cell_type": "code",
   "execution_count": null,
   "metadata": {},
   "outputs": [],
   "source": []
  }
 ],
 "metadata": {
  "kernelspec": {
   "display_name": "Python 3",
   "language": "python",
   "name": "python3"
  }
 },
 "nbformat": 4,
 "nbformat_minor": 2
}
