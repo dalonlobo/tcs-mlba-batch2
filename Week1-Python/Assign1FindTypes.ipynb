{
 "cells": [
  {
   "cell_type": "markdown",
   "metadata": {},
   "source": [
    "# This will help you understand the types of the object, and work with types of the object"
   ]
  },
  {
   "cell_type": "markdown",
   "metadata": {},
   "source": [
    "# Complete the function which will take a list of arguments, and print only integer, float , string , complex, and bytes parameters"
   ]
  },
  {
   "cell_type": "code",
   "execution_count": null,
   "metadata": {},
   "outputs": [],
   "source": [
    "def funcInt(arguments):\n",
    "    print (\"Entering function funcInt\")\n",
    "    bArg = False\n",
    "    #We are iterating through a collection of all parameters. Do not worry about how we itereate. \n",
    "    #We will learn that soon\n",
    "    for a in arguments:\n",
    "        # Check whether a is int\n",
    "        ###Can do as follows: bArg = ????? 1 line\n",
    "        \n",
    "        ###Can do as follows: bArg = ????? 1 line\n",
    "\n",
    "        if (bArg == True):\n",
    "           print (\"Found an Int\", a)\n",
    "    print (\"Exiting Function\")"
   ]
  },
  {
   "cell_type": "code",
   "execution_count": null,
   "metadata": {},
   "outputs": [],
   "source": [
    "funcInt((123, 123.5, \"12345\", 123+4j, 1-6.0j, 178, 122.0, \"I love python\", b\"I love bytes\"))"
   ]
  },
  {
   "cell_type": "code",
   "execution_count": null,
   "metadata": {},
   "outputs": [],
   "source": [
    "def funcFloat(arguments):\n",
    "    print (\"Entering function funcFloat\")\n",
    "    bArg = False\n",
    "    #We are iterating through a collection of all parameters. Do not worry about how we itereate. \n",
    "    #We will learn that soon\n",
    "    for a in arguments:\n",
    "        # Check whether a is float\n",
    "        ###Can do as follows: bArg = ????? 1 line\n",
    "        \n",
    "        ###Can do as follows: bArg = ????? 1 line\n",
    "        \n",
    "        if (bArg == True):\n",
    "           print (\"Found an Float\",a)\n",
    "    print(\"Exiting Function\")"
   ]
  },
  {
   "cell_type": "code",
   "execution_count": null,
   "metadata": {},
   "outputs": [],
   "source": [
    "def funcString(arguments):\n",
    "    print (\"\\nEntering function funcString\")\n",
    "    bArg = False\n",
    "    #We are iterating through a collection of all parameters. Do not worry about how we itereate. \n",
    "    #We will learn that soon\n",
    "    for a in arguments:\n",
    "        # Check whether a is string        \n",
    "        ###Can do as follows: bArg = ????? 1 line\n",
    "        \n",
    "        ###Can do as follows: bArg = ????? 1 line\n",
    "        \n",
    "        if (bArg == True):\n",
    "            print (\"Found an String\", a)\n",
    "    print(\"Exiting Function\")"
   ]
  },
  {
   "cell_type": "code",
   "execution_count": null,
   "metadata": {},
   "outputs": [],
   "source": [
    "def funcComplex(arguments):\n",
    "    print (\"\\nEntering function funcComplex\")\n",
    "    bArg = False\n",
    "    #We are iterating through a collection of all parameters. Do not worry about how we itereate. \n",
    "    #We will learn that soon\n",
    "    for a in arguments:\n",
    "        # Check whether a is Complex\n",
    "        ###Can do as follows: bArg = ????? 1 line\n",
    "        \n",
    "        ###Can do as follows: bArg = ????? 1 line        \n",
    "        \n",
    "        if (bArg == True):\n",
    "            print (\"Found an Complex\", a)\n",
    "    print(\"Exiting Function\")"
   ]
  },
  {
   "cell_type": "code",
   "execution_count": null,
   "metadata": {},
   "outputs": [],
   "source": [
    "def funcBytes(arguments):\n",
    "    print (\"\\nEntering function funcBytes\")\n",
    "    bArg = False\n",
    "    #We are iterating through a collection of all parameters. Do not worry about how we itereate. \n",
    "    #We will learn that soon\n",
    "    for a in arguments:\n",
    "        # Check whether a is byte\n",
    "        ###Can do as follows: bArg = ????? 1 line\n",
    "        \n",
    "        ###Can do as follows: bArg = ????? 1 line              \n",
    "        if (bArg == True):\n",
    "            print (\"Found a Byte\", a)\n",
    "    print(\"Exiting Function\")"
   ]
  },
  {
   "cell_type": "code",
   "execution_count": null,
   "metadata": {},
   "outputs": [],
   "source": [
    "funcFloat((123, 123.5, \"12345\", 123+4j, 1-6.0j, 178, 122.0, \"I love python\", \"Hi There\", b\"I love bytes\",  b\"I love bytes TOO\"))\n",
    "funcString((123, 123.5, \"12345\", 123+4j, 1-6.0j, 178, 122.0, \"I love python\", \"Hi There\", b\"I love bytes\", b\"I love bytes TOO\"))\n",
    "funcComplex((123, 123.5, \"12345\", 123+4j, 1-6.0j, 178, 122.0, \"I love python\", \"Hi There\", b\"I love bytes\", b\"I love bytes TOO\"))\n",
    "funcBytes((123, 123.5, \"12345\", 123+4j, 1-6.0j, 178, 122.0, \"I love python\", \"Hi There\", b\"I love bytes\", b\"I love bytes TOO\"))"
   ]
  },
  {
   "cell_type": "code",
   "execution_count": null,
   "metadata": {},
   "outputs": [],
   "source": []
  }
 ],
 "metadata": {
  "kernelspec": {
   "display_name": "Python 3",
   "language": "python",
   "name": "python3"
  },
  "language_info": {
   "codemirror_mode": {
    "name": "ipython",
    "version": 3
   },
   "file_extension": ".py",
   "mimetype": "text/x-python",
   "name": "python",
   "nbconvert_exporter": "python",
   "pygments_lexer": "ipython3",
   "version": "3.6.2"
  }
 },
 "nbformat": 4,
 "nbformat_minor": 2
}
