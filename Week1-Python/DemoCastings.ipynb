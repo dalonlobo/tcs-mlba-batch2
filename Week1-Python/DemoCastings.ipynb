{
 "cells": [
  {
   "cell_type": "code",
   "execution_count": null,
   "metadata": {},
   "outputs": [],
   "source": [
    "a = \"123\"\n",
    "print (\"a=\", a, \"type(a)=\", type(a))\n",
    "b = int(a)\n",
    "print (\"b=\", b, \"type(b)=\", type(b))"
   ]
  },
  {
   "cell_type": "code",
   "execution_count": null,
   "metadata": {},
   "outputs": [],
   "source": [
    "a = \"123.45\"\n",
    "print (\"a=\", a, \"type(a)=\", type(a))\n",
    "b = float(a)\n",
    "print (\"b=\", b, \"type(b)=\", type(b))"
   ]
  },
  {
   "cell_type": "code",
   "execution_count": null,
   "metadata": {},
   "outputs": [],
   "source": [
    "a = 123.45\n",
    "print (\"a=\", a, \"type(a)=\", type(a))\n",
    "b = int(a)\n",
    "print (\"b=\", b, \"type(b)=\", type(b))"
   ]
  },
  {
   "cell_type": "code",
   "execution_count": null,
   "metadata": {},
   "outputs": [],
   "source": [
    "a = 123\n",
    "print (\"a=\", a, \"type(a)=\", type(a))\n",
    "b = float(a)\n",
    "print (\"b=\", b, \"type(b)=\", type(b))"
   ]
  },
  {
   "cell_type": "code",
   "execution_count": null,
   "metadata": {},
   "outputs": [],
   "source": []
  }
 ],
 "metadata": {
  "kernelspec": {
   "display_name": "Python 3",
   "language": "python",
   "name": "python3"
  },
  "language_info": {
   "codemirror_mode": {
    "name": "ipython",
    "version": 3
   },
   "file_extension": ".py",
   "mimetype": "text/x-python",
   "name": "python",
   "nbconvert_exporter": "python",
   "pygments_lexer": "ipython3",
   "version": "3.6.2"
  }
 },
 "nbformat": 4,
 "nbformat_minor": 2
}
