{
 "cells": [
  {
   "cell_type": "code",
   "execution_count": null,
   "metadata": {},
   "outputs": [],
   "source": [
    "import sys\n",
    "oldin = sys.stdin #storing the old stdin, and out\n",
    "oldout= sys.stdout"
   ]
  },
  {
   "cell_type": "code",
   "execution_count": null,
   "metadata": {},
   "outputs": [],
   "source": [
    "s = input(\"PLease enter a value\")\n",
    "print (s, type(s))\n"
   ]
  },
  {
   "cell_type": "code",
   "execution_count": null,
   "metadata": {},
   "outputs": [],
   "source": [
    "s = eval(input(\"Please enter\"))\n",
    "print (s, type(s))\n",
    "\n",
    "s = eval(\"1+2\")\n",
    "print (s, type(s))"
   ]
  },
  {
   "cell_type": "markdown",
   "metadata": {},
   "source": [
    "# The following example shows how to re-direct from stdin and stdout"
   ]
  },
  {
   "cell_type": "code",
   "execution_count": null,
   "metadata": {},
   "outputs": [],
   "source": [
    "sys.stdin  =open(\"pytrain_in.txt\", \"r\")\n",
    "sys.stdout = open (\"pytrain_out.txt\", \"a\")\n",
    "s = sys.stdin.readline(10) #prints upto 3 char including \\n\n",
    "print (s, \"The following string should have appeared in stdin but it has been redirected to pytrain_in.txt.>> Hello\")"
   ]
  },
  {
   "cell_type": "markdown",
   "metadata": {},
   "source": [
    "# The following example shows how to redirect back to stdin and stdout"
   ]
  },
  {
   "cell_type": "code",
   "execution_count": null,
   "metadata": {},
   "outputs": [],
   "source": [
    "sys.stdin = oldin\n",
    "sys.stdout = oldout\n",
    "print (\"The following string should have appeared in stdin but it has been redirected to pytrain_in.txt.>> Hello\")"
   ]
  },
  {
   "cell_type": "code",
   "execution_count": null,
   "metadata": {},
   "outputs": [],
   "source": [
    "print(\"hi\")"
   ]
  },
  {
   "cell_type": "code",
   "execution_count": null,
   "metadata": {},
   "outputs": [],
   "source": [
    "a =input()\n",
    "print (a, type(a))"
   ]
  },
  {
   "cell_type": "code",
   "execution_count": null,
   "metadata": {},
   "outputs": [],
   "source": [
    "fl1 = eval(input(\"PLease enter a numerical value\"))\n",
    "flt2 = eval(input(\"PLease enter another numerical value\"))\n",
    "s = fl1+flt2\n",
    "print (s, type(s))\n"
   ]
  },
  {
   "cell_type": "code",
   "execution_count": null,
   "metadata": {},
   "outputs": [],
   "source": []
  },
  {
   "cell_type": "code",
   "execution_count": null,
   "metadata": {},
   "outputs": [],
   "source": []
  }
 ],
 "metadata": {
  "kernelspec": {
   "display_name": "Python 3",
   "language": "python",
   "name": "python3"
  },
  "language_info": {
   "codemirror_mode": {
    "name": "ipython",
    "version": 3
   },
   "file_extension": ".py",
   "mimetype": "text/x-python",
   "name": "python",
   "nbconvert_exporter": "python",
   "pygments_lexer": "ipython3",
   "version": "3.6.2"
  }
 },
 "nbformat": 4,
 "nbformat_minor": 2
}
