{
 "cells": [
  {
   "cell_type": "markdown",
   "metadata": {},
   "source": [
    "# Now write a generic function that will only extract a type specified in the parameter"
   ]
  },
  {
   "cell_type": "code",
   "execution_count": null,
   "metadata": {},
   "outputs": [],
   "source": [
    "def funcTyp(arguments,typ):\n",
    "    print (\"\\nEntering function funcTyp\")\n",
    "    bArg = False\n",
    "    #We are iterating through a collection of all parameters. Do not worry about how we itereate. \n",
    "    #We will learn that soon\n",
    "    for a in arguments:\n",
    "        # Check whether a is of appropriate type as given in \"typ\"\n",
    "        ###Can do as follows: bArg = ????? 1 line\n",
    "        \n",
    "        ###Can do as follows: bArg = ????? 1 line              \n",
    "        if (bArg == True):\n",
    "            print (\"Found the type\", typ, \"and it is \", a)\n",
    "    print(\"Exiting Function\")"
   ]
  },
  {
   "cell_type": "code",
   "execution_count": null,
   "metadata": {},
   "outputs": [],
   "source": [
    "funcTyp((123, 123.5, \"12345\", 123+4j, 1-6.0j, 178, 122.0, \"I love python\", \"Hi There\", b\"I love bytes\",  b\"I love bytes TOO\"), \n",
    "        float)\n",
    "funcTyp((123, 123.5, \"12345\", 123+4j, 1-6.0j, 178, 122.0, \"I love python\", \"Hi There\", b\"I love bytes\",  b\"I love bytes TOO\"), \n",
    "        int)\n",
    "funcTyp((123, 123.5, \"12345\", 123+4j, 1-6.0j, 178, 122.0, \"I love python\", \"Hi There\", b\"I love bytes\",  b\"I love bytes TOO\"), \n",
    "        str)\n",
    "funcTyp((123, 123.5, \"12345\", 123+4j, 1-6.0j, 178, 122.0, \"I love python\", \"Hi There\", b\"I love bytes\",  b\"I love bytes TOO\"), \n",
    "        complex)\n",
    "funcTyp((123, 123.5, \"12345\", 123+4j, 1-6.0j, 178, 122.0, \"I love python\", \"Hi There\", b\"I love bytes\",  b\"I love bytes TOO\"), \n",
    "        bytes)\n"
   ]
  },
  {
   "cell_type": "code",
   "execution_count": null,
   "metadata": {},
   "outputs": [],
   "source": []
  }
 ],
 "metadata": {
  "kernelspec": {
   "display_name": "Python 3",
   "language": "python",
   "name": "python3"
  },
  "language_info": {
   "codemirror_mode": {
    "name": "ipython",
    "version": 3
   },
   "file_extension": ".py",
   "mimetype": "text/x-python",
   "name": "python",
   "nbconvert_exporter": "python",
   "pygments_lexer": "ipython3",
   "version": "3.6.2"
  }
 },
 "nbformat": 4,
 "nbformat_minor": 2
}
