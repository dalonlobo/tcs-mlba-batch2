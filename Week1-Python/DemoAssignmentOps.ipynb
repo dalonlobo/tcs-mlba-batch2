{
 "cells": [
  {
   "cell_type": "markdown",
   "metadata": {},
   "source": [
    "# This will show how assignment operators work"
   ]
  },
  {
   "cell_type": "code",
   "execution_count": 5,
   "metadata": {},
   "outputs": [
    {
     "name": "stdout",
     "output_type": "stream",
     "text": [
      "10\n",
      "after a += 3 13\n",
      "after a +=2**3 21\n"
     ]
    }
   ],
   "source": [
    "a = 10\n",
    "print (a)\n",
    "a += 3\n",
    "print ( \"after a += 3\", a)\n",
    "a +=2**3\n",
    "print (\"after a +=2**3\", a)\n"
   ]
  },
  {
   "cell_type": "code",
   "execution_count": 6,
   "metadata": {},
   "outputs": [
    {
     "name": "stdout",
     "output_type": "stream",
     "text": [
      "21\n",
      "after a//=8 3\n"
     ]
    }
   ],
   "source": [
    "print (a)\n",
    "a //=6\n",
    "print (\"after a//=8\", a)"
   ]
  },
  {
   "cell_type": "code",
   "execution_count": 7,
   "metadata": {},
   "outputs": [
    {
     "name": "stdout",
     "output_type": "stream",
     "text": [
      "after a%=12 5\n"
     ]
    }
   ],
   "source": [
    "a =29\n",
    "a %= 12\n",
    "print (\"after a%=12\", a)"
   ]
  },
  {
   "cell_type": "code",
   "execution_count": 8,
   "metadata": {},
   "outputs": [
    {
     "name": "stdout",
     "output_type": "stream",
     "text": [
      "after a&=16 0\n"
     ]
    }
   ],
   "source": [
    "a = 8\n",
    "a &=16\n",
    "print (\"after a&=16\", a)"
   ]
  },
  {
   "cell_type": "code",
   "execution_count": 9,
   "metadata": {},
   "outputs": [
    {
     "name": "stdout",
     "output_type": "stream",
     "text": [
      "after a |= 16 24\n"
     ]
    }
   ],
   "source": [
    "a = 8\n",
    "a |= 16\n",
    "print (\"after a |= 16\", a)"
   ]
  },
  {
   "cell_type": "code",
   "execution_count": 12,
   "metadata": {},
   "outputs": [
    {
     "name": "stdout",
     "output_type": "stream",
     "text": [
      "0b1111\n"
     ]
    }
   ],
   "source": [
    "a = 15\n",
    "print (bin(a))"
   ]
  },
  {
   "cell_type": "code",
   "execution_count": 15,
   "metadata": {},
   "outputs": [
    {
     "name": "stdout",
     "output_type": "stream",
     "text": [
      "0b1100\n",
      "0b11\n",
      "after a^=11 15\n"
     ]
    }
   ],
   "source": [
    "print (bin(a))\n",
    "print (bin(3))\n",
    "\n",
    "a ^= 3\n",
    "\n",
    "print (\"after a^=11\", a)"
   ]
  },
  {
   "cell_type": "code",
   "execution_count": 16,
   "metadata": {},
   "outputs": [
    {
     "name": "stdout",
     "output_type": "stream",
     "text": [
      "0b1111\n",
      "after a>>=2 3 0b11\n"
     ]
    }
   ],
   "source": [
    "print (bin(a))\n",
    "a >>=2\n",
    "print (\"after a>>=2\",a, bin(a))"
   ]
  },
  {
   "cell_type": "code",
   "execution_count": 17,
   "metadata": {},
   "outputs": [
    {
     "name": "stdout",
     "output_type": "stream",
     "text": [
      "0b11\n",
      "after a<<=2 12 0b1100\n"
     ]
    }
   ],
   "source": [
    "print (bin(a))\n",
    "a <<=2\n",
    "print (\"after a<<=2\",a, bin(a))"
   ]
  },
  {
   "cell_type": "code",
   "execution_count": null,
   "metadata": {},
   "outputs": [],
   "source": []
  }
 ],
 "metadata": {
  "kernelspec": {
   "display_name": "Python 3",
   "language": "python",
   "name": "python3"
  },
  "language_info": {
   "codemirror_mode": {
    "name": "ipython",
    "version": 3
   },
   "file_extension": ".py",
   "mimetype": "text/x-python",
   "name": "python",
   "nbconvert_exporter": "python",
   "pygments_lexer": "ipython3",
   "version": "3.6.2"
  }
 },
 "nbformat": 4,
 "nbformat_minor": 2
}
