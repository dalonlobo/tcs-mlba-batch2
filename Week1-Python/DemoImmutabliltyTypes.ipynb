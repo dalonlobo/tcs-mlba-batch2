{
 "cells": [
  {
   "cell_type": "markdown",
   "metadata": {},
   "source": [
    "# This demo will show immutablity and mutability of types in python\n",
    "#immutable types: int, float, complex, str, bytes, tuple, frozenset\n",
    "#Mutable Types: list, set, dict"
   ]
  },
  {
   "cell_type": "code",
   "execution_count": 12,
   "metadata": {},
   "outputs": [],
   "source": [
    "a = 3\n",
    "b =3.0\n",
    "c =\"123\"\n",
    "d = complex(1,-3j)\n",
    "e = (1,2,3)\n",
    "f = b\"Iam immutable\""
   ]
  },
  {
   "cell_type": "code",
   "execution_count": 13,
   "metadata": {},
   "outputs": [],
   "source": [
    "#How can i know whether a type is mutable or immutable\n",
    "#use id"
   ]
  },
  {
   "cell_type": "code",
   "execution_count": 18,
   "metadata": {},
   "outputs": [
    {
     "name": "stdout",
     "output_type": "stream",
     "text": [
      "a, id(a), type(a) 4 1859897104 <class 'int'>\n",
      "b, id(d), type(b) 2.0 2648772783296 <class 'float'>\n",
      "c, id(c), type(c) 123abc 2648782224328 <class 'str'>\n",
      "d, id(d), type(d) (-1+0j) 2648779794960 <class 'complex'>\n",
      "e, id(e), type(e) (4, 5) 2648780400584 <class 'tuple'>\n",
      "f, id(f), type(f) b'hello' 2648782225496 <class 'bytes'>\n"
     ]
    }
   ],
   "source": [
    "print (\"a, id(a), type(a)\",a, id(a), type(a))\n",
    "print (\"b, id(d), type(b)\",b, id(b),  type(b))\n",
    "print (\"c, id(c), type(c)\",c, id(c),  type(c))\n",
    "print (\"d, id(d), type(d)\",d, id(d),  type(d))\n",
    "print (\"e, id(e), type(e)\",e, id(e),  type(e))\n",
    "print (\"f, id(f), type(f)\",f, id(f),  type(f))\n"
   ]
  },
  {
   "cell_type": "code",
   "execution_count": 15,
   "metadata": {},
   "outputs": [],
   "source": [
    "#Let me now change the variables and then see their memory locations"
   ]
  },
  {
   "cell_type": "code",
   "execution_count": 19,
   "metadata": {},
   "outputs": [],
   "source": [
    "a = a+1\n",
    "b = b-1\n",
    "c = c+ \"abc\"\n",
    "d = complex(1, 2j)\n",
    "e = (4,5)\n",
    "f = b\"hello\""
   ]
  },
  {
   "cell_type": "code",
   "execution_count": 20,
   "metadata": {},
   "outputs": [
    {
     "name": "stdout",
     "output_type": "stream",
     "text": [
      "a, id(a), type(a) 5 1859897136 <class 'int'>\n",
      "b, id(d), type(b) 1.0 2648772783416 <class 'float'>\n",
      "c, id(c), type(c) 123abcabc 2648781655856 <class 'str'>\n",
      "d, id(d), type(d) (-1+0j) 2648779795664 <class 'complex'>\n",
      "e, id(e), type(e) (4, 5) 2648780207240 <class 'tuple'>\n",
      "f, id(f), type(f) b'hello' 2648782205056 <class 'bytes'>\n"
     ]
    }
   ],
   "source": [
    "print (\"a, id(a), type(a)\",a, id(a), type(a))\n",
    "print (\"b, id(d), type(b)\",b, id(b),  type(b))\n",
    "print (\"c, id(c), type(c)\",c, id(c),  type(c))\n",
    "print (\"d, id(d), type(d)\",d, id(d),  type(d))\n",
    "print (\"e, id(e), type(e)\",e, id(e),  type(e))\n",
    "print (\"f, id(f), type(f)\",f, id(f),  type(f))"
   ]
  },
  {
   "cell_type": "code",
   "execution_count": null,
   "metadata": {},
   "outputs": [],
   "source": []
  }
 ],
 "metadata": {
  "kernelspec": {
   "display_name": "Python 3",
   "language": "python",
   "name": "python3"
  },
  "language_info": {
   "codemirror_mode": {
    "name": "ipython",
    "version": 3
   },
   "file_extension": ".py",
   "mimetype": "text/x-python",
   "name": "python",
   "nbconvert_exporter": "python",
   "pygments_lexer": "ipython3",
   "version": "3.6.2"
  }
 },
 "nbformat": 4,
 "nbformat_minor": 2
}
