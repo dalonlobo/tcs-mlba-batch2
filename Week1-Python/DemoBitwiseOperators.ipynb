{
 "cells": [
  {
   "cell_type": "code",
   "execution_count": 1,
   "metadata": {},
   "outputs": [
    {
     "name": "stdout",
     "output_type": "stream",
     "text": [
      "bin(a) =  10100 bin(c) =  11110\n",
      "hex(a) =  0x14\n",
      "\n",
      " 10100 \n",
      " &  \n",
      " 11110 \n",
      "  =  \n",
      " 10100\n",
      "\n",
      " 10100 \n",
      " |  \n",
      " 11110 \n",
      "  =  \n",
      " 11110\n",
      "\n",
      " 10100 \n",
      " ^  \n",
      " 11110 \n",
      "  =  \n",
      " 1010\n",
      "10100 \n",
      " >>  \n",
      " 2 \n",
      "  =  \n",
      " 101\n",
      "10100 \n",
      " << \n",
      " 2 \n",
      "  =  \n",
      " 1010000\n"
     ]
    }
   ],
   "source": [
    "a = 20\n",
    "c = 30\n",
    "b_a = bin(a) [2:]\n",
    "b_d= bin (c) [2:]\n",
    "#print (\"type of b = \", type(b))\n",
    "h = hex(a)\n",
    "print (\"bin(a) = \", b_a, \"bin(c) = \", b_d)\n",
    "print (\"hex(a) = \", h)\n",
    "print (\"\\n\", b_a, \"\\n\", \"& \", \"\\n\",b_d, \"\\n\", \" = \", \"\\n\", bin(a & c)[2:])\n",
    "print (\"\\n\", b_a, \"\\n\", \"| \", \"\\n\",b_d, \"\\n\", \" = \", \"\\n\", bin(a | c)[2:])\n",
    "print (\"\\n\", b_a, \"\\n\", \"^ \", \"\\n\",b_d, \"\\n\", \" = \", \"\\n\", bin(a ^ c)[2:])\n",
    "\n",
    "print ( b_a, \"\\n\", \">> \", \"\\n\",2, \"\\n\", \" = \", \"\\n\", bin(a >>2)[2:])\n",
    "print ( b_a, \"\\n\", \"<<\", \"\\n\",2, \"\\n\", \" = \", \"\\n\", bin(a <<2)[2:])"
   ]
  },
  {
   "cell_type": "code",
   "execution_count": null,
   "metadata": {},
   "outputs": [],
   "source": []
  }
 ],
 "metadata": {
  "kernelspec": {
   "display_name": "Python 3",
   "language": "python",
   "name": "python3"
  },
  "language_info": {
   "codemirror_mode": {
    "name": "ipython",
    "version": 3
   },
   "file_extension": ".py",
   "mimetype": "text/x-python",
   "name": "python",
   "nbconvert_exporter": "python",
   "pygments_lexer": "ipython3",
   "version": "3.6.2"
  }
 },
 "nbformat": 4,
 "nbformat_minor": 2
}
