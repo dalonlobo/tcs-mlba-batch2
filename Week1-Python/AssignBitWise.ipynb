{
 "cells": [
  {
   "cell_type": "markdown",
   "metadata": {},
   "source": [
    "# Write a truth tabl for  OR, AND, XOR, and NOT"
   ]
  },
  {
   "cell_type": "code",
   "execution_count": 2,
   "metadata": {},
   "outputs": [],
   "source": [
    "def funTruthAND():\n",
    "    for i in [0,1]:\n",
    "        for j in [0,1]:\n",
    "            ### Write Code for doing i op j. should be i op j : i op j - 1 line\n",
    "            pass\n",
    "            ### Write Code for doing i op j. should be i op j : i op j - 1 line"
   ]
  },
  {
   "cell_type": "code",
   "execution_count": 3,
   "metadata": {},
   "outputs": [],
   "source": [
    "def funTruthOR():\n",
    "    for i in [0,1]:\n",
    "        for j in [0,1]:\n",
    "            ### Write Code for doing i op j. should be i op j : i op j - 1 line\n",
    "            pass\n",
    "            ### Write Code for doing i op j. should be i op j : i op j - 1 line\n"
   ]
  },
  {
   "cell_type": "code",
   "execution_count": 4,
   "metadata": {},
   "outputs": [],
   "source": [
    "def funTruthXOR():\n",
    "    for i in [0,1]:\n",
    "        for j in [0,1]:\n",
    "            ### Write Code for doing i op j. should be i op j : i op j - 1 line\n",
    "            pass\n",
    "            ### Write Code for doing i op j. should be i op j : i op j - 1 line\n"
   ]
  },
  {
   "cell_type": "code",
   "execution_count": 5,
   "metadata": {},
   "outputs": [],
   "source": [
    "def funTruthNOT():\n",
    "    for i in [0,1]:\n",
    "            ### Write Code for doing i op j. should be i op j : i op j - 1 line\n",
    "            pass\n",
    "            ### Write Code for doing i op j. should be i op j : i op j - 1 line\n",
    "        "
   ]
  },
  {
   "cell_type": "code",
   "execution_count": 6,
   "metadata": {},
   "outputs": [],
   "source": [
    "funTruthOR()"
   ]
  },
  {
   "cell_type": "code",
   "execution_count": 7,
   "metadata": {},
   "outputs": [],
   "source": [
    "funTruthAND()"
   ]
  },
  {
   "cell_type": "code",
   "execution_count": 8,
   "metadata": {},
   "outputs": [],
   "source": [
    "funTruthXOR()"
   ]
  },
  {
   "cell_type": "code",
   "execution_count": 9,
   "metadata": {},
   "outputs": [],
   "source": [
    "funTruthNOT()"
   ]
  },
  {
   "cell_type": "code",
   "execution_count": null,
   "metadata": {},
   "outputs": [],
   "source": []
  }
 ],
 "metadata": {
  "kernelspec": {
   "display_name": "Python 3",
   "language": "python",
   "name": "python3"
  },
  "language_info": {
   "codemirror_mode": {
    "name": "ipython",
    "version": 3
   },
   "file_extension": ".py",
   "mimetype": "text/x-python",
   "name": "python",
   "nbconvert_exporter": "python",
   "pygments_lexer": "ipython3",
   "version": "3.6.2"
  }
 },
 "nbformat": 4,
 "nbformat_minor": 2
}
