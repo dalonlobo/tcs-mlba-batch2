{
 "cells": [
  {
   "cell_type": "markdown",
   "metadata": {},
   "source": [
    "# 2  objects  of type int (-5, and 256),  string (short string - interning like in Java), bool having same value will point to same location"
   ]
  },
  {
   "cell_type": "code",
   "execution_count": null,
   "metadata": {},
   "outputs": [],
   "source": [
    "a = 100\n",
    "b = 100\n",
    "print (\"a=\", a, \" and its id=\", id(a), \"type=\", type(a))\n",
    "print (\"b=\", b, \" and its id=\", id(b), \"type=\", type(b))\n",
    "print (\"a==b\", a==b, \"a is b\", a is b)\n",
    "a = True\n",
    "b = True\n",
    "print (\"a=\", a, \" and its id=\", id(a), \"type=\", type(a))\n",
    "print (\"b=\", b, \" and its id=\", id(b), \"type=\", type(b))\n",
    "print (\"a==b\", a==b, \"a is b\", a is b)\n",
    "a = \"Hello\"\n",
    "b = \"Hello\"\n",
    "print (\"a=\", a, \" and its id=\", id(a), \"type=\", type(a))\n",
    "print (\"b=\", b, \" and its id=\", id(b), \"type=\", type(b))\n",
    "print (\"a==b\", a==b, \"a is b\", a is b)\n",
    "b = a\n",
    "a = \"Hi\"\n",
    "print (\"a=\", a, \" and its id=\", id(a), \"type=\", type(a))\n",
    "print (\"b=\", b, \" and its id=\", id(b), \"type=\", type(b))\n",
    "print (\"a==b\", a==b, \"a is b\", a is b)\n"
   ]
  },
  {
   "cell_type": "markdown",
   "metadata": {},
   "source": [
    "# As both values are same, even though different variable refer it, they are pointing to same location, and are alias of each other"
   ]
  },
  {
   "cell_type": "markdown",
   "metadata": {},
   "source": [
    "# Likewise for other mutable objects as well, if they point to the object via \"Aliasing\" changing one will change other"
   ]
  },
  {
   "cell_type": "code",
   "execution_count": null,
   "metadata": {},
   "outputs": [],
   "source": [
    "l = [1, 2, 3, 4]\n",
    "l1 = l\n",
    "print (\"l=\", l, \"its id =\", id(l))\n",
    "print (\"l1=\", l1, \"its id =\", id(l1))\n",
    "print (\"l==l1\", l==l1, \"l is l1\", l is l1)\n",
    "l += [10]\n",
    "print (\"l=\", l, \"its id =\", id(l))\n",
    "print (\"l1=\", l1, \"its id =\", id(l1))\n",
    "print (\"l==l1\", l==l1, \"l is l1\", l is l1)"
   ]
  },
  {
   "cell_type": "markdown",
   "metadata": {},
   "source": [
    "# But Changing the variable l after l1 aliased it  will make the variable l e point to a new location, and l1 to the original location of l"
   ]
  },
  {
   "cell_type": "code",
   "execution_count": null,
   "metadata": {},
   "outputs": [],
   "source": [
    "print (\"l=\", l, \"its id =\", id(l))\n",
    "print (\"l1=\", l1, \"its id =\", id(l1))\n",
    "print (\"l==l1\", l==l1, \"l is l1\", l is l1)\n",
    "l = [2,2,2]\n",
    "print (\"l=\", l, \"its id =\", id(l))\n",
    "print (\"l1=\", l1, \"its id =\", id(l1))\n",
    "print (\"l==l1\", l==l1, \"l is l1\", l is l1)"
   ]
  },
  {
   "cell_type": "code",
   "execution_count": null,
   "metadata": {},
   "outputs": [],
   "source": [
    "t = (1, 2, 3, 4)\n",
    "t1 = t\n",
    "print (\"t=\", t, \"its id =\", id(t))\n",
    "print (\"t1=\", t1, \"its id =\", id(t1))\n",
    "print (\"t==t1\", t==t1, \"t is t1\", t is t1)"
   ]
  },
  {
   "cell_type": "code",
   "execution_count": null,
   "metadata": {},
   "outputs": [],
   "source": []
  }
 ],
 "metadata": {
  "kernelspec": {
   "display_name": "Python 3",
   "language": "python",
   "name": "python3"
  },
  "language_info": {
   "codemirror_mode": {
    "name": "ipython",
    "version": 3
   },
   "file_extension": ".py",
   "mimetype": "text/x-python",
   "name": "python",
   "nbconvert_exporter": "python",
   "pygments_lexer": "ipython3",
   "version": "3.6.2"
  }
 },
 "nbformat": 4,
 "nbformat_minor": 2
}
