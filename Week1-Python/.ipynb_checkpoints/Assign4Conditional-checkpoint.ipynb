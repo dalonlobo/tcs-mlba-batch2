{
 "cells": [
  {
   "cell_type": "code",
   "execution_count": null,
   "metadata": {},
   "outputs": [],
   "source": [
    "#ANother example in working with if else conditions"
   ]
  },
  {
   "cell_type": "code",
   "execution_count": null,
   "metadata": {},
   "outputs": [],
   "source": [
    "#Write a function which will return a string based on the type of the parameter' type\n",
    "#Use the following conditions:\n",
    "#int=>\"I have the biggest number\"\n",
    "#float=> \"I can do all divisions\"\n",
    "#str=>\"I am the most powerful string\"\n",
    "#complex => \" I have a complex personality\"\n",
    "#others=> \"I am an unknown type\"\n",
    "#syntax of if\n",
    "# if cond:\n",
    "#    stmt1\n",
    "# elif cond:\n",
    "    #stmt2\n",
    "# else:"
   ]
  },
  {
   "cell_type": "code",
   "execution_count": null,
   "metadata": {},
   "outputs": [],
   "source": [
    "def whoAmI(a):\n",
    "    returnStr = \"\"\n",
    "    #How do you determine the type of a variable? \n",
    "    ### Write approx 10 lines of code to get the correct string\n",
    "    \n",
    "    ### Write approx 10 lines of code to get the correct string\n",
    "    \n",
    "    return returnStr"
   ]
  },
  {
   "cell_type": "code",
   "execution_count": null,
   "metadata": {},
   "outputs": [],
   "source": [
    "whoAmI(\"Hello\")\n",
    "whoAmI(\"123\")\n",
    "whoAmI(12)\n",
    "whoAmI(145.32)\n",
    "whoAmI(10+3j)\n",
    "whoAmI((1,2,3))"
   ]
  }
 ],
 "metadata": {
  "kernelspec": {
   "display_name": "Python 3",
   "language": "python",
   "name": "python3"
  },
  "language_info": {
   "codemirror_mode": {
    "name": "ipython",
    "version": 3
   },
   "file_extension": ".py",
   "mimetype": "text/x-python",
   "name": "python",
   "nbconvert_exporter": "python",
   "pygments_lexer": "ipython3",
   "version": "3.6.2"
  }
 },
 "nbformat": 4,
 "nbformat_minor": 2
}
