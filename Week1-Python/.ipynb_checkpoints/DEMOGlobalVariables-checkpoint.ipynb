{
 "cells": [
  {
   "cell_type": "code",
   "execution_count": null,
   "metadata": {},
   "outputs": [],
   "source": [
    "def fun():\n",
    "    print (\"a=\", a, \"Its memory location=\",id(a))\n"
   ]
  },
  {
   "cell_type": "code",
   "execution_count": null,
   "metadata": {},
   "outputs": [],
   "source": [
    "a = 10 #globally declared\n",
    "fun()"
   ]
  },
  {
   "cell_type": "code",
   "execution_count": null,
   "metadata": {},
   "outputs": [],
   "source": [
    "def funChangeANoGlobal():\n",
    "#    print (\"a in global, before calling funChangeANoGlobal=\", a, \"Memory Location=\", id(a))\n",
    "    a = 20 # as you declared it, it is taken as local variable and not global\n",
    "    print (\"In funChangeANoGlobal, after changing a, a=\", a, \"Its memory location=\",id(a))\n",
    "        \n",
    " "
   ]
  },
  {
   "cell_type": "code",
   "execution_count": null,
   "metadata": {},
   "outputs": [],
   "source": [
    "a = 100\n",
    "print (\"a in global, before calling funChangeANoGlobal=\", a, \"Memory Location=\", id(a))\n",
    "funChangeANoGlobal()\n",
    "print (\"a in global, after calling funChangeANoGlobal=\", a, \"Memory Location=\", id(a))\n"
   ]
  },
  {
   "cell_type": "code",
   "execution_count": null,
   "metadata": {},
   "outputs": [],
   "source": [
    "def funChangeAGlobal():\n",
    "    global a #now can change a and get it reflected in caller\n",
    "    print (\"a in global, before calling funChangeANoGlobal=\", a, \"Memory Location=\", id(a))\n",
    "    a = 20\n",
    "    print (\"In funChangeANoGlobal, after changing a, a=\", a, \"Its memory location=\",id(a))\n",
    "        \n",
    " "
   ]
  },
  {
   "cell_type": "code",
   "execution_count": null,
   "metadata": {},
   "outputs": [],
   "source": [
    "print (\"a in global, before calling funChangeAGlobal=\", a, \"Memory Location=\", id(a))\n",
    "funChangeAGlobal()\n",
    "print (\"a in global, after calling funChangeAGlobal=\", a, \"Memory Location=\", id(a))\n"
   ]
  },
  {
   "cell_type": "code",
   "execution_count": null,
   "metadata": {},
   "outputs": [],
   "source": []
  }
 ],
 "metadata": {
  "kernelspec": {
   "display_name": "Python 3",
   "language": "python",
   "name": "python3"
  },
  "language_info": {
   "codemirror_mode": {
    "name": "ipython",
    "version": 3
   },
   "file_extension": ".py",
   "mimetype": "text/x-python",
   "name": "python",
   "nbconvert_exporter": "python",
   "pygments_lexer": "ipython3",
   "version": "3.6.2"
  }
 },
 "nbformat": 4,
 "nbformat_minor": 2
}
