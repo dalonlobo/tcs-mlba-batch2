{
 "cells": [
  {
   "cell_type": "code",
   "execution_count": null,
   "metadata": {},
   "outputs": [],
   "source": [
    "a = 20\n",
    "c = 2\n",
    "print(\"bin(a)= \", bin(a), \"type is \", type(bin(a)))\n",
    "b_a = bin(a) [2:]\n",
    "b_d= bin (c) [2:]\n",
    "#print (\"type of b = \", type(b))\n",
    "h = hex(a)\n",
    "\n",
    "print (  \"~ \", b_a,  \" = \",  (~a), \"bin ~\",a, \"==\", bin(~a))\n",
    "print (  \"~ \",b_d, \" = \",  ~c, \"bin==\", bin (~c))\n",
    "print (  b_d,\"&\", \"~\", b_d,\" = \", c& ~c, \"bin==\", bin (c&~c))\n",
    "print (  \"~ 128\",   \" = \",  ~128, \"bin==~128\", bin (~128))\n",
    "\n",
    "c = 10\n",
    "print ( bin(c)[2:], bin(~c)[3:], \"~c==\",~c)\n",
    "\n",
    "c = -10\n",
    "print (\"c =-10, bin(c)\", bin(c), \"bin(~c)=\", bin(~c)[3:], \"~c==\",~c)"
   ]
  },
  {
   "cell_type": "code",
   "execution_count": null,
   "metadata": {},
   "outputs": [],
   "source": []
  }
 ],
 "metadata": {
  "kernelspec": {
   "display_name": "Python 3",
   "language": "python",
   "name": "python3"
  },
  "language_info": {
   "codemirror_mode": {
    "name": "ipython",
    "version": 3
   },
   "file_extension": ".py",
   "mimetype": "text/x-python",
   "name": "python",
   "nbconvert_exporter": "python",
   "pygments_lexer": "ipython3",
   "version": "3.6.2"
  }
 },
 "nbformat": 4,
 "nbformat_minor": 2
}
