{
 "cells": [
  {
   "cell_type": "markdown",
   "metadata": {},
   "source": [
    "# for is used more as an iterator on a collection. For behaviour is different in python compared to other languages. for can be used only on objects that are iterable"
   ]
  },
  {
   "cell_type": "markdown",
   "metadata": {},
   "source": [
    "# Lets see an iterator"
   ]
  },
  {
   "cell_type": "code",
   "execution_count": null,
   "metadata": {},
   "outputs": [],
   "source": [
    "a = \"abc\"\n",
    "iterObj = iter(a)\n",
    "print (iterObj, type(iterObj), type(a))\n",
    "print (next (iterObj))\n",
    "print (next (iterObj))\n",
    "print (next (iterObj))\n",
    "print (\"Now you will get an exception \\\"StopIteration\\\"  when you process an element after the last element!\")\n",
    "print (\"Here you have already processed the last element - c. \")\n",
    "print (\"This is how for loop ends the iteration- on getting \\\"StopIteration\\\" exception\")\n",
    "print (next (iterObj))"
   ]
  },
  {
   "cell_type": "code",
   "execution_count": null,
   "metadata": {},
   "outputs": [],
   "source": [
    "a = [1,2,3]\n",
    "iterObj = iter(a)\n",
    "print (iterObj, type(iterObj), type(a))\n",
    "print (next (iterObj))\n",
    "print (next (iterObj))\n",
    "print (next (iterObj))\n",
    "print (\"Now you will get an exception \\\"StopIteration\\\"  when the end is reached\")\n",
    "print (\"This is how for loop ends the iteration. On getting \\\"StopIteration\\\" exception\")\n",
    "print (next (iterObj))"
   ]
  },
  {
   "cell_type": "code",
   "execution_count": null,
   "metadata": {},
   "outputs": [],
   "source": [
    "#Now lets see for loop in action\n",
    "#Note each iteration of for loop gets the element and not the index"
   ]
  },
  {
   "cell_type": "code",
   "execution_count": null,
   "metadata": {},
   "outputs": [],
   "source": [
    "a = [\"123\", \"456\", 789]\n",
    "for i in a:\n",
    "    print (i, type(i))"
   ]
  },
  {
   "cell_type": "code",
   "execution_count": null,
   "metadata": {},
   "outputs": [],
   "source": [
    "a = [\"123\", \"456\", 789]\n",
    "j = 0\n",
    "for i in a:\n",
    "    print (i, type(i))\n",
    "    print (\"element index=\", j, \"element=\", a[j])\n",
    "    j +=1"
   ]
  },
  {
   "cell_type": "code",
   "execution_count": null,
   "metadata": {},
   "outputs": [],
   "source": [
    "s = {1,2,3}\n",
    "for i in s:\n",
    "    print (i)"
   ]
  },
  {
   "cell_type": "markdown",
   "metadata": {},
   "source": [
    "# Please note while we can use while instead of for for many objects, there are some collections like dict, and set which cannot be directly accessed through an index. For those we have to use only for"
   ]
  },
  {
   "cell_type": "code",
   "execution_count": null,
   "metadata": {},
   "outputs": [],
   "source": [
    "i = 0\n",
    "while i < len(s):\n",
    "    print (s[i])"
   ]
  },
  {
   "cell_type": "code",
   "execution_count": null,
   "metadata": {},
   "outputs": [],
   "source": [
    "d = {1: \"abc\", 2: \"efg\", 3: 5}\n",
    "i = 0\n",
    "while (i < len(d)):\n",
    "    print (d[i])"
   ]
  },
  {
   "cell_type": "code",
   "execution_count": null,
   "metadata": {},
   "outputs": [],
   "source": []
  }
 ],
 "metadata": {
  "kernelspec": {
   "display_name": "Python 3",
   "language": "python",
   "name": "python3"
  },
  "language_info": {
   "codemirror_mode": {
    "name": "ipython",
    "version": 3
   },
   "file_extension": ".py",
   "mimetype": "text/x-python",
   "name": "python",
   "nbconvert_exporter": "python",
   "pygments_lexer": "ipython3",
   "version": "3.6.2"
  }
 },
 "nbformat": 4,
 "nbformat_minor": 2
}
