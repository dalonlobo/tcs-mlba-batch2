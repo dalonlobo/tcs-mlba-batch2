{
 "cells": [
  {
   "attachments": {},
   "cell_type": "markdown",
   "metadata": {},
   "source": [
    "# Write a program that when given a list of numbers, and another item, determines number of times that item occurs in the list."
   ]
  },
  {
   "cell_type": "code",
   "execution_count": null,
   "metadata": {},
   "outputs": [],
   "source": [
    "def fun1(itemToFind, objects):\n",
    "    '''\n",
    "    objects contain all the items,\n",
    "    itemToFind is the item to be found and its count returned\n",
    "    '''\n",
    "    ###Write code here to initialize and find number of items in that object - 4 lines of code\n",
    "\n",
    "    ###Write code here to initialize and find number of items in that object - 4 lines of code\n",
    "    return iCount"
   ]
  },
  {
   "cell_type": "code",
   "execution_count": null,
   "metadata": {},
   "outputs": [],
   "source": [
    "print (fun1(4, [1,2,3,4,5,6,4,4]))\n",
    "print (fun1(\"abc\", [1,2,3,\"abc\",5,6,\"abc\",\"abc\"]))"
   ]
  },
  {
   "cell_type": "code",
   "execution_count": null,
   "metadata": {},
   "outputs": [],
   "source": []
  }
 ],
 "metadata": {
  "kernelspec": {
   "display_name": "Python 3",
   "language": "python",
   "name": "python3"
  },
  "language_info": {
   "codemirror_mode": {
    "name": "ipython",
    "version": 3
   },
   "file_extension": ".py",
   "mimetype": "text/x-python",
   "name": "python",
   "nbconvert_exporter": "python",
   "pygments_lexer": "ipython3",
   "version": "3.6.2"
  }
 },
 "nbformat": 4,
 "nbformat_minor": 2
}
