{
 "cells": [
  {
   "cell_type": "markdown",
   "metadata": {},
   "source": [
    "# Tuples are immutable. What if one their element is a list? Can we then modify the list? Lets find out"
   ]
  },
  {
   "cell_type": "code",
   "execution_count": 3,
   "metadata": {},
   "outputs": [
    {
     "name": "stdout",
     "output_type": "stream",
     "text": [
      "id(tpl1), tpl1 1931878890136 ('abc', 1, 2, [10, 20, 30])\n"
     ]
    }
   ],
   "source": [
    "tpl1 = (\"abc\", 1, 2, [10,20,30])\n",
    "print (\"id(tpl1), tpl1\", id(tpl1), tpl1)\n"
   ]
  },
  {
   "cell_type": "code",
   "execution_count": 4,
   "metadata": {},
   "outputs": [
    {
     "name": "stdout",
     "output_type": "stream",
     "text": [
      "(id(a) 1931793546576\n",
      "id(b) 1931879084744\n",
      "Address of list  =  1931879084744\n",
      "Address of list  =  1931879084744\n",
      "i 0 tpl1[ 0 ]  abc id(tpl1[i] 1931793546576\n",
      "i 1 tpl1[ 1 ]  1 id(tpl1[i] 1868613296\n",
      "i 2 tpl1[ 2 ]  2 id(tpl1[i] 1868613328\n",
      "i 3 tpl1[ 3 ]  [10, 20, 30, 40] id(tpl1[i] 1931879084744\n"
     ]
    }
   ],
   "source": [
    "a = tpl1[0]\n",
    "print (\"(id(a)\",(id(a)))\n",
    "b = tpl1[3]\n",
    "print (\"id(b)\", id(b) )\n",
    "print (\"Address of list before appending = \", id(tpl1[3]))\n",
    "b.append(40)\n",
    "\n",
    "print (\"Address of list after appending = \", id(tpl1[3]))\n",
    "for i in range(len(tpl1)):\n",
    "    print (\"i\", i, \"tpl1[\", i, \"] \", tpl1[i], \"id(tpl1[i]\", id(tpl1[i]))"
   ]
  },
  {
   "cell_type": "code",
   "execution_count": null,
   "metadata": {},
   "outputs": [],
   "source": []
  }
 ],
 "metadata": {
  "kernelspec": {
   "display_name": "Python 3",
   "language": "python",
   "name": "python3"
  },
  "language_info": {
   "codemirror_mode": {
    "name": "ipython",
    "version": 3
   },
   "file_extension": ".py",
   "mimetype": "text/x-python",
   "name": "python",
   "nbconvert_exporter": "python",
   "pygments_lexer": "ipython3",
   "version": "3.6.2"
  }
 },
 "nbformat": 4,
 "nbformat_minor": 2
}
