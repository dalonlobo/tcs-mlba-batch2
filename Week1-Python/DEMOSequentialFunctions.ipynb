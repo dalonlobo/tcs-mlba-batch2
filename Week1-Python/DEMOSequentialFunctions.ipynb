{
 "cells": [
  {
   "cell_type": "markdown",
   "metadata": {},
   "source": [
    "# THis will give a demo of common functions across all sequential data types"
   ]
  },
  {
   "cell_type": "code",
   "execution_count": 3,
   "metadata": {},
   "outputs": [],
   "source": [
    "def executeFun(f, obj):\n",
    "    print (\"Entering executeFun\")\n",
    "    print (obj, type(obj), f(obj))\n",
    "    print (\"Exiting executeFun\")\n",
    "    return f(obj)"
   ]
  },
  {
   "cell_type": "code",
   "execution_count": 2,
   "metadata": {},
   "outputs": [],
   "source": [
    "aStr = \"HelloOne\"\n",
    "bStr = b\"ThisByte\"\n",
    "aL = [1, 2, 3, 4, 5, 6]\n",
    "aT = (1, 2, 3, 4, 5, 6)\n",
    "abaStr = bytearray(bStr)\n",
    "aR = range(1,7,1)"
   ]
  },
  {
   "cell_type": "code",
   "execution_count": 5,
   "metadata": {},
   "outputs": [
    {
     "name": "stdout",
     "output_type": "stream",
     "text": [
      "Entering executeFun\n",
      "HelloOne <class 'str'> 8\n",
      "Exiting executeFun\n",
      "Return from executeFun 8 \n",
      "\n",
      "Entering executeFun\n",
      "b'ThisByte' <class 'bytes'> 8\n",
      "Exiting executeFun\n",
      "Return from executeFun 8 \n",
      "\n",
      "Entering executeFun\n",
      "bytearray(b'ThisByte') <class 'bytearray'> 8\n",
      "Exiting executeFun\n",
      "Return from executeFun 8 \n",
      "\n",
      "Entering executeFun\n",
      "[1, 2, 3, 4, 5, 6] <class 'list'> 6\n",
      "Exiting executeFun\n",
      "Return from executeFun 6 \n",
      "\n",
      "Entering executeFun\n",
      "(1, 2, 3, 4, 5, 6) <class 'tuple'> 6\n",
      "Exiting executeFun\n",
      "Return from executeFun 6 \n",
      "\n",
      "Entering executeFun\n",
      "range(1, 7) <class 'range'> 6\n",
      "Exiting executeFun\n",
      "Return from executeFun 6 \n",
      "\n"
     ]
    }
   ],
   "source": [
    "print (\"Return from executeFun\", executeFun(len, aStr), \"\\n\")\n",
    "print (\"Return from executeFun\", executeFun(len, bStr), \"\\n\")\n",
    "print (\"Return from executeFun\", executeFun(len, abaStr), \"\\n\")\n",
    "print (\"Return from executeFun\", executeFun(len, aL), \"\\n\")\n",
    "print (\"Return from executeFun\", executeFun(len, aT), \"\\n\")\n",
    "print (\"Return from executeFun\", executeFun(len, aR), \"\\n\")"
   ]
  },
  {
   "cell_type": "code",
   "execution_count": 6,
   "metadata": {},
   "outputs": [],
   "source": [
    "def executeIndex(i, obj):\n",
    "    print(\"Entering executeIndex\")\n",
    "    print (\"ith index\", i, \"of obj\", obj, \"is \", obj[i],\"\\nexit executeIndex\")\n",
    "    return obj[i]"
   ]
  },
  {
   "cell_type": "code",
   "execution_count": 7,
   "metadata": {},
   "outputs": [
    {
     "name": "stdout",
     "output_type": "stream",
     "text": [
      "Entering executeIndex\n",
      "ith index 2 of obj HelloOne is  l \n",
      "exit executeIndex\n",
      "Return from executeIndex l \n",
      "\n",
      "Entering executeIndex\n",
      "ith index 2 of obj b'ThisByte' is  105 \n",
      "exit executeIndex\n",
      "Return from executeIndex 105 \n",
      "\n",
      "Entering executeIndex\n",
      "ith index 2 of obj bytearray(b'ThisByte') is  105 \n",
      "exit executeIndex\n",
      "Return from executeIndex 105 \n",
      "\n",
      "Entering executeIndex\n",
      "ith index 2 of obj [1, 2, 3, 4, 5, 6] is  3 \n",
      "exit executeIndex\n",
      "Return from executeIndex 3 \n",
      "\n",
      "Entering executeIndex\n",
      "ith index 2 of obj (1, 2, 3, 4, 5, 6) is  3 \n",
      "exit executeIndex\n",
      "Return from executeIndex 3 \n",
      "\n",
      "Entering executeIndex\n",
      "ith index 2 of obj range(1, 7) is  3 \n",
      "exit executeIndex\n",
      "Return from executeIndex 3 \n",
      "\n"
     ]
    }
   ],
   "source": [
    "print (\"Return from executeIndex\", executeIndex(2, aStr), \"\\n\")\n",
    "print (\"Return from executeIndex\", executeIndex(2, bStr), \"\\n\")\n",
    "print (\"Return from executeIndex\", executeIndex(2, abaStr), \"\\n\")\n",
    "print (\"Return from executeIndex\", executeIndex(2, aL), \"\\n\")\n",
    "print (\"Return from executeIndex\", executeIndex(2, aT), \"\\n\")\n",
    "print (\"Return from executeIndex\", executeIndex(2, aR), \"\\n\")"
   ]
  },
  {
   "cell_type": "code",
   "execution_count": 3,
   "metadata": {},
   "outputs": [
    {
     "name": "stdout",
     "output_type": "stream",
     "text": [
      "Address of aL= 1700750572360\n",
      "[1, 2, 3, 4, 5, 6, 11, 22, 33]\n",
      "Address of aL after = 1700750572360 \n",
      "\n",
      "Address of aStr before = 1700750592088\n",
      "Hello This is a stringAdding another str\n",
      "Address of aStr after = 1700750467888 \n",
      "\n",
      "Address of bStr before = 1700750584720\n",
      "b'This is a Byte objectbyte string object'\n",
      "Address of bStr after = 1700750592088 \n",
      "\n",
      "Address of abaStr before = 1700750619960\n",
      "bytearray(b'This is a Byte objectTHis is another byte string')\n",
      "Address of abaStr after = 1700750619960 \n",
      "\n",
      "Address of aT before = 1700715232904 \n",
      "\n",
      "(1, 2, 3, 4, 5, 6, 11, 22, 33)\n",
      "Address of aT afer= 1700750471360 \n",
      "\n",
      "Address of aR before = 1700750639488 \n",
      "\n",
      "Got exception in aR unsupported operand type(s) for +=: 'range' and 'tuple'\n"
     ]
    }
   ],
   "source": [
    "#Now doing concatenation\n",
    "print (\"Address of aL=\",id(aL))\n",
    "aL += [11,22,33]; print(aL)\n",
    "print (\"Address of aL after =\",id(aL), \"\\n\")\n",
    "\n",
    "print (\"Address of aStr before =\",id(aStr))\n",
    "aStr += \"Adding another str\"; print(aStr)\n",
    "print (\"Address of aStr after =\", id(aStr), \"\\n\")\n",
    "\n",
    "print (\"Address of bStr before =\", id(bStr))\n",
    "bStr += b\"byte string object\"; print(bStr)\n",
    "print (\"Address of bStr after =\", id(bStr), \"\\n\")\n",
    "\n",
    "print (\"Address of abaStr before =\", id(abaStr))\n",
    "abaStr += b\"THis is another byte string\"; print(abaStr)\n",
    "print (\"Address of abaStr after =\", id(abaStr), \"\\n\")\n",
    "\n",
    "print (\"Address of aT before =\", id(aT), \"\\n\")\n",
    "aT += (11,22,33);print(aT)\n",
    "print (\"Address of aT afer=\", id(aT), \"\\n\")\n",
    "\n",
    "try:\n",
    "    print (\"Address of aR before =\", id(aR), \"\\n\")\n",
    "    aR += (11,22,33);print(aR)\n",
    "    print (\"Address of ar afer=\", id(aR), \"\\n\")\n",
    "except TypeError as te:\n",
    "    print (\"Got exception in aR\", te)\n",
    "    pass"
   ]
  },
  {
   "cell_type": "code",
   "execution_count": 4,
   "metadata": {},
   "outputs": [
    {
     "name": "stdout",
     "output_type": "stream",
     "text": [
      "Printing aStr Hello This is a stringAdding another str <class 'str'>\n",
      "Iterating trhough astr H\n",
      "Iterating trhough astr e\n",
      "Iterating trhough astr l\n",
      "Iterating trhough astr l\n",
      "Iterating trhough astr o\n",
      "Iterating trhough astr  \n",
      "Iterating trhough astr T\n",
      "Iterating trhough astr h\n",
      "Iterating trhough astr i\n",
      "Iterating trhough astr s\n",
      "Iterating trhough astr  \n",
      "Iterating trhough astr i\n",
      "Iterating trhough astr s\n",
      "Iterating trhough astr  \n",
      "Iterating trhough astr a\n",
      "Iterating trhough astr  \n",
      "Iterating trhough astr s\n",
      "Iterating trhough astr t\n",
      "Iterating trhough astr r\n",
      "Iterating trhough astr i\n",
      "Iterating trhough astr n\n",
      "Iterating trhough astr g\n",
      "Iterating trhough astr A\n",
      "Iterating trhough astr d\n",
      "Iterating trhough astr d\n",
      "Iterating trhough astr i\n",
      "Iterating trhough astr n\n",
      "Iterating trhough astr g\n",
      "Iterating trhough astr  \n",
      "Iterating trhough astr a\n",
      "Iterating trhough astr n\n",
      "Iterating trhough astr o\n",
      "Iterating trhough astr t\n",
      "Iterating trhough astr h\n",
      "Iterating trhough astr e\n",
      "Iterating trhough astr r\n",
      "Iterating trhough astr  \n",
      "Iterating trhough astr s\n",
      "Iterating trhough astr t\n",
      "Iterating trhough astr r\n",
      "\n",
      "Printing bStr b'This is a Byte objectbyte string object' <class 'bytes'>\n",
      "Iterating trhough astr 84\n",
      "Iterating trhough astr 104\n",
      "Iterating trhough astr 105\n",
      "Iterating trhough astr 115\n",
      "Iterating trhough astr 32\n",
      "Iterating trhough astr 105\n",
      "Iterating trhough astr 115\n",
      "Iterating trhough astr 32\n",
      "Iterating trhough astr 97\n",
      "Iterating trhough astr 32\n",
      "Iterating trhough astr 66\n",
      "Iterating trhough astr 121\n",
      "Iterating trhough astr 116\n",
      "Iterating trhough astr 101\n",
      "Iterating trhough astr 32\n",
      "Iterating trhough astr 111\n",
      "Iterating trhough astr 98\n",
      "Iterating trhough astr 106\n",
      "Iterating trhough astr 101\n",
      "Iterating trhough astr 99\n",
      "Iterating trhough astr 116\n",
      "Iterating trhough astr 98\n",
      "Iterating trhough astr 121\n",
      "Iterating trhough astr 116\n",
      "Iterating trhough astr 101\n",
      "Iterating trhough astr 32\n",
      "Iterating trhough astr 115\n",
      "Iterating trhough astr 116\n",
      "Iterating trhough astr 114\n",
      "Iterating trhough astr 105\n",
      "Iterating trhough astr 110\n",
      "Iterating trhough astr 103\n",
      "Iterating trhough astr 32\n",
      "Iterating trhough astr 111\n",
      "Iterating trhough astr 98\n",
      "Iterating trhough astr 106\n",
      "Iterating trhough astr 101\n",
      "Iterating trhough astr 99\n",
      "Iterating trhough astr 116\n",
      "\n",
      "Printing abaStr bytearray(b'This is a Byte objectTHis is another byte string') <class 'bytearray'>\n",
      "Iterating trhough astr 84\n",
      "Iterating trhough astr 104\n",
      "Iterating trhough astr 105\n",
      "Iterating trhough astr 115\n",
      "Iterating trhough astr 32\n",
      "Iterating trhough astr 105\n",
      "Iterating trhough astr 115\n",
      "Iterating trhough astr 32\n",
      "Iterating trhough astr 97\n",
      "Iterating trhough astr 32\n",
      "Iterating trhough astr 66\n",
      "Iterating trhough astr 121\n",
      "Iterating trhough astr 116\n",
      "Iterating trhough astr 101\n",
      "Iterating trhough astr 32\n",
      "Iterating trhough astr 111\n",
      "Iterating trhough astr 98\n",
      "Iterating trhough astr 106\n",
      "Iterating trhough astr 101\n",
      "Iterating trhough astr 99\n",
      "Iterating trhough astr 116\n",
      "Iterating trhough astr 84\n",
      "Iterating trhough astr 72\n",
      "Iterating trhough astr 105\n",
      "Iterating trhough astr 115\n",
      "Iterating trhough astr 32\n",
      "Iterating trhough astr 105\n",
      "Iterating trhough astr 115\n",
      "Iterating trhough astr 32\n",
      "Iterating trhough astr 97\n",
      "Iterating trhough astr 110\n",
      "Iterating trhough astr 111\n",
      "Iterating trhough astr 116\n",
      "Iterating trhough astr 104\n",
      "Iterating trhough astr 101\n",
      "Iterating trhough astr 114\n",
      "Iterating trhough astr 32\n",
      "Iterating trhough astr 98\n",
      "Iterating trhough astr 121\n",
      "Iterating trhough astr 116\n",
      "Iterating trhough astr 101\n",
      "Iterating trhough astr 32\n",
      "Iterating trhough astr 115\n",
      "Iterating trhough astr 116\n",
      "Iterating trhough astr 114\n",
      "Iterating trhough astr 105\n",
      "Iterating trhough astr 110\n",
      "Iterating trhough astr 103\n",
      "\n",
      "Printing aT (1, 2, 3, 4, 5, 6, 11, 22, 33) <class 'tuple'>\n",
      "Iterating trhough astr 1\n",
      "Iterating trhough astr 2\n",
      "Iterating trhough astr 3\n",
      "Iterating trhough astr 4\n",
      "Iterating trhough astr 5\n",
      "Iterating trhough astr 6\n",
      "Iterating trhough astr 11\n",
      "Iterating trhough astr 22\n",
      "Iterating trhough astr 33\n",
      "\n",
      "Printing aL [1, 2, 3, 4, 5, 6, 11, 22, 33] <class 'list'>\n",
      "Iterating trhough astr 1\n",
      "Iterating trhough astr 2\n",
      "Iterating trhough astr 3\n",
      "Iterating trhough astr 4\n",
      "Iterating trhough astr 5\n",
      "Iterating trhough astr 6\n",
      "Iterating trhough astr 11\n",
      "Iterating trhough astr 22\n",
      "Iterating trhough astr 33\n",
      "\n",
      "Printing aR range(1, 7) <class 'range'>\n",
      "Iterating trhough astr 1\n",
      "Iterating trhough astr 2\n",
      "Iterating trhough astr 3\n",
      "Iterating trhough astr 4\n",
      "Iterating trhough astr 5\n",
      "Iterating trhough astr 6\n"
     ]
    }
   ],
   "source": [
    "print (\"Printing aStr\", aStr, type(aStr))\n",
    "for a in aStr:\n",
    "    print (\"Iterating trhough astr\", a)\n",
    "print (\"\\nPrinting bStr\", bStr, type(bStr))\n",
    "for a in bStr:\n",
    "    print (\"Iterating trhough astr\", a)\n",
    "print (\"\\nPrinting abaStr\", abaStr, type(abaStr))\n",
    "for a in abaStr:\n",
    "    print (\"Iterating trhough astr\", a)\n",
    "print (\"\\nPrinting aT\", aT, type(aT))\n",
    "for a in aT:\n",
    "    print (\"Iterating trhough astr\", a)\n",
    "print (\"\\nPrinting aL\", aL, type(aL))\n",
    "for a in aL:\n",
    "    print (\"Iterating trhough astr\", a)\n",
    "print (\"\\nPrinting aR\", aR, type(aR))\n",
    "for a in aR:\n",
    "    print (\"Iterating trhough astr\", a)\n"
   ]
  },
  {
   "cell_type": "code",
   "execution_count": 8,
   "metadata": {},
   "outputs": [
    {
     "data": {
      "text/plain": [
       "(1, 2, 3, 4, 5, 6, 1, 2, 3, 4, 5, 6)"
      ]
     },
     "execution_count": 8,
     "metadata": {},
     "output_type": "execute_result"
    }
   ],
   "source": [
    "#Now doing a multiplication\n",
    "aT1 =aT *2\n",
    "aT1\n"
   ]
  },
  {
   "cell_type": "code",
   "execution_count": 9,
   "metadata": {},
   "outputs": [
    {
     "name": "stdout",
     "output_type": "stream",
     "text": [
      "[1, 2, 3, 4, 5, 6, 1, 2, 3, 4, 5, 6]\n"
     ]
    }
   ],
   "source": [
    "aL =  aL *2\n",
    "print (aL)"
   ]
  },
  {
   "cell_type": "code",
   "execution_count": 10,
   "metadata": {},
   "outputs": [
    {
     "name": "stdout",
     "output_type": "stream",
     "text": [
      "HelloOneHelloOne\n"
     ]
    }
   ],
   "source": [
    "aStr = aStr * 2\n",
    "print (aStr)"
   ]
  },
  {
   "cell_type": "code",
   "execution_count": 11,
   "metadata": {},
   "outputs": [
    {
     "name": "stdout",
     "output_type": "stream",
     "text": [
      "b'ThisByteThisByte'\n"
     ]
    }
   ],
   "source": [
    "bStr = bStr *2\n",
    "print (bStr)"
   ]
  },
  {
   "cell_type": "code",
   "execution_count": 12,
   "metadata": {},
   "outputs": [
    {
     "name": "stdout",
     "output_type": "stream",
     "text": [
      "bytearray(b'ThisByteThisByte')\n"
     ]
    }
   ],
   "source": [
    "abaStr  = abaStr *2\n",
    "print (abaStr)"
   ]
  },
  {
   "cell_type": "code",
   "execution_count": 13,
   "metadata": {},
   "outputs": [
    {
     "ename": "TypeError",
     "evalue": "unsupported operand type(s) for *: 'range' and 'int'",
     "output_type": "error",
     "traceback": [
      "\u001b[1;31m---------------------------------------------------------------------------\u001b[0m",
      "\u001b[1;31mTypeError\u001b[0m                                 Traceback (most recent call last)",
      "\u001b[1;32m<ipython-input-13-7afc9ba68972>\u001b[0m in \u001b[0;36m<module>\u001b[1;34m()\u001b[0m\n\u001b[1;32m----> 1\u001b[1;33m \u001b[0maR\u001b[0m\u001b[1;33m*\u001b[0m\u001b[1;36m2\u001b[0m\u001b[1;33m\u001b[0m\u001b[0m\n\u001b[0m\u001b[0;32m      2\u001b[0m \u001b[0mprint\u001b[0m\u001b[1;33m(\u001b[0m\u001b[0maR\u001b[0m\u001b[1;33m)\u001b[0m\u001b[1;33m\u001b[0m\u001b[0m\n",
      "\u001b[1;31mTypeError\u001b[0m: unsupported operand type(s) for *: 'range' and 'int'"
     ]
    }
   ],
   "source": [
    "aR*2\n",
    "print(aR)"
   ]
  },
  {
   "cell_type": "code",
   "execution_count": 14,
   "metadata": {},
   "outputs": [],
   "source": [
    "#Slicing"
   ]
  },
  {
   "cell_type": "code",
   "execution_count": 26,
   "metadata": {},
   "outputs": [],
   "source": [
    "#slicing \n",
    "def doSlicing (aT):\n",
    "    as1 = aT[:4]\n",
    "    print (aT, type(aT))\n",
    "    print (\"aT=\", aT, \"aT[:4]\",aT[:4])\n",
    "    print (\"aT=\", aT, \"aT[:4:2]\", aT[:4:2])\n",
    "    print (\"aT=\", aT, \"aT[::2]\", aT[::2])\n",
    "    print (\"aT=\", aT, \"aT[:2:-2]\", aT[:2:-2])\n",
    "    print (\"aT=\", aT, \"aT[::-1]\", aT[::-1])"
   ]
  },
  {
   "cell_type": "code",
   "execution_count": 35,
   "metadata": {},
   "outputs": [],
   "source": [
    "def doSlicingRange (aT):\n",
    "    print (aT, type(aT))\n",
    "    if (type(aT) is range): \n",
    "        print (\"aT=\", list(aT), \"aT[:4]\",list(aT[:4]))\n",
    "        print (\"aT=\", list(aT), \"aT[:4:2]\", list(aT[:4:2]))\n",
    "        print (\"aT=\", list(aT), \"aT[::2]\", list(aT[::2]))\n",
    "        print (\"aT=\", list(aT), \"aT[:2:-2]\", list(aT[:2:-2]))\n",
    "        print (\"aT=\", list(aT), \"aT[::-1]\", list(aT[::-1]))"
   ]
  },
  {
   "cell_type": "code",
   "execution_count": 28,
   "metadata": {},
   "outputs": [
    {
     "name": "stdout",
     "output_type": "stream",
     "text": [
      "(1, 2, 3, 4, 5, 6) <class 'tuple'>\n",
      "aT= (1, 2, 3, 4, 5, 6) aT[:4] (1, 2, 3, 4)\n",
      "aT= (1, 2, 3, 4, 5, 6) aT[:4:2] (1, 3)\n",
      "aT= (1, 2, 3, 4, 5, 6) aT[::2] (1, 3, 5)\n",
      "aT= (1, 2, 3, 4, 5, 6) aT[:2:-2] (6, 4)\n",
      "aT= (1, 2, 3, 4, 5, 6) aT[::-1] (6, 5, 4, 3, 2, 1)\n",
      "[1, 2, 3, 4, 5, 6, 1, 2, 3, 4, 5, 6] <class 'list'>\n",
      "aT= [1, 2, 3, 4, 5, 6, 1, 2, 3, 4, 5, 6] aT[:4] [1, 2, 3, 4]\n",
      "aT= [1, 2, 3, 4, 5, 6, 1, 2, 3, 4, 5, 6] aT[:4:2] [1, 3]\n",
      "aT= [1, 2, 3, 4, 5, 6, 1, 2, 3, 4, 5, 6] aT[::2] [1, 3, 5, 1, 3, 5]\n",
      "aT= [1, 2, 3, 4, 5, 6, 1, 2, 3, 4, 5, 6] aT[:2:-2] [6, 4, 2, 6, 4]\n",
      "aT= [1, 2, 3, 4, 5, 6, 1, 2, 3, 4, 5, 6] aT[::-1] [6, 5, 4, 3, 2, 1, 6, 5, 4, 3, 2, 1]\n",
      "HelloOneHelloOne <class 'str'>\n",
      "aT= HelloOneHelloOne aT[:4] Hell\n",
      "aT= HelloOneHelloOne aT[:4:2] Hl\n",
      "aT= HelloOneHelloOne aT[::2] HlonHlon\n",
      "aT= HelloOneHelloOne aT[:2:-2] eOleeOl\n",
      "aT= HelloOneHelloOne aT[::-1] enOolleHenOolleH\n",
      "b'ThisByteThisByte' <class 'bytes'>\n",
      "aT= b'ThisByteThisByte' aT[:4] b'This'\n",
      "aT= b'ThisByteThisByte' aT[:4:2] b'Ti'\n",
      "aT= b'ThisByteThisByte' aT[::2] b'TiBtTiBt'\n",
      "aT= b'ThisByteThisByte' aT[:2:-2] b'eysheys'\n",
      "aT= b'ThisByteThisByte' aT[::-1] b'etyBsihTetyBsihT'\n",
      "bytearray(b'ThisByteThisByte') <class 'bytearray'>\n",
      "aT= bytearray(b'ThisByteThisByte') aT[:4] bytearray(b'This')\n",
      "aT= bytearray(b'ThisByteThisByte') aT[:4:2] bytearray(b'Ti')\n",
      "aT= bytearray(b'ThisByteThisByte') aT[::2] bytearray(b'TiBtTiBt')\n",
      "aT= bytearray(b'ThisByteThisByte') aT[:2:-2] bytearray(b'eysheys')\n",
      "aT= bytearray(b'ThisByteThisByte') aT[::-1] bytearray(b'etyBsihTetyBsihT')\n"
     ]
    }
   ],
   "source": [
    "doSlicing (aT)\n",
    "doSlicing(aL)\n",
    "doSlicing(aStr)\n",
    "doSlicing (bStr)\n",
    "doSlicing(abaStr)"
   ]
  },
  {
   "cell_type": "code",
   "execution_count": 36,
   "metadata": {},
   "outputs": [
    {
     "name": "stdout",
     "output_type": "stream",
     "text": [
      "range(1, 7) <class 'range'>\n",
      "aT= [1, 2, 3, 4, 5, 6] aT[:4] [1, 2, 3, 4]\n",
      "aT= [1, 2, 3, 4, 5, 6] aT[:4:2] [1, 3]\n",
      "aT= [1, 2, 3, 4, 5, 6] aT[::2] [1, 3, 5]\n",
      "aT= [1, 2, 3, 4, 5, 6] aT[:2:-2] [6, 4]\n",
      "aT= [1, 2, 3, 4, 5, 6] aT[::-1] [6, 5, 4, 3, 2, 1]\n"
     ]
    }
   ],
   "source": [
    "doSlicingRange(aR)"
   ]
  },
  {
   "cell_type": "code",
   "execution_count": 3,
   "metadata": {},
   "outputs": [
    {
     "name": "stdout",
     "output_type": "stream",
     "text": [
      "(1, 2, 3, 4, 5, 6)\n",
      "6\n"
     ]
    }
   ],
   "source": [
    "print (aT)\n",
    "print (aT[-1])"
   ]
  },
  {
   "cell_type": "code",
   "execution_count": 4,
   "metadata": {},
   "outputs": [
    {
     "name": "stdout",
     "output_type": "stream",
     "text": [
      "(3, 4, 5)\n"
     ]
    }
   ],
   "source": [
    "print (aT[-4:-1])"
   ]
  },
  {
   "cell_type": "code",
   "execution_count": 6,
   "metadata": {},
   "outputs": [
    {
     "name": "stdout",
     "output_type": "stream",
     "text": [
      "(6, 5, 4, 3, 2, 1)\n"
     ]
    }
   ],
   "source": [
    "print (aT[-1::-1])"
   ]
  },
  {
   "cell_type": "code",
   "execution_count": null,
   "metadata": {},
   "outputs": [],
   "source": []
  }
 ],
 "metadata": {
  "kernelspec": {
   "display_name": "Python 3",
   "language": "python",
   "name": "python3"
  },
  "language_info": {
   "codemirror_mode": {
    "name": "ipython",
    "version": 3
   },
   "file_extension": ".py",
   "mimetype": "text/x-python",
   "name": "python",
   "nbconvert_exporter": "python",
   "pygments_lexer": "ipython3",
   "version": "3.6.2"
  }
 },
 "nbformat": 4,
 "nbformat_minor": 2
}
